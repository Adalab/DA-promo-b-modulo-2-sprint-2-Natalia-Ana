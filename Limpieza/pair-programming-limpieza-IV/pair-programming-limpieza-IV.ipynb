{
 "cells": [
  {
   "cell_type": "code",
   "execution_count": 1,
   "metadata": {},
   "outputs": [],
   "source": [
    "import pandas as pd\n",
    "import seaborn as sns\n",
    "import matplotlib.pyplot as plt\n",
    "import numpy as np"
   ]
  },
  {
   "cell_type": "code",
   "execution_count": 34,
   "metadata": {},
   "outputs": [],
   "source": [
    "df = pd.read_csv('../../datos/attack_limpio.csv', index_col=0)"
   ]
  },
  {
   "cell_type": "code",
   "execution_count": 19,
   "metadata": {},
   "outputs": [
    {
     "data": {
      "text/html": [
       "<div>\n",
       "<style scoped>\n",
       "    .dataframe tbody tr th:only-of-type {\n",
       "        vertical-align: middle;\n",
       "    }\n",
       "\n",
       "    .dataframe tbody tr th {\n",
       "        vertical-align: top;\n",
       "    }\n",
       "\n",
       "    .dataframe thead th {\n",
       "        text-align: right;\n",
       "    }\n",
       "</style>\n",
       "<table border=\"1\" class=\"dataframe\">\n",
       "  <thead>\n",
       "    <tr style=\"text-align: right;\">\n",
       "      <th></th>\n",
       "      <th>Unnamed: 0</th>\n",
       "      <th>case_number</th>\n",
       "      <th>year</th>\n",
       "      <th>type</th>\n",
       "      <th>country</th>\n",
       "      <th>area</th>\n",
       "      <th>location</th>\n",
       "      <th>activity</th>\n",
       "      <th>name</th>\n",
       "      <th>age</th>\n",
       "      <th>time</th>\n",
       "      <th>species_</th>\n",
       "      <th>href</th>\n",
       "      <th>injury</th>\n",
       "      <th>date</th>\n",
       "      <th>mes</th>\n",
       "      <th>fatal_</th>\n",
       "      <th>sex2</th>\n",
       "      <th>species_tipo</th>\n",
       "      <th>edad</th>\n",
       "    </tr>\n",
       "  </thead>\n",
       "  <tbody>\n",
       "    <tr>\n",
       "      <th>0</th>\n",
       "      <td>0</td>\n",
       "      <td>1800.00.00</td>\n",
       "      <td>1800.0</td>\n",
       "      <td>Unprovoked</td>\n",
       "      <td>SEYCHELLES</td>\n",
       "      <td>St. Anne</td>\n",
       "      <td>NaN</td>\n",
       "      <td>a corsair's boat was overturned</td>\n",
       "      <td>NaN</td>\n",
       "      <td>NaN</td>\n",
       "      <td>NaN</td>\n",
       "      <td>NaN</td>\n",
       "      <td>http://sharkattackfile.net/spreadsheets/pdf_di...</td>\n",
       "      <td>FATAL, all onboard were killed by sharks</td>\n",
       "      <td>1800</td>\n",
       "      <td>NaN</td>\n",
       "      <td>y</td>\n",
       "      <td>F</td>\n",
       "      <td>NaN</td>\n",
       "      <td>NaN</td>\n",
       "    </tr>\n",
       "    <tr>\n",
       "      <th>1</th>\n",
       "      <td>1</td>\n",
       "      <td>1797.05.28.R</td>\n",
       "      <td>1797.0</td>\n",
       "      <td>Unprovoked</td>\n",
       "      <td>NaN</td>\n",
       "      <td>NaN</td>\n",
       "      <td>NaN</td>\n",
       "      <td>Dropped overboard</td>\n",
       "      <td>child</td>\n",
       "      <td>NaN</td>\n",
       "      <td>NaN</td>\n",
       "      <td>NaN</td>\n",
       "      <td>http://sharkattackfile.net/spreadsheets/pdf_di...</td>\n",
       "      <td>FATAL</td>\n",
       "      <td>Reported May-28-1797</td>\n",
       "      <td>May</td>\n",
       "      <td>y</td>\n",
       "      <td>NaN</td>\n",
       "      <td>NaN</td>\n",
       "      <td>NaN</td>\n",
       "    </tr>\n",
       "  </tbody>\n",
       "</table>\n",
       "</div>"
      ],
      "text/plain": [
       "   Unnamed: 0   case_number    year        type     country      area  \\\n",
       "0           0    1800.00.00  1800.0  Unprovoked  SEYCHELLES  St. Anne   \n",
       "1           1  1797.05.28.R  1797.0  Unprovoked         NaN       NaN   \n",
       "\n",
       "  location                         activity   name  age time species_  \\\n",
       "0      NaN  a corsair's boat was overturned    NaN  NaN  NaN      NaN   \n",
       "1      NaN                Dropped overboard  child  NaN  NaN      NaN   \n",
       "\n",
       "                                                href  \\\n",
       "0  http://sharkattackfile.net/spreadsheets/pdf_di...   \n",
       "1  http://sharkattackfile.net/spreadsheets/pdf_di...   \n",
       "\n",
       "                                     injury                  date  mes fatal_  \\\n",
       "0  FATAL, all onboard were killed by sharks                  1800  NaN      y   \n",
       "1                                     FATAL  Reported May-28-1797  May      y   \n",
       "\n",
       "  sex2 species_tipo  edad  \n",
       "0    F          NaN   NaN  \n",
       "1  NaN          NaN   NaN  "
      ]
     },
     "execution_count": 19,
     "metadata": {},
     "output_type": "execute_result"
    }
   ],
   "source": [
    "df.head(2)"
   ]
  },
  {
   "cell_type": "markdown",
   "metadata": {},
   "source": [
    "Lo primero que tenemos que evaluar es en que columnas tenemos nulos y que cantidad tenemos en cada una. ¿Hay alguna columna con una gran cantidad de nulos? En caso de que sea así deberemos eliminarla."
   ]
  },
  {
   "cell_type": "code",
   "execution_count": 7,
   "metadata": {},
   "outputs": [
    {
     "data": {
      "text/plain": [
       "Unnamed: 0         0\n",
       "case_number        1\n",
       "year               0\n",
       "type               4\n",
       "country           50\n",
       "area             456\n",
       "location         542\n",
       "activity         544\n",
       "name             209\n",
       "age             2820\n",
       "time            3364\n",
       "species_        2845\n",
       "href               0\n",
       "injury            28\n",
       "date               0\n",
       "mes              576\n",
       "fatal_           619\n",
       "sex2             569\n",
       "species_tipo    5196\n",
       "edad            2873\n",
       "dtype: int64"
      ]
     },
     "execution_count": 7,
     "metadata": {},
     "output_type": "execute_result"
    }
   ],
   "source": [
    "df.isnull().sum()"
   ]
  },
  {
   "cell_type": "code",
   "execution_count": 8,
   "metadata": {},
   "outputs": [
    {
     "data": {
      "text/plain": [
       "Unnamed: 0       0.000000\n",
       "case_number      0.015803\n",
       "year             0.000000\n",
       "type             0.063211\n",
       "country          0.790139\n",
       "area             7.206068\n",
       "location         8.565107\n",
       "activity         8.596713\n",
       "name             3.302781\n",
       "age             44.563843\n",
       "time            53.160556\n",
       "species_        44.958913\n",
       "href             0.000000\n",
       "injury           0.442478\n",
       "date             0.000000\n",
       "mes              9.102402\n",
       "fatal_           9.781922\n",
       "sex2             8.991783\n",
       "species_tipo    82.111252\n",
       "edad            45.401391\n",
       "dtype: float64"
      ]
     },
     "execution_count": 8,
     "metadata": {},
     "output_type": "execute_result"
    }
   ],
   "source": [
    "df.isnull().sum()*100/df.shape[0]"
   ]
  },
  {
   "cell_type": "markdown",
   "metadata": {},
   "source": [
    "Es el momento de eliminar los nulos:\n",
    "- Reemplazad los valores nulos de la columna age por la media de la edad, redondeada a dos decimales.\n",
    "- En relación a la columna de country al tratarse de una columna de tipo categórica, reemplazad los valores nulos por una nueva categória que se llame Unknown.\n",
    "- Reemplazad los valores nulos de la columna fatal por Unknown.\n",
    "- Reemplazad los valores nulos de la columna type por el valor más frecuente (la moda).\n",
    "- Reemplazad los valores nulos de la columna fecha por Unknown."
   ]
  },
  {
   "cell_type": "code",
   "execution_count": 11,
   "metadata": {},
   "outputs": [
    {
     "name": "stdout",
     "output_type": "stream",
     "text": [
      "<class 'pandas.core.frame.DataFrame'>\n",
      "Int64Index: 6328 entries, 0 to 6327\n",
      "Data columns (total 20 columns):\n",
      " #   Column        Non-Null Count  Dtype  \n",
      "---  ------        --------------  -----  \n",
      " 0   Unnamed: 0    6328 non-null   int64  \n",
      " 1   case_number   6327 non-null   object \n",
      " 2   year          6328 non-null   float64\n",
      " 3   type          6324 non-null   object \n",
      " 4   country       6278 non-null   object \n",
      " 5   area          5872 non-null   object \n",
      " 6   location      5786 non-null   object \n",
      " 7   activity      5784 non-null   object \n",
      " 8   name          6119 non-null   object \n",
      " 9   age           3508 non-null   object \n",
      " 10  time          2964 non-null   object \n",
      " 11  species_      3483 non-null   object \n",
      " 12  href          6328 non-null   object \n",
      " 13  injury        6300 non-null   object \n",
      " 14  date          6328 non-null   object \n",
      " 15  mes           5752 non-null   object \n",
      " 16  fatal_        5709 non-null   object \n",
      " 17  sex2          5759 non-null   object \n",
      " 18  species_tipo  1132 non-null   object \n",
      " 19  edad          3455 non-null   float64\n",
      "dtypes: float64(2), int64(1), object(17)\n",
      "memory usage: 1.0+ MB\n"
     ]
    }
   ],
   "source": [
    "df.info()"
   ]
  },
  {
   "cell_type": "code",
   "execution_count": 20,
   "metadata": {},
   "outputs": [],
   "source": [
    "df['edad'].fillna(round((df['edad'].mean()), 2),inplace = True)"
   ]
  },
  {
   "cell_type": "code",
   "execution_count": 21,
   "metadata": {},
   "outputs": [
    {
     "data": {
      "text/plain": [
       "array([27.28, 14.  , 19.  , 20.  , 15.  , 21.  , 27.  , 36.  , 25.  ,\n",
       "        6.  , 16.  , 50.  , 13.  , 57.  , 11.  , 48.  , 18.  , 52.  ,\n",
       "       12.  , 32.  , 10.  , 34.  , 30.  , 60.  , 33.  , 29.  , 54.  ,\n",
       "       41.  , 37.  , 56.  , 69.  , 38.  , 55.  , 35.  , 46.  , 45.  ,\n",
       "       28.  , 24.  , 26.  , 49.  , 22.  ,  7.  , 31.  , 17.  , 40.  ,\n",
       "       42.  ,  3.  ,  8.  , 82.  , 73.  , 68.  , 51.  , 39.  , 58.  ,\n",
       "       47.  , 61.  , 65.  , 66.  , 43.  ,  9.  , 72.  , 59.  , 64.  ,\n",
       "       23.  , 71.  , 44.  , 62.  , 63.  , 70.  , 53.  , 77.  , 74.  ,\n",
       "        5.  , 86.  , 84.  , 75.  , 87.  , 67.  ,  1.  ,  2.  , 81.  ,\n",
       "       78.  ])"
      ]
     },
     "execution_count": 21,
     "metadata": {},
     "output_type": "execute_result"
    }
   ],
   "source": [
    "df['edad'].unique()"
   ]
  },
  {
   "cell_type": "code",
   "execution_count": 22,
   "metadata": {},
   "outputs": [
    {
     "data": {
      "text/html": [
       "<div>\n",
       "<style scoped>\n",
       "    .dataframe tbody tr th:only-of-type {\n",
       "        vertical-align: middle;\n",
       "    }\n",
       "\n",
       "    .dataframe tbody tr th {\n",
       "        vertical-align: top;\n",
       "    }\n",
       "\n",
       "    .dataframe thead th {\n",
       "        text-align: right;\n",
       "    }\n",
       "</style>\n",
       "<table border=\"1\" class=\"dataframe\">\n",
       "  <thead>\n",
       "    <tr style=\"text-align: right;\">\n",
       "      <th></th>\n",
       "      <th>Unnamed: 0</th>\n",
       "      <th>case_number</th>\n",
       "      <th>year</th>\n",
       "      <th>type</th>\n",
       "      <th>country</th>\n",
       "      <th>area</th>\n",
       "      <th>location</th>\n",
       "      <th>activity</th>\n",
       "      <th>name</th>\n",
       "      <th>age</th>\n",
       "      <th>time</th>\n",
       "      <th>species_</th>\n",
       "      <th>href</th>\n",
       "      <th>injury</th>\n",
       "      <th>date</th>\n",
       "      <th>mes</th>\n",
       "      <th>fatal_</th>\n",
       "      <th>sex2</th>\n",
       "      <th>species_tipo</th>\n",
       "      <th>edad</th>\n",
       "    </tr>\n",
       "  </thead>\n",
       "  <tbody>\n",
       "    <tr>\n",
       "      <th>476</th>\n",
       "      <td>475</td>\n",
       "      <td>2016.02.10.R</td>\n",
       "      <td>2016.0</td>\n",
       "      <td>Invalid</td>\n",
       "      <td>CAYMAN ISLANDS</td>\n",
       "      <td>Grand Cayman</td>\n",
       "      <td>Stingray City Bar</td>\n",
       "      <td>Feeding stingrays?</td>\n",
       "      <td>Richard Branson</td>\n",
       "      <td>65</td>\n",
       "      <td>NaN</td>\n",
       "      <td>No shark involvement</td>\n",
       "      <td>http://sharkattackfile.net/spreadsheets/pdf_di...</td>\n",
       "      <td>Minor injury to wrist from Southern stingray</td>\n",
       "      <td>Reported 10-Feb-2016</td>\n",
       "      <td>Feb</td>\n",
       "      <td>NaN</td>\n",
       "      <td>M</td>\n",
       "      <td>NaN</td>\n",
       "      <td>65.00</td>\n",
       "    </tr>\n",
       "    <tr>\n",
       "      <th>6276</th>\n",
       "      <td>6232</td>\n",
       "      <td>1836.07.26.R</td>\n",
       "      <td>1836.0</td>\n",
       "      <td>Invalid</td>\n",
       "      <td>SPAIN</td>\n",
       "      <td>NaN</td>\n",
       "      <td>NaN</td>\n",
       "      <td>NaN</td>\n",
       "      <td>NaN</td>\n",
       "      <td>NaN</td>\n",
       "      <td>NaN</td>\n",
       "      <td>Shark involvement prior to death unconfirmed</td>\n",
       "      <td>http://sharkattackfile.net/spreadsheets/pdf_di...</td>\n",
       "      <td>Shark caught, contained human remains</td>\n",
       "      <td>1836.07.26.R</td>\n",
       "      <td>NaN</td>\n",
       "      <td>NaN</td>\n",
       "      <td>NaN</td>\n",
       "      <td>NaN</td>\n",
       "      <td>27.28</td>\n",
       "    </tr>\n",
       "    <tr>\n",
       "      <th>2320</th>\n",
       "      <td>2308</td>\n",
       "      <td>1998.12.24</td>\n",
       "      <td>1998.0</td>\n",
       "      <td>Provoked</td>\n",
       "      <td>USA</td>\n",
       "      <td>Florida</td>\n",
       "      <td>Ormond Beach, Volusia County</td>\n",
       "      <td>Surfing</td>\n",
       "      <td>Andy Thompson</td>\n",
       "      <td>19</td>\n",
       "      <td>08h30</td>\n",
       "      <td>NaN</td>\n",
       "      <td>http://sharkattackfile.net/spreadsheets/pdf_di...</td>\n",
       "      <td>Left foot bitten after he accidentally stepped...</td>\n",
       "      <td>24-Dec-1998</td>\n",
       "      <td>Dec</td>\n",
       "      <td>n</td>\n",
       "      <td>M</td>\n",
       "      <td>NaN</td>\n",
       "      <td>19.00</td>\n",
       "    </tr>\n",
       "    <tr>\n",
       "      <th>4806</th>\n",
       "      <td>4768</td>\n",
       "      <td>1946.01.05</td>\n",
       "      <td>1946.0</td>\n",
       "      <td>Unprovoked</td>\n",
       "      <td>AUSTRALIA</td>\n",
       "      <td>New South Wales</td>\n",
       "      <td>Oatley Bay near Como, Georges River</td>\n",
       "      <td>Swimming</td>\n",
       "      <td>Valma Tegel</td>\n",
       "      <td>14</td>\n",
       "      <td>NaN</td>\n",
       "      <td>NaN</td>\n",
       "      <td>http://sharkattackfile.net/spreadsheets/pdf_di...</td>\n",
       "      <td>FATAL, left leg severed, right leg injured</td>\n",
       "      <td>05-Jan-1946</td>\n",
       "      <td>Jan</td>\n",
       "      <td>y</td>\n",
       "      <td>F</td>\n",
       "      <td>NaN</td>\n",
       "      <td>14.00</td>\n",
       "    </tr>\n",
       "    <tr>\n",
       "      <th>2334</th>\n",
       "      <td>2322</td>\n",
       "      <td>1998.10.04</td>\n",
       "      <td>1998.0</td>\n",
       "      <td>Unprovoked</td>\n",
       "      <td>BRAZIL</td>\n",
       "      <td>Pernambuco</td>\n",
       "      <td>Boa Viagem Beach, Recife</td>\n",
       "      <td>Surfing</td>\n",
       "      <td>Júlio César de Barros Correia</td>\n",
       "      <td>17</td>\n",
       "      <td>NaN</td>\n",
       "      <td>NaN</td>\n",
       "      <td>http://sharkattackfile.net/spreadsheets/pdf_di...</td>\n",
       "      <td>Right leg bitten</td>\n",
       "      <td>04-Oct-1998</td>\n",
       "      <td>Oct</td>\n",
       "      <td>n</td>\n",
       "      <td>M</td>\n",
       "      <td>NaN</td>\n",
       "      <td>17.00</td>\n",
       "    </tr>\n",
       "    <tr>\n",
       "      <th>3974</th>\n",
       "      <td>3954</td>\n",
       "      <td>1962,08.30.b</td>\n",
       "      <td>1962.0</td>\n",
       "      <td>Boat</td>\n",
       "      <td>TURKEY</td>\n",
       "      <td>Antalya Province</td>\n",
       "      <td>Ucagiz</td>\n",
       "      <td>NaN</td>\n",
       "      <td>Occupant: Hasan Olta</td>\n",
       "      <td>NaN</td>\n",
       "      <td>NaN</td>\n",
       "      <td>NaN</td>\n",
       "      <td>http://sharkattackfile.net/spreadsheets/pdf_di...</td>\n",
       "      <td>No injury</td>\n",
       "      <td>30-Aug-1962</td>\n",
       "      <td>Aug</td>\n",
       "      <td>n</td>\n",
       "      <td>M</td>\n",
       "      <td>NaN</td>\n",
       "      <td>27.28</td>\n",
       "    </tr>\n",
       "    <tr>\n",
       "      <th>842</th>\n",
       "      <td>841</td>\n",
       "      <td>2013.05.23.a</td>\n",
       "      <td>2013.0</td>\n",
       "      <td>Provoked</td>\n",
       "      <td>PALESTINIAN TERRITORIES</td>\n",
       "      <td>NaN</td>\n",
       "      <td>Gaza</td>\n",
       "      <td>Fishing</td>\n",
       "      <td>Hamed Salah</td>\n",
       "      <td>30</td>\n",
       "      <td>Evening</td>\n",
       "      <td>NaN</td>\n",
       "      <td>http://sharkattackfile.net/spreadsheets/pdf_di...</td>\n",
       "      <td>Two fingers lost PROVOKED INCIDENT</td>\n",
       "      <td>23-May-2013</td>\n",
       "      <td>May</td>\n",
       "      <td>n</td>\n",
       "      <td>M</td>\n",
       "      <td>NaN</td>\n",
       "      <td>30.00</td>\n",
       "    </tr>\n",
       "    <tr>\n",
       "      <th>5110</th>\n",
       "      <td>5070</td>\n",
       "      <td>1935.04.08.R</td>\n",
       "      <td>1935.0</td>\n",
       "      <td>Unprovoked</td>\n",
       "      <td>USA</td>\n",
       "      <td>California</td>\n",
       "      <td>Hermosa Beach, Los Angeles County</td>\n",
       "      <td>NaN</td>\n",
       "      <td>A. R. Davis</td>\n",
       "      <td>NaN</td>\n",
       "      <td>NaN</td>\n",
       "      <td>NaN</td>\n",
       "      <td>http://sharkattackfile.net/spreadsheets/pdf_di...</td>\n",
       "      <td>Laceration to hand</td>\n",
       "      <td>Reported 08-Apr-1935</td>\n",
       "      <td>Apr</td>\n",
       "      <td>n</td>\n",
       "      <td>M</td>\n",
       "      <td>NaN</td>\n",
       "      <td>27.28</td>\n",
       "    </tr>\n",
       "    <tr>\n",
       "      <th>1721</th>\n",
       "      <td>1714</td>\n",
       "      <td>2005.09.07</td>\n",
       "      <td>2005.0</td>\n",
       "      <td>Unprovoked</td>\n",
       "      <td>AUSTRALIA</td>\n",
       "      <td>New South Wales</td>\n",
       "      <td>Park Beach, Coff's Harbour</td>\n",
       "      <td>Standing</td>\n",
       "      <td>Blake Garnett</td>\n",
       "      <td>15</td>\n",
       "      <td>Dusk</td>\n",
       "      <td>NaN</td>\n",
       "      <td>http://sharkattackfile.net/spreadsheets/pdf_di...</td>\n",
       "      <td>Left foot &amp; ankle lacerated</td>\n",
       "      <td>07-Sep-2005</td>\n",
       "      <td>Sep</td>\n",
       "      <td>n</td>\n",
       "      <td>M</td>\n",
       "      <td>NaN</td>\n",
       "      <td>15.00</td>\n",
       "    </tr>\n",
       "    <tr>\n",
       "      <th>4065</th>\n",
       "      <td>4044</td>\n",
       "      <td>1961.08.01</td>\n",
       "      <td>1961.0</td>\n",
       "      <td>Provoked</td>\n",
       "      <td>PAPUA NEW GUINEA</td>\n",
       "      <td>Sandaun Province</td>\n",
       "      <td>Vanimo  on Musu side of Wutong anchorage</td>\n",
       "      <td>Fishing, two large sharks passed. He speared o...</td>\n",
       "      <td>male</td>\n",
       "      <td>NaN</td>\n",
       "      <td>NaN</td>\n",
       "      <td>NaN</td>\n",
       "      <td>http://sharkattackfile.net/spreadsheets/pdf_di...</td>\n",
       "      <td>Thigh lacerated PROVOKED INCIDENT</td>\n",
       "      <td>01-Aug-1961</td>\n",
       "      <td>Aug</td>\n",
       "      <td>n</td>\n",
       "      <td>M</td>\n",
       "      <td>NaN</td>\n",
       "      <td>27.28</td>\n",
       "    </tr>\n",
       "  </tbody>\n",
       "</table>\n",
       "</div>"
      ],
      "text/plain": [
       "      Unnamed: 0   case_number    year        type                  country  \\\n",
       "476          475  2016.02.10.R  2016.0     Invalid           CAYMAN ISLANDS   \n",
       "6276        6232  1836.07.26.R  1836.0     Invalid                    SPAIN   \n",
       "2320        2308    1998.12.24  1998.0    Provoked                      USA   \n",
       "4806        4768    1946.01.05  1946.0  Unprovoked                AUSTRALIA   \n",
       "2334        2322    1998.10.04  1998.0  Unprovoked                   BRAZIL   \n",
       "3974        3954  1962,08.30.b  1962.0        Boat                   TURKEY   \n",
       "842          841  2013.05.23.a  2013.0    Provoked  PALESTINIAN TERRITORIES   \n",
       "5110        5070  1935.04.08.R  1935.0  Unprovoked                      USA   \n",
       "1721        1714    2005.09.07  2005.0  Unprovoked                AUSTRALIA   \n",
       "4065        4044    1961.08.01  1961.0    Provoked         PAPUA NEW GUINEA   \n",
       "\n",
       "                  area                                  location  \\\n",
       "476       Grand Cayman                         Stingray City Bar   \n",
       "6276               NaN                                       NaN   \n",
       "2320           Florida              Ormond Beach, Volusia County   \n",
       "4806   New South Wales      Oatley Bay near Como, Georges River   \n",
       "2334        Pernambuco                  Boa Viagem Beach, Recife   \n",
       "3974  Antalya Province                                    Ucagiz   \n",
       "842                NaN                                      Gaza   \n",
       "5110        California         Hermosa Beach, Los Angeles County   \n",
       "1721   New South Wales                Park Beach, Coff's Harbour   \n",
       "4065  Sandaun Province  Vanimo  on Musu side of Wutong anchorage   \n",
       "\n",
       "                                               activity  \\\n",
       "476                                  Feeding stingrays?   \n",
       "6276                                                NaN   \n",
       "2320                                            Surfing   \n",
       "4806                                           Swimming   \n",
       "2334                                            Surfing   \n",
       "3974                                                NaN   \n",
       "842                                             Fishing   \n",
       "5110                                                NaN   \n",
       "1721                                           Standing   \n",
       "4065  Fishing, two large sharks passed. He speared o...   \n",
       "\n",
       "                               name  age     time  \\\n",
       "476                 Richard Branson   65      NaN   \n",
       "6276                            NaN  NaN      NaN   \n",
       "2320                  Andy Thompson   19    08h30   \n",
       "4806                    Valma Tegel   14      NaN   \n",
       "2334  Júlio César de Barros Correia   17      NaN   \n",
       "3974           Occupant: Hasan Olta  NaN      NaN   \n",
       "842                     Hamed Salah   30  Evening   \n",
       "5110                    A. R. Davis  NaN      NaN   \n",
       "1721                  Blake Garnett   15     Dusk   \n",
       "4065                           male  NaN      NaN   \n",
       "\n",
       "                                          species_  \\\n",
       "476                           No shark involvement   \n",
       "6276  Shark involvement prior to death unconfirmed   \n",
       "2320                                           NaN   \n",
       "4806                                           NaN   \n",
       "2334                                           NaN   \n",
       "3974                                           NaN   \n",
       "842                                            NaN   \n",
       "5110                                           NaN   \n",
       "1721                                           NaN   \n",
       "4065                                           NaN   \n",
       "\n",
       "                                                   href  \\\n",
       "476   http://sharkattackfile.net/spreadsheets/pdf_di...   \n",
       "6276  http://sharkattackfile.net/spreadsheets/pdf_di...   \n",
       "2320  http://sharkattackfile.net/spreadsheets/pdf_di...   \n",
       "4806  http://sharkattackfile.net/spreadsheets/pdf_di...   \n",
       "2334  http://sharkattackfile.net/spreadsheets/pdf_di...   \n",
       "3974  http://sharkattackfile.net/spreadsheets/pdf_di...   \n",
       "842   http://sharkattackfile.net/spreadsheets/pdf_di...   \n",
       "5110  http://sharkattackfile.net/spreadsheets/pdf_di...   \n",
       "1721  http://sharkattackfile.net/spreadsheets/pdf_di...   \n",
       "4065  http://sharkattackfile.net/spreadsheets/pdf_di...   \n",
       "\n",
       "                                                 injury                  date  \\\n",
       "476        Minor injury to wrist from Southern stingray  Reported 10-Feb-2016   \n",
       "6276              Shark caught, contained human remains          1836.07.26.R   \n",
       "2320  Left foot bitten after he accidentally stepped...           24-Dec-1998   \n",
       "4806       FATAL, left leg severed, right leg injured             05-Jan-1946   \n",
       "2334                                   Right leg bitten           04-Oct-1998   \n",
       "3974                                         No injury            30-Aug-1962   \n",
       "842                  Two fingers lost PROVOKED INCIDENT           23-May-2013   \n",
       "5110                               Laceration to hand    Reported 08-Apr-1935   \n",
       "1721                        Left foot & ankle lacerated           07-Sep-2005   \n",
       "4065                  Thigh lacerated PROVOKED INCIDENT           01-Aug-1961   \n",
       "\n",
       "      mes fatal_ sex2 species_tipo   edad  \n",
       "476   Feb    NaN    M          NaN  65.00  \n",
       "6276  NaN    NaN  NaN          NaN  27.28  \n",
       "2320  Dec      n    M          NaN  19.00  \n",
       "4806  Jan      y    F          NaN  14.00  \n",
       "2334  Oct      n    M          NaN  17.00  \n",
       "3974  Aug      n    M          NaN  27.28  \n",
       "842   May      n    M          NaN  30.00  \n",
       "5110  Apr      n    M          NaN  27.28  \n",
       "1721  Sep      n    M          NaN  15.00  \n",
       "4065  Aug      n    M          NaN  27.28  "
      ]
     },
     "execution_count": 22,
     "metadata": {},
     "output_type": "execute_result"
    }
   ],
   "source": [
    "df.sample(10)"
   ]
  },
  {
   "cell_type": "code",
   "execution_count": null,
   "metadata": {},
   "outputs": [],
   "source": [
    "df['country'].replace(np.nan,'UNKNOWN', inplace=True)"
   ]
  },
  {
   "cell_type": "code",
   "execution_count": 27,
   "metadata": {},
   "outputs": [],
   "source": [
    "df['country'].replace('Unknown','UNKNOWN', inplace=True)"
   ]
  },
  {
   "cell_type": "code",
   "execution_count": 28,
   "metadata": {},
   "outputs": [
    {
     "data": {
      "text/plain": [
       "array(['SEYCHELLES', 'UNKNOWN', 'ENGLAND', 'AUSTRALIA', 'BARBADOS',\n",
       "       'JAMAICA', 'MARTINIQUE', 'USA', 'GUINEA', 'GREENLAND', 'FRANCE',\n",
       "       'SPAIN', 'MEDITERRANEAN SEA', 'CUBA', 'SWEDEN', 'PANAMA', 'ITALY',\n",
       "       'ICELAND', 'ROATAN', 'INDIA', 'Between PORTUGAL & INDIA',\n",
       "       'VENEZUELA', 'MEXICO', 'GREECE', 'CANADA', 'KENYA', 'URUGUAY',\n",
       "       'PAPUA NEW GUINEA', 'BERMUDA', 'LEBANON', 'SUDAN', 'DJIBOUTI',\n",
       "       'LIBYA', 'NEW ZEALAND', 'VIETNAM', 'SRI LANKA', 'MOZAMBIQUE',\n",
       "       'SOUTH AFRICA', 'BAHREIN', 'BAHAMAS', 'REUNION', 'SOLOMON ISLANDS',\n",
       "       'KOREA', 'FRENCH POLYNESIA', 'VANUATU', 'IRAN', 'RED SEA?',\n",
       "       'SINGAPORE', 'FIJI', 'IRAQ', 'MADAGASCAR', 'INDONESIA',\n",
       "       'NICARAGUA', 'MARSHALL ISLANDS', 'KIRIBATI', 'NORTH PACIFIC OCEAN',\n",
       "       'SAUDI ARABIA', 'PACIFIC OCEAN', 'BURMA', 'BELIZE', 'ASIA?',\n",
       "       'CEYLON (SRI LANKA)', 'BRAZIL', 'THAILAND', 'COSTA RICA',\n",
       "       'MALDIVES', 'NEW CALEDONIA', 'ECUADOR', 'MALAYSIA', 'MAURITIUS',\n",
       "       'SAMOA', 'JAPAN', 'EGYPT', 'ST HELENA, British overseas territory',\n",
       "       'COMOROS', 'UNITED KINGDOM', 'UNITED ARAB EMIRATES', 'PHILIPPINES',\n",
       "       'CHINA', 'COLUMBIA', 'CAPE VERDE', 'Fiji', 'DOMINICAN REPUBLIC',\n",
       "       'CAYMAN ISLANDS', 'ARUBA', 'PUERTO RICO', 'ATLANTIC OCEAN',\n",
       "       'ST. MARTIN', 'TRINIDAD & TOBAGO', 'ISRAEL', 'DIEGO GARCIA',\n",
       "       'TAIWAN', 'PALESTINIAN TERRITORIES', 'GUAM', 'NIGERIA', 'TONGA',\n",
       "       'SCOTLAND', 'CROATIA', 'CHILE', 'ANTIGUA', 'RUSSIA',\n",
       "       'TURKS & CAICOS', 'UNITED ARAB EMIRATES (UAE)', 'AZORES',\n",
       "       'SOUTH KOREA', 'MALTA', 'SOMALIA', 'NEVIS',\n",
       "       'BRITISH VIRGIN ISLANDS', 'NORWAY', 'SENEGAL', 'YEMEN',\n",
       "       'GULF OF ADEN', 'Sierra Leone', 'ST. MAARTIN', 'GRAND CAYMAN',\n",
       "       'Seychelles', 'LIBERIA', 'MEXICO ', ' TONGA', 'MICRONESIA',\n",
       "       'CARIBBEAN SEA', 'OKINAWA', 'TANZANIA', 'EGYPT / ISRAEL',\n",
       "       'NORTHERN ARABIAN SEA', 'HONG KONG', 'EL SALVADOR', 'ANGOLA',\n",
       "       'MONTENEGRO', 'TUNISIA', 'NAMIBIA', 'NORTH ATLANTIC OCEAN',\n",
       "       'PORTUGAL', 'SOUTH CHINA SEA', 'BANGLADESH', 'PALAU',\n",
       "       'WESTERN SAMOA', 'PACIFIC OCEAN ', 'BRITISH ISLES', 'GRENADA',\n",
       "       'TURKEY', 'NEW BRITAIN', 'JOHNSTON ISLAND', 'SOUTH PACIFIC OCEAN',\n",
       "       'NEW GUINEA', 'RED SEA', 'FEDERATED STATES OF MICRONESIA',\n",
       "       'MID ATLANTIC OCEAN', 'ADMIRALTY ISLANDS', 'BRITISH WEST INDIES',\n",
       "       'SOUTH ATLANTIC OCEAN', 'PERSIAN GULF', 'RED SEA / INDIAN OCEAN',\n",
       "       'NORTH SEA', 'NICARAGUA ', 'MALDIVE ISLANDS', 'AMERICAN SAMOA',\n",
       "       'ANDAMAN / NICOBAR ISLANDAS', 'GABON', 'MAYOTTE',\n",
       "       'NORTH ATLANTIC OCEAN ', 'THE BALKANS', 'SUDAN?', 'ARGENTINA',\n",
       "       'INDIAN OCEAN', 'GUATEMALA', 'NETHERLANDS ANTILLES',\n",
       "       'NORTHERN MARIANA ISLANDS', 'IRAN / IRAQ', 'JAVA', 'SIERRA LEONE',\n",
       "       ' PHILIPPINES', 'CENTRAL PACIFIC', 'SOLOMON ISLANDS / VANUATU',\n",
       "       'SOUTHWEST PACIFIC OCEAN', 'BAY OF BENGAL', 'MID-PACIFC OCEAN',\n",
       "       'SLOVENIA', 'CURACAO', 'ITALY / CROATIA', 'HONDURAS', 'MONACO',\n",
       "       'GUYANA', 'HAITI', 'SAN DOMINGO', 'IRELAND', 'KUWAIT', 'YEMEN ',\n",
       "       'REUNION ISLAND', 'FALKLAND ISLANDS', 'CRETE', 'CYPRUS', 'EGYPT ',\n",
       "       'WEST INDIES', 'PARAGUAY', 'BRITISH NEW GUINEA', 'CEYLON', 'OCEAN',\n",
       "       'GEORGIA', 'SYRIA', 'TUVALU', 'INDIAN OCEAN?', 'ANDAMAN ISLANDS',\n",
       "       'EQUATORIAL GUINEA / CAMEROON', 'COOK ISLANDS', 'TOBAGO', 'PERU',\n",
       "       'AFRICA', 'ALGERIA', 'Coast of AFRICA', 'TASMAN SEA', 'GHANA'],\n",
       "      dtype=object)"
      ]
     },
     "execution_count": 28,
     "metadata": {},
     "output_type": "execute_result"
    }
   ],
   "source": [
    "df['country'].unique()"
   ]
  },
  {
   "cell_type": "code",
   "execution_count": 29,
   "metadata": {},
   "outputs": [],
   "source": [
    "df['fatal_'].replace(np.nan,'UNKNOWN', inplace=True)"
   ]
  },
  {
   "cell_type": "code",
   "execution_count": 30,
   "metadata": {},
   "outputs": [
    {
     "data": {
      "text/plain": [
       "array(['y', 'n', 'UNKNOWN'], dtype=object)"
      ]
     },
     "execution_count": 30,
     "metadata": {},
     "output_type": "execute_result"
    }
   ],
   "source": [
    "df['fatal_'].unique()"
   ]
  },
  {
   "cell_type": "code",
   "execution_count": 35,
   "metadata": {},
   "outputs": [
    {
     "data": {
      "text/plain": [
       "'Unprovoked'"
      ]
     },
     "execution_count": 35,
     "metadata": {},
     "output_type": "execute_result"
    }
   ],
   "source": [
    "df['type'].mode()[0]"
   ]
  },
  {
   "cell_type": "code",
   "execution_count": 31,
   "metadata": {},
   "outputs": [],
   "source": [
    "# Reemplazando los nan con replace\n",
    "\n",
    "df['type'].replace(np.nan,df['type'].mode()[0], inplace=True)"
   ]
  },
  {
   "cell_type": "code",
   "execution_count": 36,
   "metadata": {},
   "outputs": [
    {
     "data": {
      "text/plain": [
       "array(['Unprovoked', 'Provoked', 'Boat', 'Sea Disaster', 'Invalid',\n",
       "       'Boating', 'Questionable', nan, 'Boatomg'], dtype=object)"
      ]
     },
     "execution_count": 36,
     "metadata": {},
     "output_type": "execute_result"
    }
   ],
   "source": [
    "df['type'].unique()"
   ]
  },
  {
   "cell_type": "code",
   "execution_count": 37,
   "metadata": {},
   "outputs": [],
   "source": [
    "# Reemplazando los nan con fillna\n",
    "\n",
    "df['type'].fillna(df['type'].mode()[0], inplace=True)"
   ]
  },
  {
   "cell_type": "code",
   "execution_count": 38,
   "metadata": {},
   "outputs": [
    {
     "data": {
      "text/plain": [
       "array(['Unprovoked', 'Provoked', 'Boat', 'Sea Disaster', 'Invalid',\n",
       "       'Boating', 'Questionable', 'Boatomg'], dtype=object)"
      ]
     },
     "execution_count": 38,
     "metadata": {},
     "output_type": "execute_result"
    }
   ],
   "source": [
    "df['type'].unique()"
   ]
  },
  {
   "cell_type": "code",
   "execution_count": 41,
   "metadata": {},
   "outputs": [
    {
     "data": {
      "text/plain": [
       "array(['UNKNOWN', 'May', 'Sep', 'Jul', 'Aug', 'Dec', 'Mar', 'Oct', 'Apr',\n",
       "       'Jan', 'Jun', 'Feb', 'Nov', 'Mid'], dtype=object)"
      ]
     },
     "execution_count": 41,
     "metadata": {},
     "output_type": "execute_result"
    }
   ],
   "source": [
    "df['mes'].unique()"
   ]
  },
  {
   "cell_type": "code",
   "execution_count": 40,
   "metadata": {},
   "outputs": [],
   "source": [
    "df['mes'].replace(np.nan,'UNKNOWN', inplace=True)"
   ]
  },
  {
   "cell_type": "markdown",
   "metadata": {},
   "source": [
    "Guardad el csv para seguir trabajando con el en los siguientes ejercicios de pair."
   ]
  },
  {
   "cell_type": "code",
   "execution_count": 42,
   "metadata": {},
   "outputs": [],
   "source": [
    "df.to_csv('../../datos/attack_limpio_2.csv')"
   ]
  }
 ],
 "metadata": {
  "kernelspec": {
   "display_name": "Python 3.9.7 ('base')",
   "language": "python",
   "name": "python3"
  },
  "language_info": {
   "codemirror_mode": {
    "name": "ipython",
    "version": 3
   },
   "file_extension": ".py",
   "mimetype": "text/x-python",
   "name": "python",
   "nbconvert_exporter": "python",
   "pygments_lexer": "ipython3",
   "version": "3.9.13"
  },
  "orig_nbformat": 4,
  "vscode": {
   "interpreter": {
    "hash": "0620710c65b0f5ccc651a2aa8870ae0eb4c70492424a8d7866846658189426a3"
   }
  }
 },
 "nbformat": 4,
 "nbformat_minor": 2
}
