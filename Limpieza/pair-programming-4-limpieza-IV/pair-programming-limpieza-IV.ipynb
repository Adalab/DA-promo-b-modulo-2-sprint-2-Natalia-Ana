{
 "cells": [
  {
   "cell_type": "code",
   "execution_count": 125,
   "metadata": {},
   "outputs": [],
   "source": [
    "import pandas as pd\n",
    "import seaborn as sns\n",
    "import matplotlib.pyplot as plt\n",
    "import numpy as np\n",
    "import sidetable"
   ]
  },
  {
   "cell_type": "markdown",
   "metadata": {},
   "source": [
    "En esta clase, gestionaremos los valores nulos de nuestro data frame."
   ]
  },
  {
   "cell_type": "code",
   "execution_count": 126,
   "metadata": {},
   "outputs": [],
   "source": [
    "df = pd.read_csv('../../datos/attacks_limpio_4.csv', index_col=0)"
   ]
  },
  {
   "cell_type": "code",
   "execution_count": 127,
   "metadata": {},
   "outputs": [
    {
     "data": {
      "text/html": [
       "<div>\n",
       "<style scoped>\n",
       "    .dataframe tbody tr th:only-of-type {\n",
       "        vertical-align: middle;\n",
       "    }\n",
       "\n",
       "    .dataframe tbody tr th {\n",
       "        vertical-align: top;\n",
       "    }\n",
       "\n",
       "    .dataframe thead th {\n",
       "        text-align: right;\n",
       "    }\n",
       "</style>\n",
       "<table border=\"1\" class=\"dataframe\">\n",
       "  <thead>\n",
       "    <tr style=\"text-align: right;\">\n",
       "      <th></th>\n",
       "      <th>case_number</th>\n",
       "      <th>year</th>\n",
       "      <th>mes</th>\n",
       "      <th>country</th>\n",
       "      <th>type</th>\n",
       "      <th>activity</th>\n",
       "      <th>age</th>\n",
       "      <th>sex</th>\n",
       "      <th>species</th>\n",
       "      <th>fatal</th>\n",
       "    </tr>\n",
       "  </thead>\n",
       "  <tbody>\n",
       "    <tr>\n",
       "      <th>0</th>\n",
       "      <td>1800.00.00</td>\n",
       "      <td>1976</td>\n",
       "      <td>NaN</td>\n",
       "      <td>seychelles</td>\n",
       "      <td>Unprovoked</td>\n",
       "      <td>a corsair's boat was overturned</td>\n",
       "      <td>NaN</td>\n",
       "      <td>F</td>\n",
       "      <td>UNKNOWN</td>\n",
       "      <td>y</td>\n",
       "    </tr>\n",
       "    <tr>\n",
       "      <th>1</th>\n",
       "      <td>1797.05.28.R</td>\n",
       "      <td>1976</td>\n",
       "      <td>May</td>\n",
       "      <td>NaN</td>\n",
       "      <td>Unprovoked</td>\n",
       "      <td>Dropped overboard</td>\n",
       "      <td>NaN</td>\n",
       "      <td>NaN</td>\n",
       "      <td>UNKNOWN</td>\n",
       "      <td>y</td>\n",
       "    </tr>\n",
       "  </tbody>\n",
       "</table>\n",
       "</div>"
      ],
      "text/plain": [
       "    case_number  year  mes     country        type  \\\n",
       "0    1800.00.00  1976  NaN  seychelles  Unprovoked   \n",
       "1  1797.05.28.R  1976  May         NaN  Unprovoked   \n",
       "\n",
       "                          activity  age  sex  species fatal  \n",
       "0  a corsair's boat was overturned  NaN    F  UNKNOWN     y  \n",
       "1                Dropped overboard  NaN  NaN  UNKNOWN     y  "
      ]
     },
     "execution_count": 127,
     "metadata": {},
     "output_type": "execute_result"
    }
   ],
   "source": [
    "df.head(2)"
   ]
  },
  {
   "cell_type": "code",
   "execution_count": 128,
   "metadata": {},
   "outputs": [
    {
     "data": {
      "text/plain": [
       "(6328, 10)"
      ]
     },
     "execution_count": 128,
     "metadata": {},
     "output_type": "execute_result"
    }
   ],
   "source": [
    "df.shape"
   ]
  },
  {
   "cell_type": "markdown",
   "metadata": {},
   "source": [
    "Primero que nada, eliminaremos la columna 'activity', ya que no nos es de utilidad para nuestro estudio actual. "
   ]
  },
  {
   "cell_type": "code",
   "execution_count": 129,
   "metadata": {},
   "outputs": [],
   "source": [
    "df.drop(columns='activity', inplace=True)"
   ]
  },
  {
   "cell_type": "code",
   "execution_count": 130,
   "metadata": {},
   "outputs": [
    {
     "data": {
      "text/plain": [
       "Index(['case_number', 'year', 'mes', 'country', 'type', 'age', 'sex',\n",
       "       'species', 'fatal'],\n",
       "      dtype='object')"
      ]
     },
     "execution_count": 130,
     "metadata": {},
     "output_type": "execute_result"
    }
   ],
   "source": [
    "df.columns"
   ]
  },
  {
   "cell_type": "markdown",
   "metadata": {},
   "source": [
    "Lo primero que tenemos que evaluar es en que columnas tenemos nulos y qué cantidad tenemos en cada una. ¿Hay alguna columna con una gran cantidad de nulos? En caso de que sea así deberemos eliminarla."
   ]
  },
  {
   "cell_type": "code",
   "execution_count": 131,
   "metadata": {},
   "outputs": [
    {
     "data": {
      "text/html": [
       "<div>\n",
       "<style scoped>\n",
       "    .dataframe tbody tr th:only-of-type {\n",
       "        vertical-align: middle;\n",
       "    }\n",
       "\n",
       "    .dataframe tbody tr th {\n",
       "        vertical-align: top;\n",
       "    }\n",
       "\n",
       "    .dataframe thead th {\n",
       "        text-align: right;\n",
       "    }\n",
       "</style>\n",
       "<table border=\"1\" class=\"dataframe\">\n",
       "  <thead>\n",
       "    <tr style=\"text-align: right;\">\n",
       "      <th></th>\n",
       "      <th>missing</th>\n",
       "      <th>total</th>\n",
       "      <th>percent</th>\n",
       "    </tr>\n",
       "  </thead>\n",
       "  <tbody>\n",
       "    <tr>\n",
       "      <th>age</th>\n",
       "      <td>2873</td>\n",
       "      <td>6328</td>\n",
       "      <td>45.401391</td>\n",
       "    </tr>\n",
       "    <tr>\n",
       "      <th>fatal</th>\n",
       "      <td>619</td>\n",
       "      <td>6328</td>\n",
       "      <td>9.781922</td>\n",
       "    </tr>\n",
       "    <tr>\n",
       "      <th>mes</th>\n",
       "      <td>576</td>\n",
       "      <td>6328</td>\n",
       "      <td>9.102402</td>\n",
       "    </tr>\n",
       "    <tr>\n",
       "      <th>sex</th>\n",
       "      <td>569</td>\n",
       "      <td>6328</td>\n",
       "      <td>8.991783</td>\n",
       "    </tr>\n",
       "    <tr>\n",
       "      <th>country</th>\n",
       "      <td>50</td>\n",
       "      <td>6328</td>\n",
       "      <td>0.790139</td>\n",
       "    </tr>\n",
       "    <tr>\n",
       "      <th>type</th>\n",
       "      <td>4</td>\n",
       "      <td>6328</td>\n",
       "      <td>0.063211</td>\n",
       "    </tr>\n",
       "    <tr>\n",
       "      <th>case_number</th>\n",
       "      <td>1</td>\n",
       "      <td>6328</td>\n",
       "      <td>0.015803</td>\n",
       "    </tr>\n",
       "    <tr>\n",
       "      <th>year</th>\n",
       "      <td>0</td>\n",
       "      <td>6328</td>\n",
       "      <td>0.000000</td>\n",
       "    </tr>\n",
       "    <tr>\n",
       "      <th>species</th>\n",
       "      <td>0</td>\n",
       "      <td>6328</td>\n",
       "      <td>0.000000</td>\n",
       "    </tr>\n",
       "  </tbody>\n",
       "</table>\n",
       "</div>"
      ],
      "text/plain": [
       "             missing  total    percent\n",
       "age             2873   6328  45.401391\n",
       "fatal            619   6328   9.781922\n",
       "mes              576   6328   9.102402\n",
       "sex              569   6328   8.991783\n",
       "country           50   6328   0.790139\n",
       "type               4   6328   0.063211\n",
       "case_number        1   6328   0.015803\n",
       "year               0   6328   0.000000\n",
       "species            0   6328   0.000000"
      ]
     },
     "execution_count": 131,
     "metadata": {},
     "output_type": "execute_result"
    }
   ],
   "source": [
    "df.stb.missing()"
   ]
  },
  {
   "cell_type": "markdown",
   "metadata": {},
   "source": [
    "Es el momento de eliminar los nulos:\n",
    "- Reemplazad los valores nulos de la columna age por la media de la edad, redondeada a dos decimales.\n"
   ]
  },
  {
   "cell_type": "code",
   "execution_count": 132,
   "metadata": {},
   "outputs": [
    {
     "name": "stdout",
     "output_type": "stream",
     "text": [
      "<class 'pandas.core.frame.DataFrame'>\n",
      "Int64Index: 6328 entries, 0 to 6283\n",
      "Data columns (total 9 columns):\n",
      " #   Column       Non-Null Count  Dtype  \n",
      "---  ------       --------------  -----  \n",
      " 0   case_number  6327 non-null   object \n",
      " 1   year         6328 non-null   int64  \n",
      " 2   mes          5752 non-null   object \n",
      " 3   country      6278 non-null   object \n",
      " 4   type         6324 non-null   object \n",
      " 5   age          3455 non-null   float64\n",
      " 6   sex          5759 non-null   object \n",
      " 7   species      6328 non-null   object \n",
      " 8   fatal        5709 non-null   object \n",
      "dtypes: float64(1), int64(1), object(7)\n",
      "memory usage: 494.4+ KB\n"
     ]
    }
   ],
   "source": [
    "df.info()"
   ]
  },
  {
   "cell_type": "code",
   "execution_count": 133,
   "metadata": {},
   "outputs": [],
   "source": [
    "df['age'].fillna(round((df['age'].mean()), 2),inplace = True)"
   ]
  },
  {
   "cell_type": "code",
   "execution_count": 134,
   "metadata": {},
   "outputs": [
    {
     "data": {
      "text/plain": [
       "array([27.28, 14.  , 19.  , 20.  , 15.  , 21.  , 27.  , 36.  , 25.  ,\n",
       "        6.  , 16.  , 50.  , 13.  , 57.  , 11.  , 48.  , 18.  , 52.  ,\n",
       "       12.  , 32.  , 10.  , 34.  , 30.  , 60.  , 33.  , 29.  , 54.  ,\n",
       "       41.  , 37.  , 56.  , 69.  , 38.  , 55.  , 35.  , 46.  , 45.  ,\n",
       "       28.  , 24.  , 26.  , 49.  , 22.  ,  7.  , 31.  , 17.  , 40.  ,\n",
       "       42.  ,  3.  ,  8.  , 82.  , 73.  , 68.  , 51.  , 39.  , 58.  ,\n",
       "       47.  , 61.  , 65.  , 66.  , 43.  ,  9.  , 72.  , 59.  , 64.  ,\n",
       "       23.  , 71.  , 44.  , 62.  , 63.  , 70.  , 53.  , 77.  , 74.  ,\n",
       "        5.  , 86.  , 84.  , 75.  , 87.  , 67.  ,  1.  ,  2.  , 81.  ,\n",
       "       78.  ])"
      ]
     },
     "execution_count": 134,
     "metadata": {},
     "output_type": "execute_result"
    }
   ],
   "source": [
    "df['age'].unique()"
   ]
  },
  {
   "cell_type": "code",
   "execution_count": 135,
   "metadata": {},
   "outputs": [
    {
     "data": {
      "text/html": [
       "<div>\n",
       "<style scoped>\n",
       "    .dataframe tbody tr th:only-of-type {\n",
       "        vertical-align: middle;\n",
       "    }\n",
       "\n",
       "    .dataframe tbody tr th {\n",
       "        vertical-align: top;\n",
       "    }\n",
       "\n",
       "    .dataframe thead th {\n",
       "        text-align: right;\n",
       "    }\n",
       "</style>\n",
       "<table border=\"1\" class=\"dataframe\">\n",
       "  <thead>\n",
       "    <tr style=\"text-align: right;\">\n",
       "      <th></th>\n",
       "      <th>case_number</th>\n",
       "      <th>year</th>\n",
       "      <th>mes</th>\n",
       "      <th>country</th>\n",
       "      <th>type</th>\n",
       "      <th>age</th>\n",
       "      <th>sex</th>\n",
       "      <th>species</th>\n",
       "      <th>fatal</th>\n",
       "    </tr>\n",
       "  </thead>\n",
       "  <tbody>\n",
       "    <tr>\n",
       "      <th>5251</th>\n",
       "      <td>1929.00.00.a</td>\n",
       "      <td>1929</td>\n",
       "      <td>NaN</td>\n",
       "      <td>usa</td>\n",
       "      <td>Unprovoked</td>\n",
       "      <td>27.00</td>\n",
       "      <td>M</td>\n",
       "      <td>UNKNOWN</td>\n",
       "      <td>n</td>\n",
       "    </tr>\n",
       "    <tr>\n",
       "      <th>3660</th>\n",
       "      <td>1967.11.04</td>\n",
       "      <td>1967</td>\n",
       "      <td>Nov</td>\n",
       "      <td>philippines</td>\n",
       "      <td>Sea Disaster</td>\n",
       "      <td>27.28</td>\n",
       "      <td>NaN</td>\n",
       "      <td>UNKNOWN</td>\n",
       "      <td>y</td>\n",
       "    </tr>\n",
       "    <tr>\n",
       "      <th>1186</th>\n",
       "      <td>2010.06.25.a</td>\n",
       "      <td>2010</td>\n",
       "      <td>Jun</td>\n",
       "      <td>usa</td>\n",
       "      <td>Unprovoked</td>\n",
       "      <td>13.00</td>\n",
       "      <td>F</td>\n",
       "      <td>UNKNOWN</td>\n",
       "      <td>n</td>\n",
       "    </tr>\n",
       "    <tr>\n",
       "      <th>2661</th>\n",
       "      <td>1993.05.00.a</td>\n",
       "      <td>1993</td>\n",
       "      <td>NaN</td>\n",
       "      <td>somalia</td>\n",
       "      <td>Unprovoked</td>\n",
       "      <td>27.28</td>\n",
       "      <td>F</td>\n",
       "      <td>UNKNOWN</td>\n",
       "      <td>y</td>\n",
       "    </tr>\n",
       "    <tr>\n",
       "      <th>3965</th>\n",
       "      <td>1962.07.20</td>\n",
       "      <td>1962</td>\n",
       "      <td>Jul</td>\n",
       "      <td>madagascar</td>\n",
       "      <td>Provoked</td>\n",
       "      <td>20.00</td>\n",
       "      <td>M</td>\n",
       "      <td>UNKNOWN</td>\n",
       "      <td>n</td>\n",
       "    </tr>\n",
       "  </tbody>\n",
       "</table>\n",
       "</div>"
      ],
      "text/plain": [
       "       case_number  year  mes      country          type    age  sex  species  \\\n",
       "5251  1929.00.00.a  1929  NaN          usa    Unprovoked  27.00    M  UNKNOWN   \n",
       "3660    1967.11.04  1967  Nov  philippines  Sea Disaster  27.28  NaN  UNKNOWN   \n",
       "1186  2010.06.25.a  2010  Jun          usa    Unprovoked  13.00    F  UNKNOWN   \n",
       "2661  1993.05.00.a  1993  NaN      somalia    Unprovoked  27.28    F  UNKNOWN   \n",
       "3965    1962.07.20  1962  Jul   madagascar      Provoked  20.00    M  UNKNOWN   \n",
       "\n",
       "     fatal  \n",
       "5251     n  \n",
       "3660     y  \n",
       "1186     n  \n",
       "2661     y  \n",
       "3965     n  "
      ]
     },
     "execution_count": 135,
     "metadata": {},
     "output_type": "execute_result"
    }
   ],
   "source": [
    "# Podemos observar que los valores nulos se reemplazaron por la media que es igual a 27.28\n",
    "df.sample(5)"
   ]
  },
  {
   "cell_type": "markdown",
   "metadata": {},
   "source": [
    "- En relación a la columna de country al tratarse de una columna de tipo categórica, reemplazad los valores nulos por una nueva categória que se llame Unknown.\n"
   ]
  },
  {
   "cell_type": "code",
   "execution_count": 136,
   "metadata": {},
   "outputs": [],
   "source": [
    "df['country'].replace(np.nan,'unknown', inplace=True)"
   ]
  },
  {
   "cell_type": "code",
   "execution_count": 137,
   "metadata": {},
   "outputs": [
    {
     "data": {
      "text/plain": [
       "array(['seychelles', 'unknown', 'england', 'australia', 'barbados',\n",
       "       'jamaica', 'martinique', 'usa', 'guinea', 'greenland', 'france',\n",
       "       'spain', 'mediterranean sea', 'cuba', 'sweden', 'panama', 'italy',\n",
       "       'iceland', 'roatan', 'india', 'between portugal & india',\n",
       "       'venezuela', 'mexico', 'greece', 'canada', 'kenya', 'uruguay',\n",
       "       'papua new guinea', 'bermuda', 'lebanon', 'sudan', 'djibouti',\n",
       "       'libya', 'new zealand', 'vietnam', 'sri lanka', 'mozambique',\n",
       "       'south africa', 'bahrein', 'bahamas', 'reunion', 'solomon islands',\n",
       "       'korea', 'french polynesia', 'vanuatu', 'iran', 'red sea?',\n",
       "       'singapore', 'fiji', 'iraq', 'madagascar', 'indonesia',\n",
       "       'nicaragua', 'marshall islands', 'kiribati', 'north pacific ocean',\n",
       "       'saudi arabia', 'pacific ocean', 'burma', 'belize', 'asia?',\n",
       "       'ceylon (sri lanka)', 'brazil', 'thailand', 'costa rica',\n",
       "       'maldives', 'new caledonia', 'ecuador', 'malaysia', 'mauritius',\n",
       "       'samoa', 'japan', 'egypt', 'st helena, british overseas territory',\n",
       "       'comoros', 'united kingdom', 'united arab emirates', 'philippines',\n",
       "       'china', 'columbia', 'cape verde', 'dominican republic',\n",
       "       'cayman islands', 'aruba', 'puerto rico', 'atlantic ocean',\n",
       "       'st. martin', 'trinidad & tobago', 'israel', 'diego garcia',\n",
       "       'taiwan', 'palestinian territories', 'guam', 'nigeria', 'tonga',\n",
       "       'scotland', 'croatia', 'chile', 'antigua', 'russia',\n",
       "       'turks & caicos', 'united arab emirates (uae)', 'azores',\n",
       "       'south korea', 'malta', 'somalia', 'nevis',\n",
       "       'british virgin islands', 'norway', 'senegal', 'yemen',\n",
       "       'gulf of aden', 'sierra leone', 'st. maartin', 'grand cayman',\n",
       "       'liberia', 'mexico ', ' tonga', 'micronesia', 'caribbean sea',\n",
       "       'okinawa', 'tanzania', 'egypt / israel', 'northern arabian sea',\n",
       "       'hong kong', 'el salvador', 'angola', 'montenegro', 'tunisia',\n",
       "       'namibia', 'north atlantic ocean', 'portugal', 'south china sea',\n",
       "       'bangladesh', 'palau', 'western samoa', 'pacific ocean ',\n",
       "       'british isles', 'grenada', 'turkey', 'new britain',\n",
       "       'johnston island', 'south pacific ocean', 'new guinea', 'red sea',\n",
       "       'federated states of micronesia', 'mid atlantic ocean',\n",
       "       'admiralty islands', 'british west indies', 'south atlantic ocean',\n",
       "       'persian gulf', 'red sea / indian ocean', 'north sea',\n",
       "       'nicaragua ', 'maldive islands', 'american samoa',\n",
       "       'andaman / nicobar islandas', 'gabon', 'mayotte',\n",
       "       'north atlantic ocean ', 'the balkans', 'sudan?', 'argentina',\n",
       "       'indian ocean', 'guatemala', 'netherlands antilles',\n",
       "       'northern mariana islands', 'iran / iraq', 'java', ' philippines',\n",
       "       'central pacific', 'solomon islands / vanuatu',\n",
       "       'southwest pacific ocean', 'bay of bengal', 'mid-pacifc ocean',\n",
       "       'slovenia', 'curacao', 'italy / croatia', 'honduras', 'monaco',\n",
       "       'guyana', 'haiti', 'san domingo', 'ireland', 'kuwait', 'yemen ',\n",
       "       'reunion island', 'falkland islands', 'crete', 'cyprus', 'egypt ',\n",
       "       'west indies', 'paraguay', 'british new guinea', 'ceylon', 'ocean',\n",
       "       'georgia', 'syria', 'tuvalu', 'indian ocean?', 'andaman islands',\n",
       "       'equatorial guinea / cameroon', 'cook islands', 'tobago', 'peru',\n",
       "       'africa', 'algeria', 'coast of africa', 'tasman sea', 'ghana'],\n",
       "      dtype=object)"
      ]
     },
     "execution_count": 137,
     "metadata": {},
     "output_type": "execute_result"
    }
   ],
   "source": [
    "df['country'].unique()"
   ]
  },
  {
   "cell_type": "markdown",
   "metadata": {},
   "source": [
    "- Reemplazad los valores nulos de la columna fatal por Unknown."
   ]
  },
  {
   "cell_type": "code",
   "execution_count": 138,
   "metadata": {},
   "outputs": [],
   "source": [
    "df['fatal'].replace(np.nan,'unknown', inplace=True)"
   ]
  },
  {
   "cell_type": "code",
   "execution_count": 139,
   "metadata": {},
   "outputs": [
    {
     "data": {
      "text/plain": [
       "array(['y', 'n', 'unknown'], dtype=object)"
      ]
     },
     "execution_count": 139,
     "metadata": {},
     "output_type": "execute_result"
    }
   ],
   "source": [
    "df['fatal'].unique()"
   ]
  },
  {
   "cell_type": "markdown",
   "metadata": {},
   "source": [
    "- Reemplazad los valores nulos de la columna type por el valor más frecuente (la moda).\n"
   ]
  },
  {
   "cell_type": "code",
   "execution_count": 140,
   "metadata": {},
   "outputs": [
    {
     "data": {
      "text/plain": [
       "'Unprovoked'"
      ]
     },
     "execution_count": 140,
     "metadata": {},
     "output_type": "execute_result"
    }
   ],
   "source": [
    "df['type'].mode()[0]"
   ]
  },
  {
   "cell_type": "code",
   "execution_count": 141,
   "metadata": {},
   "outputs": [],
   "source": [
    "# Reemplazando los  nan con replace\n",
    "\n",
    "df['type'].replace(np.nan,df['type'].mode()[0], inplace=True)"
   ]
  },
  {
   "cell_type": "code",
   "execution_count": 142,
   "metadata": {},
   "outputs": [
    {
     "data": {
      "text/plain": [
       "array(['Unprovoked', 'Provoked', 'Boat', 'Sea Disaster', 'Invalid',\n",
       "       'Boating', 'Questionable', 'Boatomg'], dtype=object)"
      ]
     },
     "execution_count": 142,
     "metadata": {},
     "output_type": "execute_result"
    }
   ],
   "source": [
    "df['type'].unique()"
   ]
  },
  {
   "cell_type": "code",
   "execution_count": 143,
   "metadata": {},
   "outputs": [],
   "source": [
    "# También se podrían reemplazar los nan con fillna\n",
    "\n",
    "df['type'].fillna(df['type'].mode()[0], inplace=True)"
   ]
  },
  {
   "cell_type": "markdown",
   "metadata": {},
   "source": [
    "- Reemplazad los valores nulos de la columna fecha por Unknown."
   ]
  },
  {
   "cell_type": "code",
   "execution_count": 144,
   "metadata": {},
   "outputs": [
    {
     "data": {
      "text/plain": [
       "array([nan, 'May', 'Sep', 'Jul', 'Aug', 'Dec', 'Mar', 'Oct', 'Apr', 'Jan',\n",
       "       'Jun', 'Feb', 'Nov', 'Unknown'], dtype=object)"
      ]
     },
     "execution_count": 144,
     "metadata": {},
     "output_type": "execute_result"
    }
   ],
   "source": [
    "# En nuestro caso la columna fecha se llama 'mes'\n",
    "df['mes'].unique()"
   ]
  },
  {
   "cell_type": "code",
   "execution_count": 145,
   "metadata": {},
   "outputs": [],
   "source": [
    "df['mes'].replace(np.nan,'Unknown', inplace=True)"
   ]
  },
  {
   "cell_type": "code",
   "execution_count": 146,
   "metadata": {},
   "outputs": [
    {
     "data": {
      "text/plain": [
       "array(['Unknown', 'May', 'Sep', 'Jul', 'Aug', 'Dec', 'Mar', 'Oct', 'Apr',\n",
       "       'Jan', 'Jun', 'Feb', 'Nov'], dtype=object)"
      ]
     },
     "execution_count": 146,
     "metadata": {},
     "output_type": "execute_result"
    }
   ],
   "source": [
    "df['mes'].unique()"
   ]
  },
  {
   "cell_type": "code",
   "execution_count": 147,
   "metadata": {},
   "outputs": [
    {
     "data": {
      "text/plain": [
       "case_number      1\n",
       "year             0\n",
       "mes              0\n",
       "country          0\n",
       "type             0\n",
       "age              0\n",
       "sex            569\n",
       "species          0\n",
       "fatal            0\n",
       "dtype: int64"
      ]
     },
     "execution_count": 147,
     "metadata": {},
     "output_type": "execute_result"
    }
   ],
   "source": [
    "# Observamos cómo ha cambiado la cantidad de nulos en nuestras columnas\n",
    "\n",
    "df.isnull().sum()"
   ]
  },
  {
   "cell_type": "markdown",
   "metadata": {},
   "source": [
    "Reemplazamos los valores de la columna 'sex' con la moda"
   ]
  },
  {
   "cell_type": "code",
   "execution_count": 148,
   "metadata": {},
   "outputs": [
    {
     "data": {
      "text/plain": [
       "array(['F', nan, 'M'], dtype=object)"
      ]
     },
     "execution_count": 148,
     "metadata": {},
     "output_type": "execute_result"
    }
   ],
   "source": [
    "df['sex'].unique()"
   ]
  },
  {
   "cell_type": "code",
   "execution_count": 149,
   "metadata": {},
   "outputs": [],
   "source": [
    "df['sex'].fillna(df['sex'].mode()[0], inplace=True)"
   ]
  },
  {
   "cell_type": "code",
   "execution_count": 150,
   "metadata": {},
   "outputs": [
    {
     "data": {
      "text/plain": [
       "array(['F', 'M'], dtype=object)"
      ]
     },
     "execution_count": 150,
     "metadata": {},
     "output_type": "execute_result"
    }
   ],
   "source": [
    "df['sex'].unique()"
   ]
  },
  {
   "cell_type": "markdown",
   "metadata": {},
   "source": [
    "Guardad el csv para seguir trabajando con el en los siguientes ejercicios de pair."
   ]
  },
  {
   "cell_type": "code",
   "execution_count": 151,
   "metadata": {},
   "outputs": [],
   "source": [
    "df.to_csv('../../datos/attack_limpio_nulos_1.csv')"
   ]
  }
 ],
 "metadata": {
  "kernelspec": {
   "display_name": "Python 3.9.7 ('base')",
   "language": "python",
   "name": "python3"
  },
  "language_info": {
   "codemirror_mode": {
    "name": "ipython",
    "version": 3
   },
   "file_extension": ".py",
   "mimetype": "text/x-python",
   "name": "python",
   "nbconvert_exporter": "python",
   "pygments_lexer": "ipython3",
   "version": "3.9.13"
  },
  "orig_nbformat": 4,
  "vscode": {
   "interpreter": {
    "hash": "0620710c65b0f5ccc651a2aa8870ae0eb4c70492424a8d7866846658189426a3"
   }
  }
 },
 "nbformat": 4,
 "nbformat_minor": 2
}
