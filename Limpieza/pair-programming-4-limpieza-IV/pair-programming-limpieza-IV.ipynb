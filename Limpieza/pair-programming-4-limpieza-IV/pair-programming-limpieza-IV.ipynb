{
 "cells": [
  {
   "cell_type": "code",
   "execution_count": 1,
   "metadata": {},
   "outputs": [],
   "source": [
    "import pandas as pd\n",
    "import seaborn as sns\n",
    "import matplotlib.pyplot as plt\n",
    "import numpy as np"
   ]
  },
  {
   "cell_type": "code",
   "execution_count": 16,
   "metadata": {},
   "outputs": [],
   "source": [
    "df = pd.read_csv('../../datos/attacks_limpio_3.csv', index_col=0)"
   ]
  },
  {
   "cell_type": "code",
   "execution_count": 4,
   "metadata": {},
   "outputs": [
    {
     "data": {
      "text/html": [
       "<div>\n",
       "<style scoped>\n",
       "    .dataframe tbody tr th:only-of-type {\n",
       "        vertical-align: middle;\n",
       "    }\n",
       "\n",
       "    .dataframe tbody tr th {\n",
       "        vertical-align: top;\n",
       "    }\n",
       "\n",
       "    .dataframe thead th {\n",
       "        text-align: right;\n",
       "    }\n",
       "</style>\n",
       "<table border=\"1\" class=\"dataframe\">\n",
       "  <thead>\n",
       "    <tr style=\"text-align: right;\">\n",
       "      <th></th>\n",
       "      <th>case_number</th>\n",
       "      <th>year</th>\n",
       "      <th>mes</th>\n",
       "      <th>country</th>\n",
       "      <th>type</th>\n",
       "      <th>area</th>\n",
       "      <th>activity</th>\n",
       "      <th>age</th>\n",
       "      <th>sex</th>\n",
       "      <th>species</th>\n",
       "      <th>injury</th>\n",
       "      <th>fatal</th>\n",
       "    </tr>\n",
       "  </thead>\n",
       "  <tbody>\n",
       "    <tr>\n",
       "      <th>0</th>\n",
       "      <td>1800.00.00</td>\n",
       "      <td>1976</td>\n",
       "      <td>NaN</td>\n",
       "      <td>seychelles</td>\n",
       "      <td>Unprovoked</td>\n",
       "      <td>St. Anne</td>\n",
       "      <td>a corsair's boat was overturned</td>\n",
       "      <td>NaN</td>\n",
       "      <td>F</td>\n",
       "      <td>NaN</td>\n",
       "      <td>FATAL, all onboard were killed by sharks</td>\n",
       "      <td>y</td>\n",
       "    </tr>\n",
       "    <tr>\n",
       "      <th>1</th>\n",
       "      <td>1797.05.28.R</td>\n",
       "      <td>1976</td>\n",
       "      <td>May</td>\n",
       "      <td>NaN</td>\n",
       "      <td>Unprovoked</td>\n",
       "      <td>NaN</td>\n",
       "      <td>Dropped overboard</td>\n",
       "      <td>NaN</td>\n",
       "      <td>NaN</td>\n",
       "      <td>NaN</td>\n",
       "      <td>FATAL</td>\n",
       "      <td>y</td>\n",
       "    </tr>\n",
       "  </tbody>\n",
       "</table>\n",
       "</div>"
      ],
      "text/plain": [
       "    case_number  year  mes     country        type      area  \\\n",
       "0    1800.00.00  1976  NaN  seychelles  Unprovoked  St. Anne   \n",
       "1  1797.05.28.R  1976  May         NaN  Unprovoked       NaN   \n",
       "\n",
       "                          activity  age  sex species  \\\n",
       "0  a corsair's boat was overturned  NaN    F     NaN   \n",
       "1                Dropped overboard  NaN  NaN     NaN   \n",
       "\n",
       "                                     injury fatal  \n",
       "0  FATAL, all onboard were killed by sharks     y  \n",
       "1                                     FATAL     y  "
      ]
     },
     "execution_count": 4,
     "metadata": {},
     "output_type": "execute_result"
    }
   ],
   "source": [
    "df.head(2)"
   ]
  },
  {
   "cell_type": "code",
   "execution_count": 6,
   "metadata": {},
   "outputs": [
    {
     "data": {
      "text/plain": [
       "(6328, 12)"
      ]
     },
     "execution_count": 6,
     "metadata": {},
     "output_type": "execute_result"
    }
   ],
   "source": [
    "df.shape"
   ]
  },
  {
   "cell_type": "markdown",
   "metadata": {},
   "source": [
    "Lo primero que tenemos que evaluar es en que columnas tenemos nulos y qué cantidad tenemos en cada una. ¿Hay alguna columna con una gran cantidad de nulos? En caso de que sea así deberemos eliminarla."
   ]
  },
  {
   "cell_type": "code",
   "execution_count": 17,
   "metadata": {},
   "outputs": [
    {
     "data": {
      "text/plain": [
       "case_number       1\n",
       "year              0\n",
       "mes             576\n",
       "country          50\n",
       "type              4\n",
       "area            456\n",
       "activity        544\n",
       "age            2873\n",
       "sex             569\n",
       "species        5196\n",
       "injury           28\n",
       "fatal           619\n",
       "dtype: int64"
      ]
     },
     "execution_count": 17,
     "metadata": {},
     "output_type": "execute_result"
    }
   ],
   "source": [
    "df.isnull().sum()"
   ]
  },
  {
   "cell_type": "code",
   "execution_count": 18,
   "metadata": {},
   "outputs": [
    {
     "data": {
      "text/plain": [
       "case_number     0.015803\n",
       "year            0.000000\n",
       "mes             9.102402\n",
       "country         0.790139\n",
       "type            0.063211\n",
       "area            7.206068\n",
       "activity        8.596713\n",
       "age            45.401391\n",
       "sex             8.991783\n",
       "species        82.111252\n",
       "injury          0.442478\n",
       "fatal           9.781922\n",
       "dtype: float64"
      ]
     },
     "execution_count": 18,
     "metadata": {},
     "output_type": "execute_result"
    }
   ],
   "source": [
    "df.isnull().sum()*100/df.shape[0]"
   ]
  },
  {
   "cell_type": "markdown",
   "metadata": {},
   "source": [
    "Es el momento de eliminar los nulos:\n",
    "- Reemplazad los valores nulos de la columna age por la media de la edad, redondeada a dos decimales.\n"
   ]
  },
  {
   "cell_type": "code",
   "execution_count": 19,
   "metadata": {},
   "outputs": [
    {
     "name": "stdout",
     "output_type": "stream",
     "text": [
      "<class 'pandas.core.frame.DataFrame'>\n",
      "Int64Index: 6328 entries, 0 to 6283\n",
      "Data columns (total 12 columns):\n",
      " #   Column       Non-Null Count  Dtype  \n",
      "---  ------       --------------  -----  \n",
      " 0   case_number  6327 non-null   object \n",
      " 1   year         6328 non-null   int64  \n",
      " 2   mes          5752 non-null   object \n",
      " 3   country      6278 non-null   object \n",
      " 4   type         6324 non-null   object \n",
      " 5   area         5872 non-null   object \n",
      " 6   activity     5784 non-null   object \n",
      " 7   age          3455 non-null   float64\n",
      " 8   sex          5759 non-null   object \n",
      " 9   species      1132 non-null   object \n",
      " 10  injury       6300 non-null   object \n",
      " 11  fatal        5709 non-null   object \n",
      "dtypes: float64(1), int64(1), object(10)\n",
      "memory usage: 642.7+ KB\n"
     ]
    }
   ],
   "source": [
    "df.info()"
   ]
  },
  {
   "cell_type": "code",
   "execution_count": 20,
   "metadata": {},
   "outputs": [],
   "source": [
    "df['age'].fillna(round((df['age'].mean()), 2),inplace = True)"
   ]
  },
  {
   "cell_type": "code",
   "execution_count": 21,
   "metadata": {},
   "outputs": [
    {
     "data": {
      "text/plain": [
       "array([27.28, 14.  , 19.  , 20.  , 15.  , 21.  , 27.  , 36.  , 25.  ,\n",
       "        6.  , 16.  , 50.  , 13.  , 57.  , 11.  , 48.  , 18.  , 52.  ,\n",
       "       12.  , 32.  , 10.  , 34.  , 30.  , 60.  , 33.  , 29.  , 54.  ,\n",
       "       41.  , 37.  , 56.  , 69.  , 38.  , 55.  , 35.  , 46.  , 45.  ,\n",
       "       28.  , 24.  , 26.  , 49.  , 22.  ,  7.  , 31.  , 17.  , 40.  ,\n",
       "       42.  ,  3.  ,  8.  , 82.  , 73.  , 68.  , 51.  , 39.  , 58.  ,\n",
       "       47.  , 61.  , 65.  , 66.  , 43.  ,  9.  , 72.  , 59.  , 64.  ,\n",
       "       23.  , 71.  , 44.  , 62.  , 63.  , 70.  , 53.  , 77.  , 74.  ,\n",
       "        5.  , 86.  , 84.  , 75.  , 87.  , 67.  ,  1.  ,  2.  , 81.  ,\n",
       "       78.  ])"
      ]
     },
     "execution_count": 21,
     "metadata": {},
     "output_type": "execute_result"
    }
   ],
   "source": [
    "df['age'].unique()"
   ]
  },
  {
   "cell_type": "code",
   "execution_count": 22,
   "metadata": {},
   "outputs": [
    {
     "data": {
      "text/html": [
       "<div>\n",
       "<style scoped>\n",
       "    .dataframe tbody tr th:only-of-type {\n",
       "        vertical-align: middle;\n",
       "    }\n",
       "\n",
       "    .dataframe tbody tr th {\n",
       "        vertical-align: top;\n",
       "    }\n",
       "\n",
       "    .dataframe thead th {\n",
       "        text-align: right;\n",
       "    }\n",
       "</style>\n",
       "<table border=\"1\" class=\"dataframe\">\n",
       "  <thead>\n",
       "    <tr style=\"text-align: right;\">\n",
       "      <th></th>\n",
       "      <th>case_number</th>\n",
       "      <th>year</th>\n",
       "      <th>mes</th>\n",
       "      <th>country</th>\n",
       "      <th>type</th>\n",
       "      <th>area</th>\n",
       "      <th>activity</th>\n",
       "      <th>age</th>\n",
       "      <th>sex</th>\n",
       "      <th>species</th>\n",
       "      <th>injury</th>\n",
       "      <th>fatal</th>\n",
       "    </tr>\n",
       "  </thead>\n",
       "  <tbody>\n",
       "    <tr>\n",
       "      <th>1406</th>\n",
       "      <td>2008.06.28.b</td>\n",
       "      <td>2008</td>\n",
       "      <td>Jun</td>\n",
       "      <td>bahamas</td>\n",
       "      <td>Unprovoked</td>\n",
       "      <td>Abaco Islands</td>\n",
       "      <td>Spearfishing</td>\n",
       "      <td>42.00</td>\n",
       "      <td>M</td>\n",
       "      <td>BULL SHARK</td>\n",
       "      <td>Lacerations to calf</td>\n",
       "      <td>n</td>\n",
       "    </tr>\n",
       "    <tr>\n",
       "      <th>2895</th>\n",
       "      <td>1988.05.27</td>\n",
       "      <td>1988</td>\n",
       "      <td>May</td>\n",
       "      <td>south korea</td>\n",
       "      <td>Unprovoked</td>\n",
       "      <td>NaN</td>\n",
       "      <td>Shell diving</td>\n",
       "      <td>38.00</td>\n",
       "      <td>F</td>\n",
       "      <td>NaN</td>\n",
       "      <td>FATAL</td>\n",
       "      <td>y</td>\n",
       "    </tr>\n",
       "    <tr>\n",
       "      <th>2380</th>\n",
       "      <td>1997.10.28.b</td>\n",
       "      <td>1997</td>\n",
       "      <td>Oct</td>\n",
       "      <td>australia</td>\n",
       "      <td>Unprovoked</td>\n",
       "      <td>Western Australia</td>\n",
       "      <td>Surf-skiing</td>\n",
       "      <td>51.00</td>\n",
       "      <td>M</td>\n",
       "      <td>WHITE SHARK</td>\n",
       "      <td>Sierakowski suffered a minor facial injury, sk...</td>\n",
       "      <td>n</td>\n",
       "    </tr>\n",
       "    <tr>\n",
       "      <th>6031</th>\n",
       "      <td>1875.00.00</td>\n",
       "      <td>1875</td>\n",
       "      <td>NaN</td>\n",
       "      <td>australia</td>\n",
       "      <td>Unprovoked</td>\n",
       "      <td>Western Australia</td>\n",
       "      <td>Sitting on gunwale of boat</td>\n",
       "      <td>27.28</td>\n",
       "      <td>M</td>\n",
       "      <td>NaN</td>\n",
       "      <td>FATAL</td>\n",
       "      <td>y</td>\n",
       "    </tr>\n",
       "    <tr>\n",
       "      <th>4384</th>\n",
       "      <td>1956.10.27</td>\n",
       "      <td>1956</td>\n",
       "      <td>Oct</td>\n",
       "      <td>south africa</td>\n",
       "      <td>Unprovoked</td>\n",
       "      <td>Western Cape Province</td>\n",
       "      <td>Free diving for sinkers</td>\n",
       "      <td>29.00</td>\n",
       "      <td>M</td>\n",
       "      <td>WHITE SHARK</td>\n",
       "      <td>Right heel lacerated &amp; swim fin removed by shark</td>\n",
       "      <td>n</td>\n",
       "    </tr>\n",
       "  </tbody>\n",
       "</table>\n",
       "</div>"
      ],
      "text/plain": [
       "       case_number  year  mes       country        type  \\\n",
       "1406  2008.06.28.b  2008  Jun       bahamas  Unprovoked   \n",
       "2895    1988.05.27  1988  May   south korea  Unprovoked   \n",
       "2380  1997.10.28.b  1997  Oct     australia  Unprovoked   \n",
       "6031    1875.00.00  1875  NaN     australia  Unprovoked   \n",
       "4384    1956.10.27  1956  Oct  south africa  Unprovoked   \n",
       "\n",
       "                       area                    activity    age sex  \\\n",
       "1406          Abaco Islands                Spearfishing  42.00   M   \n",
       "2895                    NaN                Shell diving  38.00   F   \n",
       "2380      Western Australia                 Surf-skiing  51.00   M   \n",
       "6031      Western Australia  Sitting on gunwale of boat  27.28   M   \n",
       "4384  Western Cape Province     Free diving for sinkers  29.00   M   \n",
       "\n",
       "          species                                             injury fatal  \n",
       "1406   BULL SHARK                                Lacerations to calf     n  \n",
       "2895          NaN                                              FATAL     y  \n",
       "2380  WHITE SHARK  Sierakowski suffered a minor facial injury, sk...     n  \n",
       "6031          NaN                                              FATAL     y  \n",
       "4384  WHITE SHARK   Right heel lacerated & swim fin removed by shark     n  "
      ]
     },
     "execution_count": 22,
     "metadata": {},
     "output_type": "execute_result"
    }
   ],
   "source": [
    "# Podemos observar que los valores nulos se reemplazaron por la media que es igual a 27.28\n",
    "df.sample(5)"
   ]
  },
  {
   "cell_type": "markdown",
   "metadata": {},
   "source": [
    "- En relación a la columna de country al tratarse de una columna de tipo categórica, reemplazad los valores nulos por una nueva categória que se llame Unknown.\n"
   ]
  },
  {
   "cell_type": "code",
   "execution_count": 23,
   "metadata": {},
   "outputs": [],
   "source": [
    "df['country'].replace(np.nan,'unknown', inplace=True)"
   ]
  },
  {
   "cell_type": "code",
   "execution_count": 24,
   "metadata": {},
   "outputs": [
    {
     "data": {
      "text/plain": [
       "array(['seychelles', 'unknown', 'england', 'australia', 'barbados',\n",
       "       'jamaica', 'martinique', 'usa', 'guinea', 'greenland', 'france',\n",
       "       'spain', 'mediterranean sea', 'cuba', 'sweden', 'panama', 'italy',\n",
       "       'iceland', 'roatan', 'india', 'between portugal & india',\n",
       "       'venezuela', 'mexico', 'greece', 'canada', 'kenya', 'uruguay',\n",
       "       'papua new guinea', 'bermuda', 'lebanon', 'sudan', 'djibouti',\n",
       "       'libya', 'new zealand', 'vietnam', 'sri lanka', 'mozambique',\n",
       "       'south africa', 'bahrein', 'bahamas', 'reunion', 'solomon islands',\n",
       "       'korea', 'french polynesia', 'vanuatu', 'iran', 'red sea?',\n",
       "       'singapore', 'fiji', 'iraq', 'madagascar', 'indonesia',\n",
       "       'nicaragua', 'marshall islands', 'kiribati', 'north pacific ocean',\n",
       "       'saudi arabia', 'pacific ocean', 'burma', 'belize', 'asia?',\n",
       "       'ceylon (sri lanka)', 'brazil', 'thailand', 'costa rica',\n",
       "       'maldives', 'new caledonia', 'ecuador', 'malaysia', 'mauritius',\n",
       "       'samoa', 'japan', 'egypt', 'st helena, british overseas territory',\n",
       "       'comoros', 'united kingdom', 'united arab emirates', 'philippines',\n",
       "       'china', 'columbia', 'cape verde', 'dominican republic',\n",
       "       'cayman islands', 'aruba', 'puerto rico', 'atlantic ocean',\n",
       "       'st. martin', 'trinidad & tobago', 'israel', 'diego garcia',\n",
       "       'taiwan', 'palestinian territories', 'guam', 'nigeria', 'tonga',\n",
       "       'scotland', 'croatia', 'chile', 'antigua', 'russia',\n",
       "       'turks & caicos', 'united arab emirates (uae)', 'azores',\n",
       "       'south korea', 'malta', 'somalia', 'nevis',\n",
       "       'british virgin islands', 'norway', 'senegal', 'yemen',\n",
       "       'gulf of aden', 'sierra leone', 'st. maartin', 'grand cayman',\n",
       "       'liberia', 'mexico ', ' tonga', 'micronesia', 'caribbean sea',\n",
       "       'okinawa', 'tanzania', 'egypt / israel', 'northern arabian sea',\n",
       "       'hong kong', 'el salvador', 'angola', 'montenegro', 'tunisia',\n",
       "       'namibia', 'north atlantic ocean', 'portugal', 'south china sea',\n",
       "       'bangladesh', 'palau', 'western samoa', 'pacific ocean ',\n",
       "       'british isles', 'grenada', 'turkey', 'new britain',\n",
       "       'johnston island', 'south pacific ocean', 'new guinea', 'red sea',\n",
       "       'federated states of micronesia', 'mid atlantic ocean',\n",
       "       'admiralty islands', 'british west indies', 'south atlantic ocean',\n",
       "       'persian gulf', 'red sea / indian ocean', 'north sea',\n",
       "       'nicaragua ', 'maldive islands', 'american samoa',\n",
       "       'andaman / nicobar islandas', 'gabon', 'mayotte',\n",
       "       'north atlantic ocean ', 'the balkans', 'sudan?', 'argentina',\n",
       "       'indian ocean', 'guatemala', 'netherlands antilles',\n",
       "       'northern mariana islands', 'iran / iraq', 'java', ' philippines',\n",
       "       'central pacific', 'solomon islands / vanuatu',\n",
       "       'southwest pacific ocean', 'bay of bengal', 'mid-pacifc ocean',\n",
       "       'slovenia', 'curacao', 'italy / croatia', 'honduras', 'monaco',\n",
       "       'guyana', 'haiti', 'san domingo', 'ireland', 'kuwait', 'yemen ',\n",
       "       'reunion island', 'falkland islands', 'crete', 'cyprus', 'egypt ',\n",
       "       'west indies', 'paraguay', 'british new guinea', 'ceylon', 'ocean',\n",
       "       'georgia', 'syria', 'tuvalu', 'indian ocean?', 'andaman islands',\n",
       "       'equatorial guinea / cameroon', 'cook islands', 'tobago', 'peru',\n",
       "       'africa', 'algeria', 'coast of africa', 'tasman sea', 'ghana'],\n",
       "      dtype=object)"
      ]
     },
     "execution_count": 24,
     "metadata": {},
     "output_type": "execute_result"
    }
   ],
   "source": [
    "df['country'].unique()"
   ]
  },
  {
   "cell_type": "markdown",
   "metadata": {},
   "source": [
    "- Reemplazad los valores nulos de la columna fatal por Unknown."
   ]
  },
  {
   "cell_type": "code",
   "execution_count": 26,
   "metadata": {},
   "outputs": [],
   "source": [
    "df['fatal'].replace(np.nan,'unknown', inplace=True)"
   ]
  },
  {
   "cell_type": "code",
   "execution_count": 27,
   "metadata": {},
   "outputs": [
    {
     "data": {
      "text/plain": [
       "array(['y', 'n', 'unknown'], dtype=object)"
      ]
     },
     "execution_count": 27,
     "metadata": {},
     "output_type": "execute_result"
    }
   ],
   "source": [
    "df['fatal'].unique()"
   ]
  },
  {
   "cell_type": "markdown",
   "metadata": {},
   "source": [
    "- Reemplazad los valores nulos de la columna type por el valor más frecuente (la moda).\n"
   ]
  },
  {
   "cell_type": "code",
   "execution_count": 28,
   "metadata": {},
   "outputs": [
    {
     "data": {
      "text/plain": [
       "'Unprovoked'"
      ]
     },
     "execution_count": 28,
     "metadata": {},
     "output_type": "execute_result"
    }
   ],
   "source": [
    "df['type'].mode()[0]"
   ]
  },
  {
   "cell_type": "code",
   "execution_count": 29,
   "metadata": {},
   "outputs": [],
   "source": [
    "# Reemplazando los nan con replace\n",
    "\n",
    "df['type'].replace(np.nan,df['type'].mode()[0], inplace=True)"
   ]
  },
  {
   "cell_type": "code",
   "execution_count": 30,
   "metadata": {},
   "outputs": [
    {
     "data": {
      "text/plain": [
       "array(['Unprovoked', 'Provoked', 'Boat', 'Sea Disaster', 'Invalid',\n",
       "       'Boating', 'Questionable', 'Boatomg'], dtype=object)"
      ]
     },
     "execution_count": 30,
     "metadata": {},
     "output_type": "execute_result"
    }
   ],
   "source": [
    "df['type'].unique()"
   ]
  },
  {
   "cell_type": "code",
   "execution_count": 31,
   "metadata": {},
   "outputs": [],
   "source": [
    "# También se podrían reemplazar los nan con fillna\n",
    "\n",
    "df['type'].fillna(df['type'].mode()[0], inplace=True)"
   ]
  },
  {
   "cell_type": "code",
   "execution_count": 32,
   "metadata": {},
   "outputs": [
    {
     "data": {
      "text/plain": [
       "array(['Unprovoked', 'Provoked', 'Boat', 'Sea Disaster', 'Invalid',\n",
       "       'Boating', 'Questionable', 'Boatomg'], dtype=object)"
      ]
     },
     "execution_count": 32,
     "metadata": {},
     "output_type": "execute_result"
    }
   ],
   "source": [
    "df['type'].unique()"
   ]
  },
  {
   "cell_type": "markdown",
   "metadata": {},
   "source": [
    "- Reemplazad los valores nulos de la columna fecha por Unknown."
   ]
  },
  {
   "cell_type": "code",
   "execution_count": 33,
   "metadata": {},
   "outputs": [
    {
     "data": {
      "text/plain": [
       "array([nan, 'May', 'Sep', 'Jul', 'Aug', 'Dec', 'Mar', 'Oct', 'Apr', 'Jan',\n",
       "       'Jun', 'Feb', 'Nov', 'Mid'], dtype=object)"
      ]
     },
     "execution_count": 33,
     "metadata": {},
     "output_type": "execute_result"
    }
   ],
   "source": [
    "# En nuestro caso la columna fecha se llama 'mes'\n",
    "df['mes'].unique()"
   ]
  },
  {
   "cell_type": "code",
   "execution_count": 34,
   "metadata": {},
   "outputs": [],
   "source": [
    "df['mes'].replace(np.nan,'Unknown', inplace=True)"
   ]
  },
  {
   "cell_type": "code",
   "execution_count": 35,
   "metadata": {},
   "outputs": [
    {
     "data": {
      "text/plain": [
       "array(['Unknown', 'May', 'Sep', 'Jul', 'Aug', 'Dec', 'Mar', 'Oct', 'Apr',\n",
       "       'Jan', 'Jun', 'Feb', 'Nov', 'Mid'], dtype=object)"
      ]
     },
     "execution_count": 35,
     "metadata": {},
     "output_type": "execute_result"
    }
   ],
   "source": [
    "df['mes'].unique()"
   ]
  },
  {
   "cell_type": "code",
   "execution_count": 37,
   "metadata": {},
   "outputs": [
    {
     "data": {
      "text/plain": [
       "case_number       1\n",
       "year              0\n",
       "mes               0\n",
       "country           0\n",
       "type              0\n",
       "area            456\n",
       "activity        544\n",
       "age               0\n",
       "sex             569\n",
       "species        5196\n",
       "injury           28\n",
       "fatal             0\n",
       "dtype: int64"
      ]
     },
     "execution_count": 37,
     "metadata": {},
     "output_type": "execute_result"
    }
   ],
   "source": [
    "# Observamos cómo ha cambiado la cantidad de nulos en nuestras columnas\n",
    "\n",
    "df.isnull().sum()"
   ]
  },
  {
   "cell_type": "markdown",
   "metadata": {},
   "source": [
    "Guardad el csv para seguir trabajando con el en los siguientes ejercicios de pair."
   ]
  },
  {
   "cell_type": "code",
   "execution_count": 36,
   "metadata": {},
   "outputs": [],
   "source": [
    "df.to_csv('../../datos/attack_limpio_4.csv')"
   ]
  }
 ],
 "metadata": {
  "kernelspec": {
   "display_name": "Python 3.9.7 ('base')",
   "language": "python",
   "name": "python3"
  },
  "language_info": {
   "codemirror_mode": {
    "name": "ipython",
    "version": 3
   },
   "file_extension": ".py",
   "mimetype": "text/x-python",
   "name": "python",
   "nbconvert_exporter": "python",
   "pygments_lexer": "ipython3",
   "version": "3.9.13"
  },
  "orig_nbformat": 4,
  "vscode": {
   "interpreter": {
    "hash": "0620710c65b0f5ccc651a2aa8870ae0eb4c70492424a8d7866846658189426a3"
   }
  }
 },
 "nbformat": 4,
 "nbformat_minor": 2
}
