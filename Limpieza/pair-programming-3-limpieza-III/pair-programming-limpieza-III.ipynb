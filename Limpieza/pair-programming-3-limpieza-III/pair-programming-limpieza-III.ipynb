{
 "cells": [
  {
   "cell_type": "markdown",
   "metadata": {},
   "source": [
    "¿Es Australia es el sitio más peligroso y letal para estar relajada en la playa?\n",
    "\n",
    "¿Cuál es el rango de edad que sufre la mayoría de los ataques?\n",
    "\n",
    "Independientemente de la edad, sufren los hombres más ataques que las mujeres?\n",
    "\n",
    "¿En qué mes ocurren más ataques?\n",
    "\n",
    "¿Cuál es la relación entre la especie y el tipo de ataque (si es fatal o no)?\n",
    "\n",
    "¿Cómo han evolucionado los ataques a lo largo del tiempo?"
   ]
  },
  {
   "cell_type": "markdown",
   "metadata": {},
   "source": [
    "Por lo tanto, en este ejercicio tendremos que limpiar los outliers.\n",
    "\n",
    "1 ¿Sobre qué columnas podremos eliminar o reemplazar los outliers?\n",
    "\n",
    "2 Identifica visualmente los outliers\n",
    "\n",
    "3 Identifica sobre el dataframe las filas que son outliers\n",
    "\n",
    "4 Reemplaza los outliers por el estadístico más correcto.\n",
    "\n",
    "5 Guarda el csv con las columnas limpias para seguir trabajando con este dataframe limpio en el siguiente pair programming de limpieza"
   ]
  },
  {
   "cell_type": "code",
   "execution_count": 5,
   "metadata": {},
   "outputs": [],
   "source": [
    "import numpy as np\n",
    "import pandas as pd\n",
    "import matplotlib.pyplot as plt\n",
    "import seaborn as sns\n",
    "from scipy import stats"
   ]
  },
  {
   "cell_type": "code",
   "execution_count": 6,
   "metadata": {},
   "outputs": [],
   "source": [
    "pd.options.display.max_columns = None"
   ]
  },
  {
   "cell_type": "code",
   "execution_count": 7,
   "metadata": {},
   "outputs": [
    {
     "data": {
      "text/html": [
       "<div>\n",
       "<style scoped>\n",
       "    .dataframe tbody tr th:only-of-type {\n",
       "        vertical-align: middle;\n",
       "    }\n",
       "\n",
       "    .dataframe tbody tr th {\n",
       "        vertical-align: top;\n",
       "    }\n",
       "\n",
       "    .dataframe thead th {\n",
       "        text-align: right;\n",
       "    }\n",
       "</style>\n",
       "<table border=\"1\" class=\"dataframe\">\n",
       "  <thead>\n",
       "    <tr style=\"text-align: right;\">\n",
       "      <th></th>\n",
       "      <th>Unnamed: 0.1</th>\n",
       "      <th>case_number</th>\n",
       "      <th>year</th>\n",
       "      <th>type</th>\n",
       "      <th>country</th>\n",
       "      <th>area</th>\n",
       "      <th>location</th>\n",
       "      <th>activity</th>\n",
       "      <th>name</th>\n",
       "      <th>age</th>\n",
       "      <th>time</th>\n",
       "      <th>species_</th>\n",
       "      <th>href</th>\n",
       "      <th>injury</th>\n",
       "      <th>date</th>\n",
       "      <th>mes</th>\n",
       "      <th>fatal_</th>\n",
       "      <th>sex2</th>\n",
       "      <th>species_tipo</th>\n",
       "      <th>edad</th>\n",
       "    </tr>\n",
       "  </thead>\n",
       "  <tbody>\n",
       "    <tr>\n",
       "      <th>0</th>\n",
       "      <td>0</td>\n",
       "      <td>1800.00.00</td>\n",
       "      <td>1800.0</td>\n",
       "      <td>Unprovoked</td>\n",
       "      <td>SEYCHELLES</td>\n",
       "      <td>St. Anne</td>\n",
       "      <td>NaN</td>\n",
       "      <td>a corsair's boat was overturned</td>\n",
       "      <td>NaN</td>\n",
       "      <td>NaN</td>\n",
       "      <td>NaN</td>\n",
       "      <td>NaN</td>\n",
       "      <td>http://sharkattackfile.net/spreadsheets/pdf_di...</td>\n",
       "      <td>FATAL, all onboard were killed by sharks</td>\n",
       "      <td>1800</td>\n",
       "      <td>NaN</td>\n",
       "      <td>y</td>\n",
       "      <td>F</td>\n",
       "      <td>NaN</td>\n",
       "      <td>NaN</td>\n",
       "    </tr>\n",
       "    <tr>\n",
       "      <th>1</th>\n",
       "      <td>1</td>\n",
       "      <td>1797.05.28.R</td>\n",
       "      <td>1797.0</td>\n",
       "      <td>Unprovoked</td>\n",
       "      <td>NaN</td>\n",
       "      <td>NaN</td>\n",
       "      <td>NaN</td>\n",
       "      <td>Dropped overboard</td>\n",
       "      <td>child</td>\n",
       "      <td>NaN</td>\n",
       "      <td>NaN</td>\n",
       "      <td>NaN</td>\n",
       "      <td>http://sharkattackfile.net/spreadsheets/pdf_di...</td>\n",
       "      <td>FATAL</td>\n",
       "      <td>Reported May-28-1797</td>\n",
       "      <td>May</td>\n",
       "      <td>y</td>\n",
       "      <td>NaN</td>\n",
       "      <td>NaN</td>\n",
       "      <td>NaN</td>\n",
       "    </tr>\n",
       "  </tbody>\n",
       "</table>\n",
       "</div>"
      ],
      "text/plain": [
       "   Unnamed: 0.1   case_number    year        type     country      area  \\\n",
       "0             0    1800.00.00  1800.0  Unprovoked  SEYCHELLES  St. Anne   \n",
       "1             1  1797.05.28.R  1797.0  Unprovoked         NaN       NaN   \n",
       "\n",
       "  location                         activity   name  age time species_  \\\n",
       "0      NaN  a corsair's boat was overturned    NaN  NaN  NaN      NaN   \n",
       "1      NaN                Dropped overboard  child  NaN  NaN      NaN   \n",
       "\n",
       "                                                href  \\\n",
       "0  http://sharkattackfile.net/spreadsheets/pdf_di...   \n",
       "1  http://sharkattackfile.net/spreadsheets/pdf_di...   \n",
       "\n",
       "                                     injury                  date  mes fatal_  \\\n",
       "0  FATAL, all onboard were killed by sharks                  1800  NaN      y   \n",
       "1                                     FATAL  Reported May-28-1797  May      y   \n",
       "\n",
       "  sex2 species_tipo  edad  \n",
       "0    F          NaN   NaN  \n",
       "1  NaN          NaN   NaN  "
      ]
     },
     "execution_count": 7,
     "metadata": {},
     "output_type": "execute_result"
    }
   ],
   "source": [
    "df = pd.read_csv(\"../../datos/attack_limpio.csv\", index_col = 0)\n",
    "df.head(2)"
   ]
  },
  {
   "cell_type": "markdown",
   "metadata": {},
   "source": [
    "1 ¿Sobre qué columnas podremos eliminar o reemplazar los outliers?"
   ]
  },
  {
   "cell_type": "code",
   "execution_count": 9,
   "metadata": {},
   "outputs": [],
   "source": [
    "#Sobre la columna \"year\", \"edad\" ya que son variables numéricas y los outliers solo se pueden trabajar sobre este tipo de variables.\n",
    "outliers = df.select_dtypes(include = np.number)"
   ]
  },
  {
   "cell_type": "code",
   "execution_count": 10,
   "metadata": {},
   "outputs": [
    {
     "data": {
      "text/plain": [
       "Index(['Unnamed: 0.1', 'year', 'edad'], dtype='object')"
      ]
     },
     "execution_count": 10,
     "metadata": {},
     "output_type": "execute_result"
    }
   ],
   "source": [
    "outliers.columns"
   ]
  },
  {
   "cell_type": "code",
   "execution_count": null,
   "metadata": {},
   "outputs": [
    {
     "data": {
      "text/html": [
       "<div>\n",
       "<style scoped>\n",
       "    .dataframe tbody tr th:only-of-type {\n",
       "        vertical-align: middle;\n",
       "    }\n",
       "\n",
       "    .dataframe tbody tr th {\n",
       "        vertical-align: top;\n",
       "    }\n",
       "\n",
       "    .dataframe thead th {\n",
       "        text-align: right;\n",
       "    }\n",
       "</style>\n",
       "<table border=\"1\" class=\"dataframe\">\n",
       "  <thead>\n",
       "    <tr style=\"text-align: right;\">\n",
       "      <th></th>\n",
       "      <th>case_number</th>\n",
       "      <th>year</th>\n",
       "      <th>type</th>\n",
       "      <th>country</th>\n",
       "      <th>area</th>\n",
       "      <th>location</th>\n",
       "      <th>activity</th>\n",
       "      <th>name</th>\n",
       "      <th>age</th>\n",
       "      <th>time</th>\n",
       "      <th>species_</th>\n",
       "      <th>href</th>\n",
       "      <th>injury</th>\n",
       "      <th>date</th>\n",
       "      <th>mes</th>\n",
       "      <th>fatal_</th>\n",
       "      <th>sex2</th>\n",
       "      <th>species_tipo</th>\n",
       "      <th>edad</th>\n",
       "    </tr>\n",
       "  </thead>\n",
       "  <tbody>\n",
       "    <tr>\n",
       "      <th>0</th>\n",
       "      <td>1800.00.00</td>\n",
       "      <td>1800.0</td>\n",
       "      <td>Unprovoked</td>\n",
       "      <td>SEYCHELLES</td>\n",
       "      <td>St. Anne</td>\n",
       "      <td>NaN</td>\n",
       "      <td>a corsair's boat was overturned</td>\n",
       "      <td>NaN</td>\n",
       "      <td>NaN</td>\n",
       "      <td>NaN</td>\n",
       "      <td>NaN</td>\n",
       "      <td>http://sharkattackfile.net/spreadsheets/pdf_di...</td>\n",
       "      <td>FATAL, all onboard were killed by sharks</td>\n",
       "      <td>1800</td>\n",
       "      <td>NaN</td>\n",
       "      <td>y</td>\n",
       "      <td>F</td>\n",
       "      <td>NaN</td>\n",
       "      <td>NaN</td>\n",
       "    </tr>\n",
       "    <tr>\n",
       "      <th>1</th>\n",
       "      <td>1797.05.28.R</td>\n",
       "      <td>1797.0</td>\n",
       "      <td>Unprovoked</td>\n",
       "      <td>NaN</td>\n",
       "      <td>NaN</td>\n",
       "      <td>NaN</td>\n",
       "      <td>Dropped overboard</td>\n",
       "      <td>child</td>\n",
       "      <td>NaN</td>\n",
       "      <td>NaN</td>\n",
       "      <td>NaN</td>\n",
       "      <td>http://sharkattackfile.net/spreadsheets/pdf_di...</td>\n",
       "      <td>FATAL</td>\n",
       "      <td>Reported May-28-1797</td>\n",
       "      <td>May</td>\n",
       "      <td>y</td>\n",
       "      <td>NaN</td>\n",
       "      <td>NaN</td>\n",
       "      <td>NaN</td>\n",
       "    </tr>\n",
       "  </tbody>\n",
       "</table>\n",
       "</div>"
      ],
      "text/plain": [
       "    case_number    year        type     country      area location  \\\n",
       "0    1800.00.00  1800.0  Unprovoked  SEYCHELLES  St. Anne      NaN   \n",
       "1  1797.05.28.R  1797.0  Unprovoked         NaN       NaN      NaN   \n",
       "\n",
       "                          activity   name  age time species_  \\\n",
       "0  a corsair's boat was overturned    NaN  NaN  NaN      NaN   \n",
       "1                Dropped overboard  child  NaN  NaN      NaN   \n",
       "\n",
       "                                                href  \\\n",
       "0  http://sharkattackfile.net/spreadsheets/pdf_di...   \n",
       "1  http://sharkattackfile.net/spreadsheets/pdf_di...   \n",
       "\n",
       "                                     injury                  date  mes fatal_  \\\n",
       "0  FATAL, all onboard were killed by sharks                  1800  NaN      y   \n",
       "1                                     FATAL  Reported May-28-1797  May      y   \n",
       "\n",
       "  sex2 species_tipo  edad  \n",
       "0    F          NaN   NaN  \n",
       "1  NaN          NaN   NaN  "
      ]
     },
     "execution_count": 33,
     "metadata": {},
     "output_type": "execute_result"
    }
   ],
   "source": [
    "df.head(2)"
   ]
  },
  {
   "cell_type": "markdown",
   "metadata": {},
   "source": [
    "2 Identifica visualmente los outliers"
   ]
  },
  {
   "cell_type": "code",
   "execution_count": null,
   "metadata": {},
   "outputs": [
    {
     "data": {
      "image/png": "[encoded data removed]",
      "text/plain": [
       "<Figure size 1080x720 with 2 Axes>"
      ]
     },
     "metadata": {
      "needs_background": "light"
     },
     "output_type": "display_data"
    }
   ],
   "source": [
    "#Lo haremos generando un boxplot para su mejor visualización\n",
    "\n",
    "plt.rcParams['figure.figsize']= (15,10)\n",
    "\n",
    "fig, axes = plt.subplots(len(outliers.columns),1)\n",
    "\n",
    "for i in range(len(outliers.columns)):\n",
    "    sns.boxplot(x= df[outliers.columns[i]], data= df, ax= axes[i]);\n",
    "    \n",
    "plt.show()"
   ]
  },
  {
   "cell_type": "markdown",
   "metadata": {},
   "source": [
    "3 Identifica sobre el dataframe las filas que son outliers"
   ]
  },
  {
   "cell_type": "code",
   "execution_count": 31,
   "metadata": {},
   "outputs": [],
   "source": [
    "#Creamos función para poder aplicarlo en las columnas independientemente de su número\n",
    "def calcular_outliers (df,nombre_columna):\n",
    "    \n",
    "    Q1_outliers = np.nanpercentile (df[nombre_columna], 25)\n",
    "    Q3_outliers = np.nanpercentile (df[nombre_columna], 75)\n",
    "\n",
    "    IQR = Q3_outliers - Q1_outliers\n",
    "    outlier_step = 1.5*IQR\n",
    "    \n",
    "    outliers = df[(df[nombre_columna]< Q1_outliers - outlier_step) | (df[nombre_columna]> Q3_outliers + outlier_step)]\n",
    "    if outliers.shape[0] > 0:\n",
    "\n",
    "        dicc_indices[col] = (list(outliers.index)) \n",
    "\n",
    "    return dicc_indices"
   ]
  },
  {
   "cell_type": "markdown",
   "metadata": {},
   "source": [
    "4 Reemplaza los outliers por el estadístico más correcto."
   ]
  },
  {
   "cell_type": "code",
   "execution_count": 32,
   "metadata": {},
   "outputs": [
    {
     "data": {
      "text/html": [
       "<div>\n",
       "<style scoped>\n",
       "    .dataframe tbody tr th:only-of-type {\n",
       "        vertical-align: middle;\n",
       "    }\n",
       "\n",
       "    .dataframe tbody tr th {\n",
       "        vertical-align: top;\n",
       "    }\n",
       "\n",
       "    .dataframe thead th {\n",
       "        text-align: right;\n",
       "    }\n",
       "</style>\n",
       "<table border=\"1\" class=\"dataframe\">\n",
       "  <thead>\n",
       "    <tr style=\"text-align: right;\">\n",
       "      <th></th>\n",
       "      <th>Unnamed: 0.1</th>\n",
       "      <th>year</th>\n",
       "      <th>edad</th>\n",
       "    </tr>\n",
       "  </thead>\n",
       "  <tbody>\n",
       "    <tr>\n",
       "      <th>count</th>\n",
       "      <td>6328.000000</td>\n",
       "      <td>6328.000000</td>\n",
       "      <td>3455.000000</td>\n",
       "    </tr>\n",
       "    <tr>\n",
       "      <th>mean</th>\n",
       "      <td>3144.012800</td>\n",
       "      <td>1927.133059</td>\n",
       "      <td>27.275832</td>\n",
       "    </tr>\n",
       "    <tr>\n",
       "      <th>std</th>\n",
       "      <td>1811.674049</td>\n",
       "      <td>281.554598</td>\n",
       "      <td>13.879811</td>\n",
       "    </tr>\n",
       "    <tr>\n",
       "      <th>min</th>\n",
       "      <td>0.000000</td>\n",
       "      <td>0.000000</td>\n",
       "      <td>1.000000</td>\n",
       "    </tr>\n",
       "    <tr>\n",
       "      <th>25%</th>\n",
       "      <td>1578.750000</td>\n",
       "      <td>1942.000000</td>\n",
       "      <td>17.000000</td>\n",
       "    </tr>\n",
       "    <tr>\n",
       "      <th>50%</th>\n",
       "      <td>3148.500000</td>\n",
       "      <td>1976.000000</td>\n",
       "      <td>24.000000</td>\n",
       "    </tr>\n",
       "    <tr>\n",
       "      <th>75%</th>\n",
       "      <td>4708.250000</td>\n",
       "      <td>2005.000000</td>\n",
       "      <td>35.000000</td>\n",
       "    </tr>\n",
       "    <tr>\n",
       "      <th>max</th>\n",
       "      <td>6283.000000</td>\n",
       "      <td>2018.000000</td>\n",
       "      <td>87.000000</td>\n",
       "    </tr>\n",
       "  </tbody>\n",
       "</table>\n",
       "</div>"
      ],
      "text/plain": [
       "       Unnamed: 0.1         year         edad\n",
       "count   6328.000000  6328.000000  3455.000000\n",
       "mean    3144.012800  1927.133059    27.275832\n",
       "std     1811.674049   281.554598    13.879811\n",
       "min        0.000000     0.000000     1.000000\n",
       "25%     1578.750000  1942.000000    17.000000\n",
       "50%     3148.500000  1976.000000    24.000000\n",
       "75%     4708.250000  2005.000000    35.000000\n",
       "max     6283.000000  2018.000000    87.000000"
      ]
     },
     "execution_count": 32,
     "metadata": {},
     "output_type": "execute_result"
    }
   ],
   "source": [
    "# Comprobamos los principales estadísticos y vemos los outliers, columnas numericas (\"year\", \"edad\")\n",
    "\n",
    "outliers.describe()"
   ]
  },
  {
   "cell_type": "code",
   "execution_count": 33,
   "metadata": {},
   "outputs": [],
   "source": [
    "# Reemplazamos los outliers por la mediana\n",
    "\n",
    "def reemplazar_outliers (df,nombre_columna):\n",
    "\n",
    "    for index in (df,[nombre_columna]):\n",
    "        df.replace(df.loc[index, 'nombre_columna'], df['nombre_columna'].median(), inplace = True)\n",
    "    return reemplazar_outliers"
   ]
  },
  {
   "cell_type": "code",
   "execution_count": 34,
   "metadata": {},
   "outputs": [],
   "source": [
    "def reemplazar_outliers (df,year):\n",
    "\n",
    "    for index in (df,[year]):\n",
    "        df.replace(df.loc[index, 'year'], df['year'].median(), inplace = True)\n",
    "    return reemplazar_outliers"
   ]
  },
  {
   "cell_type": "code",
   "execution_count": 37,
   "metadata": {},
   "outputs": [
    {
     "data": {
      "text/plain": [
       "array([1800., 1797., 1792., 1791., 1788., 1787., 1786., 1785., 1784.,\n",
       "       1783., 1780., 1779., 1776., 1771., 1767., 1764., 1758., 1753.,\n",
       "       1751., 1749., 1755., 1748., 1742., 1738., 1733., 1723., 1721.,\n",
       "       1703., 1700., 1642., 1638., 1637., 1617., 1595., 1580., 1555.,\n",
       "       1554., 1543.,  500.,   77.,    5.,    0., 2018., 2017., 2016.,\n",
       "       2015., 2014., 2013., 2012., 2011., 2010., 2009., 2008., 2007.,\n",
       "       2006., 2005., 2004., 2003., 2002., 2001., 2000., 1999., 1998.,\n",
       "       1997., 1996., 1995., 1984., 1994., 1993., 1992., 1991., 1990.,\n",
       "       1989., 1969., 1988., 1987., 1986., 1985., 1983., 1982., 1981.,\n",
       "       1980., 1979., 1978., 1977., 1976., 1975., 1974., 1973., 1972.,\n",
       "       1971., 1970., 1968., 1967., 1966., 1965., 1964., 1963., 1962.,\n",
       "       1961., 1960., 1959., 1958., 1957., 1956., 1955., 1954., 1953.,\n",
       "       1952., 1951., 1950., 1949., 1948., 1848., 1947., 1946., 1945.,\n",
       "       1944., 1943., 1942., 1941., 1940., 1939., 1938., 1937., 1936.,\n",
       "       1935., 1934., 1933., 1932., 1931., 1930., 1929., 1928., 1927.,\n",
       "       1926., 1925., 1924., 1923., 1922., 1921., 1920., 1919., 1918.,\n",
       "       1917., 1916., 1915., 1914., 1913., 1912., 1911., 1910., 1909.,\n",
       "       1908., 1907., 1906., 1905., 1904., 1903., 1902., 1901., 1900.,\n",
       "       1899., 1898., 1897., 1896., 1895., 1894., 1893., 1892., 1891.,\n",
       "       1890., 1889., 1888., 1887., 1886., 1885., 1884., 1883., 1882.,\n",
       "       1881., 1880., 1879., 1878., 1877., 1876., 1875., 1874., 1873.,\n",
       "       1872., 1871., 1870., 1869., 1868., 1867., 1866., 1865., 1864.,\n",
       "       1863., 1862., 1861., 1860., 1859., 1858., 1857., 1856., 1855.,\n",
       "       1853., 1852., 1851., 1850., 1849., 1847., 1846., 1845., 1844.,\n",
       "       1842., 1841., 1840., 1839., 1837., 1836., 1835., 1834., 1832.,\n",
       "       1831., 1830., 1829., 1828., 1827., 1826., 1825., 1823., 1822.,\n",
       "       1819., 1818., 1817., 1816., 1815., 1812., 1811., 1810., 1808.,\n",
       "       1807., 1805., 1804., 1803., 1802., 1801.])"
      ]
     },
     "execution_count": 37,
     "metadata": {},
     "output_type": "execute_result"
    }
   ],
   "source": [
    "df[\"year\"].unique()"
   ]
  },
  {
   "cell_type": "code",
   "execution_count": 39,
   "metadata": {},
   "outputs": [],
   "source": [
    "def reemplazar_outliers (df,edad):\n",
    "\n",
    "    for index in (df,[edad]):\n",
    "        df.replace(df.loc[index, 'edad'], df['edad'].median(), inplace = True)\n",
    "    return reemplazar_outliers"
   ]
  },
  {
   "cell_type": "code",
   "execution_count": 40,
   "metadata": {},
   "outputs": [
    {
     "data": {
      "text/plain": [
       "array([nan, 14., 19., 20., 15., 21., 27., 36., 25.,  6., 16., 50., 13.,\n",
       "       57., 11., 48., 18., 52., 12., 32., 10., 34., 30., 60., 33., 29.,\n",
       "       54., 41., 37., 56., 69., 38., 55., 35., 46., 45., 28., 24., 26.,\n",
       "       49., 22.,  7., 31., 17., 40., 42.,  3.,  8., 82., 73., 68., 51.,\n",
       "       39., 58., 47., 61., 65., 66., 43.,  9., 72., 59., 64., 23., 71.,\n",
       "       44., 62., 63., 70., 53., 77., 74.,  5., 86., 84., 75., 87., 67.,\n",
       "        1.,  2., 81., 78.])"
      ]
     },
     "execution_count": 40,
     "metadata": {},
     "output_type": "execute_result"
    }
   ],
   "source": [
    "# NO SE POR QUÉ ME SALE TODAVÍA UN NAN\n",
    "\n",
    "df[\"edad\"].unique()"
   ]
  },
  {
   "cell_type": "code",
   "execution_count": 47,
   "metadata": {},
   "outputs": [
    {
     "data": {
      "text/html": [
       "<div>\n",
       "<style scoped>\n",
       "    .dataframe tbody tr th:only-of-type {\n",
       "        vertical-align: middle;\n",
       "    }\n",
       "\n",
       "    .dataframe tbody tr th {\n",
       "        vertical-align: top;\n",
       "    }\n",
       "\n",
       "    .dataframe thead th {\n",
       "        text-align: right;\n",
       "    }\n",
       "</style>\n",
       "<table border=\"1\" class=\"dataframe\">\n",
       "  <thead>\n",
       "    <tr style=\"text-align: right;\">\n",
       "      <th></th>\n",
       "      <th>Unnamed: 0.1</th>\n",
       "      <th>case_number</th>\n",
       "      <th>year</th>\n",
       "      <th>type</th>\n",
       "      <th>country</th>\n",
       "      <th>area</th>\n",
       "      <th>location</th>\n",
       "      <th>activity</th>\n",
       "      <th>name</th>\n",
       "      <th>age</th>\n",
       "      <th>time</th>\n",
       "      <th>species_</th>\n",
       "      <th>href</th>\n",
       "      <th>injury</th>\n",
       "      <th>date</th>\n",
       "      <th>mes</th>\n",
       "      <th>fatal_</th>\n",
       "      <th>sex2</th>\n",
       "      <th>species_tipo</th>\n",
       "      <th>edad</th>\n",
       "    </tr>\n",
       "  </thead>\n",
       "  <tbody>\n",
       "    <tr>\n",
       "      <th>6284</th>\n",
       "      <td>6240</td>\n",
       "      <td>1831.01.22.R</td>\n",
       "      <td>1831.0</td>\n",
       "      <td>Invalid</td>\n",
       "      <td>AUSTRALIA</td>\n",
       "      <td>Tasmania</td>\n",
       "      <td>Hobart</td>\n",
       "      <td>Boat capsized, clinging to line</td>\n",
       "      <td>Robert Dudlow</td>\n",
       "      <td>NaN</td>\n",
       "      <td>NaN</td>\n",
       "      <td>Invalid</td>\n",
       "      <td>http://sharkattackfile.net/spreadsheets/pdf_di...</td>\n",
       "      <td>Drowned, no shark involvement</td>\n",
       "      <td>Reported 22- Jan-1831</td>\n",
       "      <td>Jan</td>\n",
       "      <td>NaN</td>\n",
       "      <td>M</td>\n",
       "      <td>NaN</td>\n",
       "      <td>NaN</td>\n",
       "    </tr>\n",
       "    <tr>\n",
       "      <th>6285</th>\n",
       "      <td>6241</td>\n",
       "      <td>1830.07.26</td>\n",
       "      <td>1830.0</td>\n",
       "      <td>Unprovoked</td>\n",
       "      <td>USA</td>\n",
       "      <td>Massachusetts</td>\n",
       "      <td>Swampscott, Essex County</td>\n",
       "      <td>Fishing from dory, shark upset boat &amp; he fell ...</td>\n",
       "      <td>Joseph Blaney</td>\n",
       "      <td>52</td>\n",
       "      <td>NaN</td>\n",
       "      <td>NaN</td>\n",
       "      <td>http://sharkattackfile.net/spreadsheets/pdf_di...</td>\n",
       "      <td>FATAL</td>\n",
       "      <td>26-Jul-1830</td>\n",
       "      <td>Jul</td>\n",
       "      <td>y</td>\n",
       "      <td>M</td>\n",
       "      <td>NaN</td>\n",
       "      <td>52.0</td>\n",
       "    </tr>\n",
       "  </tbody>\n",
       "</table>\n",
       "</div>"
      ],
      "text/plain": [
       "      Unnamed: 0.1   case_number    year        type    country  \\\n",
       "6284          6240  1831.01.22.R  1831.0     Invalid  AUSTRALIA   \n",
       "6285          6241    1830.07.26  1830.0  Unprovoked        USA   \n",
       "\n",
       "               area                  location  \\\n",
       "6284       Tasmania                    Hobart   \n",
       "6285  Massachusetts  Swampscott, Essex County   \n",
       "\n",
       "                                               activity           name  age  \\\n",
       "6284                    Boat capsized, clinging to line  Robert Dudlow  NaN   \n",
       "6285  Fishing from dory, shark upset boat & he fell ...  Joseph Blaney   52   \n",
       "\n",
       "     time species_                                               href  \\\n",
       "6284  NaN  Invalid  http://sharkattackfile.net/spreadsheets/pdf_di...   \n",
       "6285  NaN      NaN  http://sharkattackfile.net/spreadsheets/pdf_di...   \n",
       "\n",
       "                             injury                   date  mes fatal_ sex2  \\\n",
       "6284  Drowned, no shark involvement  Reported 22- Jan-1831  Jan    NaN    M   \n",
       "6285                          FATAL            26-Jul-1830  Jul      y    M   \n",
       "\n",
       "     species_tipo  edad  \n",
       "6284          NaN   NaN  \n",
       "6285          NaN  52.0  "
      ]
     },
     "execution_count": 47,
     "metadata": {},
     "output_type": "execute_result"
    }
   ],
   "source": [
    "df.drop([\"Unnamed: 0.1\"], axis = 1)\n",
    "df.head(2)"
   ]
  },
  {
   "cell_type": "markdown",
   "metadata": {},
   "source": [
    "5 Guarda el csv con las columnas limpias para seguir trabajando con este dataframe limpio en el siguiente pair programming de limpieza"
   ]
  },
  {
   "cell_type": "code",
   "execution_count": null,
   "metadata": {},
   "outputs": [],
   "source": [
    "df.to_csv(\"../../datos/attack_nulos.csv\")"
   ]
  }
 ],
 "metadata": {
  "kernelspec": {
   "display_name": "Python 3.9.7 ('base')",
   "language": "python",
   "name": "python3"
  },
  "language_info": {
   "codemirror_mode": {
    "name": "ipython",
    "version": 3
   },
   "file_extension": ".py",
   "mimetype": "text/x-python",
   "name": "python",
   "nbconvert_exporter": "python",
   "pygments_lexer": "ipython3",
   "version": "3.9.7"
  },
  "orig_nbformat": 4,
  "vscode": {
   "interpreter": {
    "hash": "ef996a58dd4038b19127a5b342ff558a720418179ddf7c29df6339888c2ae8ac"
   }
  }
 },
 "nbformat": 4,
 "nbformat_minor": 2
}
