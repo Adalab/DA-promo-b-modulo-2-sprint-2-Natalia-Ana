{
 "cells": [
  {
   "cell_type": "markdown",
   "metadata": {},
   "source": [
    "EJERCICIO \n",
    "\n",
    "1.Es el momento de eliminar los nulos:\n",
    " - Reemplazad los valores nulos de la columna age por la media de la edad usando el método SimpleImputer.\n",
    "\n",
    " - Reemplazad los valores nulos de la columna sex por la moda, usando el método SimpleImputer.\n",
    " \n",
    " - Reemplazad los valores nulos de la columna type por el valor más frecuente (la moda) con el método SimpleImputer.\n",
    "\n",
    " - Utilizad el método KNN Imputer para reemplazar todos los valores nulos de las columnas numéricas.\n",
    "\n",
    " - Utilizad el método Iterative Imputer para reemplazar todos los valores nulos de las columnas numéricas.\n",
    " \n",
    "¿Podríais explicar qué diferencia hay entre estos dos últimos métodos?\n"
   ]
  },
  {
   "cell_type": "markdown",
   "metadata": {},
   "source": [
    " - Reemplazad los valores nulos de la columna age por la media de la edad usando el método SimpleImputer."
   ]
  },
  {
   "cell_type": "code",
   "execution_count": 84,
   "metadata": {},
   "outputs": [],
   "source": [
    "import pandas as pd\n",
    "import numpy as np\n",
    "import seaborn as sns\n",
    "import matplotlib.pyplot as plt\n",
    "from scipy import stats\n",
    "from sklearn.impute import SimpleImputer"
   ]
  },
  {
   "cell_type": "code",
   "execution_count": 85,
   "metadata": {},
   "outputs": [],
   "source": [
    "df = pd.read_csv(\"../../datos/attack_limpio.csv\", index_col = 0)"
   ]
  },
  {
   "cell_type": "code",
   "execution_count": 86,
   "metadata": {},
   "outputs": [],
   "source": [
    "imputer = SimpleImputer(strategy= \"mean\", missing_values = np.nan)"
   ]
  },
  {
   "cell_type": "code",
   "execution_count": 87,
   "metadata": {},
   "outputs": [],
   "source": [
    "imputer = imputer.fit(df[[\"edad\"]])"
   ]
  },
  {
   "cell_type": "code",
   "execution_count": 88,
   "metadata": {},
   "outputs": [],
   "source": [
    "df[\"edad_mean\"] = imputer.transform(df[[\"edad\"]])"
   ]
  },
  {
   "cell_type": "code",
   "execution_count": 89,
   "metadata": {},
   "outputs": [
    {
     "data": {
      "text/plain": [
       "Unnamed: 0.1       0\n",
       "case_number        1\n",
       "year               0\n",
       "type               4\n",
       "country           50\n",
       "area             456\n",
       "location         542\n",
       "activity         544\n",
       "name             209\n",
       "age             2820\n",
       "time            3364\n",
       "species_        2845\n",
       "href               0\n",
       "injury            28\n",
       "date               0\n",
       "mes              576\n",
       "fatal_           619\n",
       "sex2             569\n",
       "species_tipo    5196\n",
       "edad            2873\n",
       "edad_mean          0\n",
       "dtype: int64"
      ]
     },
     "execution_count": 89,
     "metadata": {},
     "output_type": "execute_result"
    }
   ],
   "source": [
    "df.isnull().sum()"
   ]
  },
  {
   "cell_type": "markdown",
   "metadata": {},
   "source": [
    " - Reemplazad los valores nulos de la columna sex por la moda, usando el método SimpleImputer."
   ]
  },
  {
   "cell_type": "code",
   "execution_count": 90,
   "metadata": {},
   "outputs": [],
   "source": [
    "imputer = SimpleImputer(strategy= \"most_frequent\", missing_values = np.nan)"
   ]
  },
  {
   "cell_type": "code",
   "execution_count": 91,
   "metadata": {},
   "outputs": [],
   "source": [
    "imputer = imputer.fit(df[[\"sex2\"]])"
   ]
  },
  {
   "cell_type": "code",
   "execution_count": 92,
   "metadata": {},
   "outputs": [],
   "source": [
    "df[\"sex_most_frequent\"] = imputer.transform(df[[\"sex2\"]])"
   ]
  },
  {
   "cell_type": "code",
   "execution_count": 93,
   "metadata": {},
   "outputs": [
    {
     "data": {
      "text/plain": [
       "Unnamed: 0.1            0\n",
       "case_number             1\n",
       "year                    0\n",
       "type                    4\n",
       "country                50\n",
       "area                  456\n",
       "location              542\n",
       "activity              544\n",
       "name                  209\n",
       "age                  2820\n",
       "time                 3364\n",
       "species_             2845\n",
       "href                    0\n",
       "injury                 28\n",
       "date                    0\n",
       "mes                   576\n",
       "fatal_                619\n",
       "sex2                  569\n",
       "species_tipo         5196\n",
       "edad                 2873\n",
       "edad_mean               0\n",
       "sex_most_frequent       0\n",
       "dtype: int64"
      ]
     },
     "execution_count": 93,
     "metadata": {},
     "output_type": "execute_result"
    }
   ],
   "source": [
    "df.isnull().sum()"
   ]
  },
  {
   "cell_type": "markdown",
   "metadata": {},
   "source": [
    " - Reemplazad los valores nulos de la columna type por el valor más frecuente (la moda) con el método SimpleImputer."
   ]
  },
  {
   "cell_type": "code",
   "execution_count": 94,
   "metadata": {},
   "outputs": [],
   "source": [
    "imputer = SimpleImputer(strategy= \"most_frequent\", missing_values = np.nan)"
   ]
  },
  {
   "cell_type": "code",
   "execution_count": 95,
   "metadata": {},
   "outputs": [],
   "source": [
    "imputer = imputer.fit(df[[\"type\"]])"
   ]
  },
  {
   "cell_type": "code",
   "execution_count": 96,
   "metadata": {},
   "outputs": [],
   "source": [
    "df[\"type_most_frequent\"] = imputer.transform(df[[\"type\"]])"
   ]
  },
  {
   "cell_type": "code",
   "execution_count": 97,
   "metadata": {},
   "outputs": [
    {
     "data": {
      "text/plain": [
       "Unnamed: 0.1             0\n",
       "case_number              1\n",
       "year                     0\n",
       "type                     4\n",
       "country                 50\n",
       "area                   456\n",
       "location               542\n",
       "activity               544\n",
       "name                   209\n",
       "age                   2820\n",
       "time                  3364\n",
       "species_              2845\n",
       "href                     0\n",
       "injury                  28\n",
       "date                     0\n",
       "mes                    576\n",
       "fatal_                 619\n",
       "sex2                   569\n",
       "species_tipo          5196\n",
       "edad                  2873\n",
       "edad_mean                0\n",
       "sex_most_frequent        0\n",
       "type_most_frequent       0\n",
       "dtype: int64"
      ]
     },
     "execution_count": 97,
     "metadata": {},
     "output_type": "execute_result"
    }
   ],
   "source": [
    "df.isnull().sum()"
   ]
  },
  {
   "cell_type": "markdown",
   "metadata": {},
   "source": [
    "- Utilizad el método KNN Imputer para reemplazar todos los valores nulos de las columnas numéricas."
   ]
  },
  {
   "cell_type": "code",
   "execution_count": 98,
   "metadata": {},
   "outputs": [],
   "source": [
    "from sklearn.impute import KNNImputer"
   ]
  },
  {
   "cell_type": "code",
   "execution_count": 99,
   "metadata": {},
   "outputs": [
    {
     "data": {
      "text/plain": [
       "KNNImputer()"
      ]
     },
     "execution_count": 99,
     "metadata": {},
     "output_type": "execute_result"
    }
   ],
   "source": [
    "numericas = df.select_dtypes(include = np.number)\n",
    "imputerKNN = KNNImputer(n_neighbors = 5)\n",
    "imputerKNN.fit(numericas)"
   ]
  },
  {
   "cell_type": "code",
   "execution_count": 100,
   "metadata": {},
   "outputs": [],
   "source": [
    "numericas_knn= imputerKNN.transform(numericas)"
   ]
  },
  {
   "cell_type": "code",
   "execution_count": 101,
   "metadata": {},
   "outputs": [],
   "source": [
    "df_knn_imputer = pd.DataFrame(numericas_knn, columns = numericas.columns)"
   ]
  },
  {
   "cell_type": "code",
   "execution_count": 102,
   "metadata": {},
   "outputs": [],
   "source": [
    "columnas_knn = df_knn_imputer.columns"
   ]
  },
  {
   "cell_type": "code",
   "execution_count": 103,
   "metadata": {},
   "outputs": [],
   "source": [
    "\n",
    "df.drop(columnas_knn, axis = 1, inplace = True)"
   ]
  },
  {
   "cell_type": "code",
   "execution_count": 104,
   "metadata": {},
   "outputs": [],
   "source": [
    "df[columnas_knn] = numericas_knn"
   ]
  },
  {
   "cell_type": "code",
   "execution_count": 105,
   "metadata": {},
   "outputs": [
    {
     "data": {
      "text/plain": [
       "case_number              1\n",
       "type                     4\n",
       "country                 50\n",
       "area                   456\n",
       "location               542\n",
       "activity               544\n",
       "name                   209\n",
       "age                   2820\n",
       "time                  3364\n",
       "species_              2845\n",
       "href                     0\n",
       "injury                  28\n",
       "date                     0\n",
       "mes                    576\n",
       "fatal_                 619\n",
       "sex2                   569\n",
       "species_tipo          5196\n",
       "sex_most_frequent        0\n",
       "type_most_frequent       0\n",
       "Unnamed: 0.1             0\n",
       "year                     0\n",
       "edad                     0\n",
       "edad_mean                0\n",
       "dtype: int64"
      ]
     },
     "execution_count": 105,
     "metadata": {},
     "output_type": "execute_result"
    }
   ],
   "source": [
    "df.isnull().sum()"
   ]
  },
  {
   "cell_type": "markdown",
   "metadata": {},
   "source": [
    "\n",
    " - Utilizad el método Iterative Imputer para reemplazar todos los valores nulos de las columnas numéricas.\n",
    " "
   ]
  },
  {
   "cell_type": "code",
   "execution_count": 106,
   "metadata": {},
   "outputs": [],
   "source": [
    "from sklearn.experimental import enable_iterative_imputer\n",
    "from sklearn.impute import IterativeImputer "
   ]
  },
  {
   "cell_type": "code",
   "execution_count": 107,
   "metadata": {},
   "outputs": [],
   "source": [
    "numericas = df.select_dtypes(include = np.number)"
   ]
  },
  {
   "cell_type": "code",
   "execution_count": 108,
   "metadata": {},
   "outputs": [],
   "source": [
    "imputer = IterativeImputer(n_nearest_features=None, imputation_order='ascending') "
   ]
  },
  {
   "cell_type": "code",
   "execution_count": 109,
   "metadata": {},
   "outputs": [
    {
     "data": {
      "text/plain": [
       "IterativeImputer()"
      ]
     },
     "execution_count": 109,
     "metadata": {},
     "output_type": "execute_result"
    }
   ],
   "source": [
    "imputer.fit(numericas)"
   ]
  },
  {
   "cell_type": "code",
   "execution_count": 110,
   "metadata": {},
   "outputs": [
    {
     "data": {
      "text/plain": [
       "array([[0.00000000e+00, 1.80000000e+03, 2.98000000e+01, 2.72758321e+01],\n",
       "       [1.00000000e+00, 1.79700000e+03, 2.98000000e+01, 2.72758321e+01],\n",
       "       [2.00000000e+00, 1.79200000e+03, 2.98000000e+01, 2.72758321e+01],\n",
       "       ...,\n",
       "       [6.28100000e+03, 1.80300000e+03, 2.64000000e+01, 2.72758321e+01],\n",
       "       [6.28200000e+03, 1.80200000e+03, 2.64000000e+01, 2.72758321e+01],\n",
       "       [6.28300000e+03, 1.80100000e+03, 2.64000000e+01, 2.72758321e+01]])"
      ]
     },
     "execution_count": 110,
     "metadata": {},
     "output_type": "execute_result"
    }
   ],
   "source": [
    "imputer.transform(numericas)"
   ]
  },
  {
   "cell_type": "code",
   "execution_count": 111,
   "metadata": {},
   "outputs": [],
   "source": [
    "numericas_trans = pd.DataFrame(imputer.transform(numericas), columns = numericas.columns) "
   ]
  },
  {
   "cell_type": "code",
   "execution_count": 112,
   "metadata": {},
   "outputs": [
    {
     "data": {
      "text/plain": [
       "Unnamed: 0.1    0\n",
       "year            0\n",
       "edad            0\n",
       "edad_mean       0\n",
       "dtype: int64"
      ]
     },
     "execution_count": 112,
     "metadata": {},
     "output_type": "execute_result"
    }
   ],
   "source": [
    "numericas_trans.isnull().sum()"
   ]
  },
  {
   "cell_type": "code",
   "execution_count": 113,
   "metadata": {},
   "outputs": [],
   "source": [
    "columnas = numericas_trans.columns "
   ]
  },
  {
   "cell_type": "code",
   "execution_count": 114,
   "metadata": {},
   "outputs": [],
   "source": [
    "df.drop(columnas, axis = 1, inplace = True) "
   ]
  },
  {
   "cell_type": "code",
   "execution_count": 115,
   "metadata": {},
   "outputs": [],
   "source": [
    "df[columnas] = numericas_trans[columnas]"
   ]
  },
  {
   "cell_type": "code",
   "execution_count": 116,
   "metadata": {},
   "outputs": [
    {
     "data": {
      "text/plain": [
       "Index(['case_number', 'type', 'country', 'area', 'location', 'activity',\n",
       "       'name', 'age', 'time', 'species_', 'href', 'injury', 'date', 'mes',\n",
       "       'fatal_', 'sex2', 'species_tipo', 'sex_most_frequent',\n",
       "       'type_most_frequent', 'Unnamed: 0.1', 'year', 'edad', 'edad_mean'],\n",
       "      dtype='object')"
      ]
     },
     "execution_count": 116,
     "metadata": {},
     "output_type": "execute_result"
    }
   ],
   "source": [
    "df.columns"
   ]
  },
  {
   "cell_type": "code",
   "execution_count": 117,
   "metadata": {},
   "outputs": [
    {
     "data": {
      "text/plain": [
       "case_number              1\n",
       "type                     4\n",
       "country                 50\n",
       "area                   456\n",
       "location               542\n",
       "activity               544\n",
       "name                   209\n",
       "age                   2820\n",
       "time                  3364\n",
       "species_              2845\n",
       "href                     0\n",
       "injury                  28\n",
       "date                     0\n",
       "mes                    576\n",
       "fatal_                 619\n",
       "sex2                   569\n",
       "species_tipo          5196\n",
       "sex_most_frequent        0\n",
       "type_most_frequent       0\n",
       "Unnamed: 0.1             0\n",
       "year                     0\n",
       "edad                     0\n",
       "edad_mean                0\n",
       "dtype: int64"
      ]
     },
     "execution_count": 117,
     "metadata": {},
     "output_type": "execute_result"
    }
   ],
   "source": [
    "df.isnull().sum() "
   ]
  },
  {
   "cell_type": "markdown",
   "metadata": {},
   "source": [
    "2.Guardad el csv para seguir trabajando con el en los siguientes ejercicios de pair"
   ]
  },
  {
   "cell_type": "code",
   "execution_count": 118,
   "metadata": {},
   "outputs": [],
   "source": [
    "df.to_csv(\"../../datos/attack_nulos.csv\")"
   ]
  }
 ],
 "metadata": {
  "kernelspec": {
   "display_name": "Python 3.9.7 ('base')",
   "language": "python",
   "name": "python3"
  },
  "language_info": {
   "codemirror_mode": {
    "name": "ipython",
    "version": 3
   },
   "file_extension": ".py",
   "mimetype": "text/x-python",
   "name": "python",
   "nbconvert_exporter": "python",
   "pygments_lexer": "ipython3",
   "version": "3.9.7"
  },
  "orig_nbformat": 4,
  "vscode": {
   "interpreter": {
    "hash": "ef996a58dd4038b19127a5b342ff558a720418179ddf7c29df6339888c2ae8ac"
   }
  }
 },
 "nbformat": 4,
 "nbformat_minor": 2
}
