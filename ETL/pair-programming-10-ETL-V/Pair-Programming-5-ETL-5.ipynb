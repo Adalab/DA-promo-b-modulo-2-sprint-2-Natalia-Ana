{
 "cells": [
  {
   "cell_type": "code",
   "execution_count": 18,
   "metadata": {},
   "outputs": [],
   "source": [
    "import pandas as pd\n",
    "import requests\n",
    "from datetime import datetime, timedelta\n",
    "import mysql.connector"
   ]
  },
  {
   "cell_type": "code",
   "execution_count": 2,
   "metadata": {},
   "outputs": [
    {
     "data": {
      "text/plain": [
       "Index(['Unnamed: 0', 'case_number', 'year', 'type', 'country', 'area',\n",
       "       'location', 'activity', 'name', 'age', 'time', 'species_', 'href',\n",
       "       'injury', 'date', 'mes', 'fatal_', 'sex2', 'species_tipo', 'edad'],\n",
       "      dtype='object')"
      ]
     },
     "execution_count": 2,
     "metadata": {},
     "output_type": "execute_result"
    }
   ],
   "source": [
    "df = pd.read_csv(\"../datos/attack_limpio.csv\", index_col = 0)\n",
    "df.columns"
   ]
  },
  {
   "cell_type": "code",
   "execution_count": 5,
   "metadata": {},
   "outputs": [],
   "source": [
    "df_clima = pd.read_csv('../datos/paises_meteo.csv', index_col=0)"
   ]
  },
  {
   "cell_type": "code",
   "execution_count": 6,
   "metadata": {},
   "outputs": [
    {
     "data": {
      "text/plain": [
       "Index(['timepoint', 'cloudcover', 'highcloud', 'midcloud', 'lowcloud',\n",
       "       'rh_profile', 'wind_profile', 'temp2m', 'lifted_index', 'rh2m',\n",
       "       'msl_pressure', 'prec_type', 'prec_amount', 'snow_depth',\n",
       "       'wind10m.direction', 'wind10m.speed', 'latitud', 'longitud', 'pais'],\n",
       "      dtype='object')"
      ]
     },
     "execution_count": 6,
     "metadata": {},
     "output_type": "execute_result"
    }
   ],
   "source": [
    "df_clima.columns"
   ]
  },
  {
   "cell_type": "code",
   "execution_count": 30,
   "metadata": {},
   "outputs": [],
   "source": [
    "class Cargar:\n",
    "    \n",
    "    def __init__(self, nombre_bbdd, contraseña):\n",
    "        # nuestra clase va a recibir dos parámetros que son fijos a lo largo de toda la BBDD, el nombre de la BBDD y \n",
    "        # la contraseña con el servidor. \n",
    "        self.nombre_bbdd = nombre_bbdd\n",
    "        self.contraseña = contraseña\n",
    "\n",
    "    # método para crear la BBDD \n",
    "    def crear_bbdd(self):\n",
    "\n",
    "        mydb = mysql.connector.connect(host=\"127.0.0.1\",\n",
    "                                       user=\"root\",\n",
    "                                       password=f'{self.contraseña}') \n",
    "        mycursor = mydb.cursor()\n",
    "        print(\"Conexión realizada con éxito\")\n",
    "\n",
    "        try:\n",
    "            mycursor.execute(f\"CREATE DATABASE IF NOT EXISTS {self.nombre_bbdd};\")\n",
    "            \n",
    "        except:\n",
    "            print(\"La BBDD ya existe\")\n",
    "            \n",
    "    # método para crear tablas  e insertar datos en ellas   \n",
    "    def crear_insertar_tabla(self, query):\n",
    "        \n",
    "        mydb = mysql.connector.connect(host=\"127.0.0.1\",\n",
    "                                       user=\"root\",\n",
    "                                       password=f'{self.contraseña}', \n",
    "                                       database=f\"{self.nombre_bbdd}\") \n",
    "        mycursor = mydb.cursor()\n",
    "        \n",
    "        try:\n",
    "            mycursor.execute(query)\n",
    "            mydb.commit()\n",
    "          \n",
    "        except mysql.connector.Error as err:\n",
    "            print(err)\n",
    "            print(\"Error Code:\", err.errno)\n",
    "            print(\"SQLSTATE\", err.sqlstate)\n",
    "            print(\"Message\", err.msg)\n",
    "            \n",
    "\n",
    "    # método para comprobar si el pais que estamos intentando meter ya existe en la BBDD. \n",
    "    # En caso de que ya exista no será necesario que la insertemos de nuevo\n",
    "    def check_pais (self):\n",
    "    \n",
    "        mydb = mysql.connector.connect(user='root',\n",
    "                                      password=f\"{self.contraseña}\",\n",
    "                                      host='127.0.0.1',\n",
    "                                      database=f\"{self.nombre_bbdd}\")\n",
    "        mycursor = mydb.cursor()\n",
    "\n",
    "        # query para extraer los valores únicos de paises de la tabla de paises\n",
    "        query_existe_pais = f\"\"\"\n",
    "                SELECT DISTINCT pais FROM ataques\n",
    "                \"\"\"\n",
    "        mycursor.execute(query_existe_pais)\n",
    "        pais = mycursor.fetchall()\n",
    "        return pais\n",
    "\n",
    "    def sacar_id_pais(self, pais):\n",
    "        \n",
    "        mydb = mysql.connector.connect(user='root',\n",
    "                                       password= f'{self.contraseña}',\n",
    "                                       host='127.0.0.1', \n",
    "                                       database=f\"{self.nombre_bbdd}\")\n",
    "        mycursor = mydb.cursor()\n",
    "        \n",
    "        try:\n",
    "            query_sacar_id = f\"SELECT id_pais FROM ataques WHERE pais = '{pais}'\"\n",
    "            mycursor.execute(query_sacar_id)\n",
    "            id_ = mycursor.fetchall()[0][0]\n",
    "            return id_\n",
    "        \n",
    "        except: \n",
    "            return \"Sorry, no tenemos ese pais en la BBDD y por lo tanto no te podemos dar su id. \"\n",
    "    "
   ]
  },
  {
   "cell_type": "code",
   "execution_count": 12,
   "metadata": {},
   "outputs": [],
   "source": [
    "bbdd = 'tiburones'\n",
    "contraseña = 'AlumnaAdalab'"
   ]
  },
  {
   "cell_type": "code",
   "execution_count": 31,
   "metadata": {},
   "outputs": [],
   "source": [
    "cargar_tiburones = Cargar(bbdd, contraseña)"
   ]
  },
  {
   "cell_type": "code",
   "execution_count": 25,
   "metadata": {},
   "outputs": [
    {
     "data": {
      "text/plain": [
       "<__main__.Cargar at 0x7f1283122e20>"
      ]
     },
     "execution_count": 25,
     "metadata": {},
     "output_type": "execute_result"
    }
   ],
   "source": [
    "cargar_tiburones"
   ]
  },
  {
   "cell_type": "code",
   "execution_count": 32,
   "metadata": {},
   "outputs": [
    {
     "data": {
      "text/plain": [
       "<bound method Cargar.crear_bbdd of <__main__.Cargar object at 0x7f1283128760>>"
      ]
     },
     "execution_count": 32,
     "metadata": {},
     "output_type": "execute_result"
    }
   ],
   "source": [
    "cargar_tiburones.crear_bbdd"
   ]
  },
  {
   "cell_type": "code",
   "execution_count": 9,
   "metadata": {},
   "outputs": [],
   "source": [
    "# tabla ataques\n",
    "\n",
    "for indice, fila in df.iterrows():\n",
    "    \n",
    "    # creamos la query que no inserta datos en la tabla localidades\n",
    "    query_ataques = f\"\"\"\n",
    "                INSERT INTO ataques ('year', 'type', 'country', 'area',\n",
    "       'location', 'activity', 'name', 'age', 'time', 'species_', 'href',\n",
    "       'injury', 'date', 'mes', 'fatal_', 'sex2', 'species_tipo', 'edad') \n",
    "                VALUES (\"{fila[\"year\"]}\", \"{fila[\"type\"]}\", \"{fila[\"country\"]}\",\"{fila[\"area\"]}\", \"{fila[\"location\"]}\", \"{fila[\"activity\"]}\",\n",
    "                \"{fila[\"name\"]}\", \"{fila[\"age\"]}\", \"{fila[\"time\"]}\", \"{fila[\"species_\"]}, \"{fila[\"href\"]}\", \"{fila[\"injury\"]}\",\n",
    "                \"{fila[\"date\"]}\", \"{fila[\"mes\"]}\", \"{fila[\"fatal_\"]}\", \"{fila[\"sex2\"]}\", \"{fila[\"species_tipo\"]}\", \"{fila[\"edad\"]}\");\n",
    "                \"\"\"\n",
    "    # llamamos a la funcion check_ciudades para saber que ciudades tenemos en la BBDD\n",
    "    # pais = carga.check_pais()\n",
    "    \n",
    "    # Si la BBDD de datos esta vacía,  podemos insertar la ciudad. \n",
    " \n",
    "    # if len(pais) == 0 or fila['pais'] not in pais[0]: \n",
    "        #carga.crear_insertar_tabla( query_ataques)\n",
    "\n",
    "    #else:\n",
    "     #   print(f\"{fila['pais']} ya esta en nuestra BBDD\")"
   ]
  },
  {
   "cell_type": "code",
   "execution_count": null,
   "metadata": {},
   "outputs": [],
   "source": [
    "tabla_ataques = ''' CREATE TABLE IF NOT EXISTS `ataques` (\n",
    "    `id_ataques` INT NOT NULL AUTO_INCREMENT, \n",
    "    `year` INT NOT NULL, \n",
    "    `type` VARCHAR(50) DEFAULT NULL, \n",
    "    `country` VARCHAR(50) DEFAULT NULL,  \n",
    "    `age` FLOAT DEFAULT NULL,\n",
    "    `species_` VARCHAR(50) DEFAULT NULL,\n",
    "    `fecha_limpia` VARCHAR (10) DEFAULT NULL,\n",
    "    `fatal` CHAR (1) DEFAULT NULL,\n",
    "    `sex` CHAR (1) DEFAULT NULL,\n",
    "    `activity` VARCHAR (250) DEFAULT NULL,\n",
    "    PRIMARY KEY (`id_ataques`))\n",
    "    \n",
    "    ENGINE = InnoDB;\n",
    "    '''"
   ]
  },
  {
   "cell_type": "code",
   "execution_count": 10,
   "metadata": {},
   "outputs": [
    {
     "data": {
      "text/plain": [
       "Index(['timepoint', 'cloudcover', 'highcloud', 'midcloud', 'lowcloud',\n",
       "       'rh_profile', 'wind_profile', 'temp2m', 'lifted_index', 'rh2m',\n",
       "       'msl_pressure', 'prec_type', 'prec_amount', 'snow_depth',\n",
       "       'wind10m.direction', 'wind10m.speed', 'latitud', 'longitud', 'pais'],\n",
       "      dtype='object')"
      ]
     },
     "execution_count": 10,
     "metadata": {},
     "output_type": "execute_result"
    }
   ],
   "source": [
    "df_clima.columns"
   ]
  },
  {
   "cell_type": "code",
   "execution_count": null,
   "metadata": {},
   "outputs": [],
   "source": [
    "def sacar_id_pais(contraseña, nombre_bbdd, pais):\n",
    "    \n",
    "    # creamos la conexion con el servidor y la BBDD\n",
    "    cnx = mysql.connector.connect(user='root', password= f'{contraseña}',\n",
    "                                  host='127.0.0.1', database=f\"{nombre_bbdd}\")\n",
    "    mycursor = cnx.cursor()\n",
    "\n",
    "    # creamos la query para sacar el id de la pais que queramos\n",
    "    query_sacar_id = f\"SELECT id_pais FROM clima WHERE pais = '{pais}'\"\n",
    "    \n",
    "    # puede que el id de la pais que estemos intentando insertar no este en nuestra BBDD. Por lo que vamos a hacer un try except para que no nos falle el código\n",
    "    try: \n",
    "        mycursor.execute(query_sacar_id)\n",
    "        id_ = mycursor.fetchall()[0][0]\n",
    "        return id_\n",
    "    \n",
    "    except: \n",
    "        return \"Sorry, no tenemos esa pais en la BBDD y por lo tanto no te podemos dar su id. \""
   ]
  },
  {
   "cell_type": "code",
   "execution_count": null,
   "metadata": {},
   "outputs": [],
   "source": [
    "# tabla clima\n",
    "\n",
    "for indice, fila in df.iterrows():\n",
    "\n",
    "    id_pais = sacar_id_pais(\"AlumnaAdalab\", \"clima\", fila['pais'])\n",
    "    \n",
    "    query_clima = f\"\"\"\n",
    "                INSERT INTO clima (cloudcover, lifted_index, prec_type, prec_amount, temp2m, rh2m, weather, wind_direction, wind_speed, seeing, transparency, idtiempo, idlocalidad) \n",
    "                VALUES ({fila[\"cloudcover\"]}, {fila['lifted_index']}, \"{fila['prec_type']}\", {fila['prec_amount']},{fila['temp2m']},{fila['rh2m']}, \"{fila['weather']}\",\"{fila['wind10m.direction']}\",\n",
    "                {fila['wind10m.speed']}, {fila['seeing']}, {fila['transparency']}, {id_pais});\n",
    "                \"\"\"\n",
    "    # en vez de carga se pone el nombre de la variable que nosotros creemos cuando llamamos a la clase de crear tabla: carga.crear_insertar_tabla( query_medidas)\n",
    "    "
   ]
  }
 ],
 "metadata": {
  "kernelspec": {
   "display_name": "Python 3.9.13 ('base')",
   "language": "python",
   "name": "python3"
  },
  "language_info": {
   "codemirror_mode": {
    "name": "ipython",
    "version": 3
   },
   "file_extension": ".py",
   "mimetype": "text/x-python",
   "name": "python",
   "nbconvert_exporter": "python",
   "pygments_lexer": "ipython3",
   "version": "3.9.13"
  },
  "orig_nbformat": 4,
  "vscode": {
   "interpreter": {
    "hash": "0620710c65b0f5ccc651a2aa8870ae0eb4c70492424a8d7866846658189426a3"
   }
  }
 },
 "nbformat": 4,
 "nbformat_minor": 2
}
