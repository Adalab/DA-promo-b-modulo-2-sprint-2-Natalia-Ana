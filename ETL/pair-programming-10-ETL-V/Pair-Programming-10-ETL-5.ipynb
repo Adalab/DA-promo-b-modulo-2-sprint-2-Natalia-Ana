{
 "cells": [
  {
   "cell_type": "code",
   "execution_count": 232,
   "metadata": {},
   "outputs": [],
   "source": [
    "import pandas as pd\n",
    "import requests\n",
    "from datetime import datetime, timedelta\n",
    "import mysql.connector"
   ]
  },
  {
   "cell_type": "code",
   "execution_count": 233,
   "metadata": {},
   "outputs": [],
   "source": [
    "df_attack_meteo = pd.read_csv('../../datos/attacks_meteo.csv', index_col=0)"
   ]
  },
  {
   "cell_type": "code",
   "execution_count": 234,
   "metadata": {},
   "outputs": [
    {
     "data": {
      "text/html": [
       "<div>\n",
       "<style scoped>\n",
       "    .dataframe tbody tr th:only-of-type {\n",
       "        vertical-align: middle;\n",
       "    }\n",
       "\n",
       "    .dataframe tbody tr th {\n",
       "        vertical-align: top;\n",
       "    }\n",
       "\n",
       "    .dataframe thead th {\n",
       "        text-align: right;\n",
       "    }\n",
       "</style>\n",
       "<table border=\"1\" class=\"dataframe\">\n",
       "  <thead>\n",
       "    <tr style=\"text-align: right;\">\n",
       "      <th></th>\n",
       "      <th>case_number</th>\n",
       "      <th>year</th>\n",
       "      <th>mes</th>\n",
       "      <th>country</th>\n",
       "      <th>type</th>\n",
       "      <th>age</th>\n",
       "      <th>sex</th>\n",
       "      <th>species</th>\n",
       "      <th>fatal</th>\n",
       "      <th>rh_950mb</th>\n",
       "      <th>...</th>\n",
       "      <th>lifted_index</th>\n",
       "      <th>rh2m</th>\n",
       "      <th>msl_pressure</th>\n",
       "      <th>prec_amount</th>\n",
       "      <th>snow_depth</th>\n",
       "      <th>wind10m.direction</th>\n",
       "      <th>wind10m.speed</th>\n",
       "      <th>latitud</th>\n",
       "      <th>longitud</th>\n",
       "      <th>fecha_descarga</th>\n",
       "    </tr>\n",
       "  </thead>\n",
       "  <tbody>\n",
       "    <tr>\n",
       "      <th>0</th>\n",
       "      <td>1791.00.00</td>\n",
       "      <td>1976</td>\n",
       "      <td>Unknown</td>\n",
       "      <td>australia</td>\n",
       "      <td>Unprovoked</td>\n",
       "      <td>27.28</td>\n",
       "      <td>F</td>\n",
       "      <td>UNKNOWN</td>\n",
       "      <td>y</td>\n",
       "      <td>12.6875</td>\n",
       "      <td>...</td>\n",
       "      <td>2.40625</td>\n",
       "      <td>10.265625</td>\n",
       "      <td>1022.328125</td>\n",
       "      <td>2.59375</td>\n",
       "      <td>0.0</td>\n",
       "      <td>1.642202e+151</td>\n",
       "      <td>3.09375</td>\n",
       "      <td>-24.776109</td>\n",
       "      <td>134.755</td>\n",
       "      <td>2022-09-18</td>\n",
       "    </tr>\n",
       "    <tr>\n",
       "      <th>1</th>\n",
       "      <td>1788.05.10</td>\n",
       "      <td>1976</td>\n",
       "      <td>May</td>\n",
       "      <td>australia</td>\n",
       "      <td>Boat</td>\n",
       "      <td>27.28</td>\n",
       "      <td>M</td>\n",
       "      <td>UNKNOWN</td>\n",
       "      <td>n</td>\n",
       "      <td>12.6875</td>\n",
       "      <td>...</td>\n",
       "      <td>2.40625</td>\n",
       "      <td>10.265625</td>\n",
       "      <td>1022.328125</td>\n",
       "      <td>2.59375</td>\n",
       "      <td>0.0</td>\n",
       "      <td>1.642202e+151</td>\n",
       "      <td>3.09375</td>\n",
       "      <td>-24.776109</td>\n",
       "      <td>134.755</td>\n",
       "      <td>2022-09-18</td>\n",
       "    </tr>\n",
       "  </tbody>\n",
       "</table>\n",
       "<p>2 rows × 57 columns</p>\n",
       "</div>"
      ],
      "text/plain": [
       "  case_number  year      mes    country        type    age sex  species fatal  \\\n",
       "0  1791.00.00  1976  Unknown  australia  Unprovoked  27.28   F  UNKNOWN     y   \n",
       "1  1788.05.10  1976      May  australia        Boat  27.28   M  UNKNOWN     n   \n",
       "\n",
       "   rh_950mb  ...  lifted_index       rh2m  msl_pressure  prec_amount  \\\n",
       "0   12.6875  ...       2.40625  10.265625   1022.328125      2.59375   \n",
       "1   12.6875  ...       2.40625  10.265625   1022.328125      2.59375   \n",
       "\n",
       "   snow_depth  wind10m.direction  wind10m.speed    latitud  longitud  \\\n",
       "0         0.0      1.642202e+151        3.09375 -24.776109   134.755   \n",
       "1         0.0      1.642202e+151        3.09375 -24.776109   134.755   \n",
       "\n",
       "   fecha_descarga  \n",
       "0      2022-09-18  \n",
       "1      2022-09-18  \n",
       "\n",
       "[2 rows x 57 columns]"
      ]
     },
     "execution_count": 234,
     "metadata": {},
     "output_type": "execute_result"
    }
   ],
   "source": [
    "df_attack_meteo.head(2)"
   ]
  },
  {
   "cell_type": "code",
   "execution_count": 235,
   "metadata": {},
   "outputs": [],
   "source": [
    "class Cargar:\n",
    "    \n",
    "    def __init__(self, nombre_bbdd, contraseña):\n",
    "        \n",
    "        self.nombre_bbdd = nombre_bbdd\n",
    "        self.contraseña = contraseña\n",
    "\n",
    "    # método para crear la BBDD \n",
    "    def crear_bbdd(self):\n",
    "\n",
    "        mydb = mysql.connector.connect(host=\"127.0.0.1\",\n",
    "                                       user=\"root\",\n",
    "                                       password=f'{self.contraseña}') \n",
    "        mycursor = mydb.cursor()\n",
    "        print(\"Conexión realizada con éxito\")\n",
    "\n",
    "        try:\n",
    "            mycursor.execute(f\"CREATE DATABASE IF NOT EXISTS {self.nombre_bbdd};\")\n",
    "            print(mycursor)\n",
    "            \n",
    "        except mysql.connector.Error as err:\n",
    "            print(err)\n",
    "            print(\"Error Code:\", err.errno)\n",
    "            print(\"SQLSTATE\", err.sqlstate)\n",
    "            print(\"Message\", err.msg) \n",
    "                \n",
    "    # método para crear tablas  e insertar datos en ellas   \n",
    "    def crear_insertar_tabla(self, query):\n",
    "        \n",
    "        mydb = mysql.connector.connect(host=\"127.0.0.1\",\n",
    "                                       user=\"root\",\n",
    "                                       password=f'{self.contraseña}', \n",
    "                                       database=f\"{self.nombre_bbdd}\") \n",
    "        mycursor = mydb.cursor()\n",
    "        \n",
    "        try:\n",
    "            mycursor.execute(query)\n",
    "            mydb.commit()\n",
    "          \n",
    "        except mysql.connector.Error as err:\n",
    "            print(err)\n",
    "            print(\"Error Code:\", err.errno)\n",
    "            print(\"SQLSTATE\", err.sqlstate)\n",
    "            print(\"Message\", err.msg)\n",
    "            \n",
    "\n",
    "    # método para comprobar si el pais que estamos intentando meter ya existe en la BBDD. \n",
    "    # En caso de que ya exista no será necesario que la insertemos de nuevo\n"
   ]
  },
  {
   "cell_type": "code",
   "execution_count": 236,
   "metadata": {},
   "outputs": [],
   "source": [
    "bbdd = 'tiburones'\n",
    "contraseña = 'AlumnaAdalab'"
   ]
  },
  {
   "cell_type": "code",
   "execution_count": 237,
   "metadata": {},
   "outputs": [],
   "source": [
    "cargar_tiburones = Cargar(bbdd, contraseña)"
   ]
  },
  {
   "cell_type": "code",
   "execution_count": 238,
   "metadata": {},
   "outputs": [
    {
     "data": {
      "text/plain": [
       "<__main__.Cargar at 0x7fa60033d6a0>"
      ]
     },
     "execution_count": 238,
     "metadata": {},
     "output_type": "execute_result"
    }
   ],
   "source": [
    "cargar_tiburones"
   ]
  },
  {
   "cell_type": "code",
   "execution_count": 239,
   "metadata": {},
   "outputs": [
    {
     "name": "stdout",
     "output_type": "stream",
     "text": [
      "Conexión realizada con éxito\n",
      "CMySQLCursor: CREATE DATABASE IF NOT EXISTS tiburones;\n"
     ]
    }
   ],
   "source": [
    "cargar_tiburones.crear_bbdd()"
   ]
  },
  {
   "cell_type": "code",
   "execution_count": 240,
   "metadata": {},
   "outputs": [],
   "source": [
    "tabla_ataques = ''' CREATE TABLE IF NOT EXISTS `ataques` (\n",
    "    `id_ataques` INT NOT NULL AUTO_INCREMENT, \n",
    "    `case_number` VARCHAR(50) NOT NULL,\n",
    "    `year` INT NOT NULL, \n",
    "    `mes` VARCHAR(20) NOT NULL,\n",
    "    `type` VARCHAR(50) NOT NULL, \n",
    "    `country` VARCHAR(50) NOT NULL,  \n",
    "    `age` FLOAT NOT NULL,\n",
    "    `species` VARCHAR(50)  NOT NULL,\n",
    "    `fatal` VARCHAR (20) NOT NULL,\n",
    "    `sex` VARCHAR (20) NOT NULL,\n",
    "    PRIMARY KEY (`id_ataques`))\n",
    "    \n",
    "    ENGINE = InnoDB;\n",
    "    '''"
   ]
  },
  {
   "cell_type": "code",
   "execution_count": 241,
   "metadata": {},
   "outputs": [],
   "source": [
    "tabla_clima = ''' CREATE TABLE IF NOT EXISTS `clima` (\n",
    "    `id_clima` INT NOT NULL AUTO_INCREMENT, \n",
    "    `country` VARCHAR (50) NOT NULL,\n",
    "    `rh_950mb` FLOAT NOT NULL, \n",
    "    `rh_900mb` FLOAT NOT NULL, \n",
    "    `rh_850mb` FLOAT NOT NULL, \n",
    "    `rh_800mb` FLOAT NOT NULL, \n",
    "    `rh_750mb` FLOAT NOT NULL, \n",
    "    `rh_700mb` FLOAT NOT NULL,\n",
    "    `rh_650mb` FLOAT NOT NULL, \n",
    "    `rh_600mb` FLOAT NOT NULL, \n",
    "    `rh_550mb` FLOAT NOT NULL, \n",
    "    `rh_500mb` FLOAT NOT NULL, \n",
    "    `rh_450mb` FLOAT NOT NULL, \n",
    "    `rh_400mb` FLOAT NOT NULL,\n",
    "    `rh_350mb` FLOAT NOT NULL, \n",
    "    `rh_300mb` FLOAT NOT NULL, \n",
    "    `rh_250mb` FLOAT NOT NULL, \n",
    "    `rh_200mb` FLOAT NOT NULL, \n",
    "    `windspeed_950mb` FLOAT NOT NULL,\n",
    "    `windspeed_900mb` FLOAT NOT NULL, \n",
    "    `windspeed_850mb` FLOAT NOT NULL, \n",
    "    `windspeed_800mb` FLOAT NOT NULL,\n",
    "    `windspeed_750mb` FLOAT NOT NULL, \n",
    "    `windspeed_700mb` FLOAT NOT NULL, \n",
    "    `windspeed_650mb` FLOAT NOT NULL,\n",
    "    `windspeed_600mb` FLOAT NOT NULL, \n",
    "    `windspeed_550mb` FLOAT NOT NULL, \n",
    "    `windspeed_500mb` FLOAT NOT NULL,\n",
    "    `windspeed_450mb` FLOAT NOT NULL, \n",
    "    `windspeed_400mb` FLOAT NOT NULL, \n",
    "    `windspeed_350mb` FLOAT NOT NULL,\n",
    "    `windspeed_300mb` FLOAT NOT NULL, \n",
    "    `windspeed_250mb` FLOAT NOT NULL, \n",
    "    `windspeed_200mb` FLOAT NOT NULL, \n",
    "    `timepoint` FLOAT NOT NULL,\n",
    "    `cloudcover` FLOAT NOT NULL, \n",
    "    `highcloud` FLOAT NOT NULL, \n",
    "    `midcloud` FLOAT NOT NULL, \n",
    "    `lowcloud` FLOAT NOT NULL, \n",
    "    `temp2m` FLOAT NOT NULL, \n",
    "    `lifted_index` FLOAT NOT NULL, \n",
    "    `rh2m` FLOAT NOT NULL, \n",
    "    `msl_pressure` FLOAT NOT NULL,\n",
    "    `prec_amount` FLOAT NOT NULL, \n",
    "    `snow_depth` FLOAT NOT NULL, \n",
    "    `wind10m.direction` REAL DEFAULT NULL,\n",
    "    `wind10m.speed` FLOAT DEFAULT NULL, \n",
    "    `latitud` FLOAT NOT NULL, \n",
    "    `longitud` FLOAT NOT NULL, \n",
    "    `fecha_descarga` VARCHAR (20) NOT NULL,\n",
    "    PRIMARY KEY (`id_clima`))\n",
    "    \n",
    "    ENGINE = InnoDB;\n",
    "    '''"
   ]
  },
  {
   "cell_type": "markdown",
   "metadata": {},
   "source": [
    "Creamos tablas de nuestra bbdd 'tiburones'"
   ]
  },
  {
   "cell_type": "code",
   "execution_count": 242,
   "metadata": {},
   "outputs": [],
   "source": [
    "cargar_tiburones.crear_insertar_tabla(tabla_ataques)"
   ]
  },
  {
   "cell_type": "code",
   "execution_count": 243,
   "metadata": {},
   "outputs": [],
   "source": [
    "cargar_tiburones.crear_insertar_tabla(tabla_clima)"
   ]
  },
  {
   "cell_type": "markdown",
   "metadata": {},
   "source": [
    "Insertamos datos en nuestras tablas"
   ]
  },
  {
   "cell_type": "code",
   "execution_count": 244,
   "metadata": {},
   "outputs": [],
   "source": [
    "# Primero filtramos nuestro df para que nos de las querys solo de las columnas \n",
    "# que queremos agregar en nuestra tabla\n",
    "df_attacks = df_attack_meteo[['case_number',\n",
    " 'year',\n",
    " 'mes',\n",
    " 'country',\n",
    " 'type',\n",
    " 'age',\n",
    " 'sex',\n",
    " 'species',\n",
    " 'fatal']]"
   ]
  },
  {
   "cell_type": "code",
   "execution_count": 245,
   "metadata": {},
   "outputs": [
    {
     "data": {
      "text/html": [
       "<div>\n",
       "<style scoped>\n",
       "    .dataframe tbody tr th:only-of-type {\n",
       "        vertical-align: middle;\n",
       "    }\n",
       "\n",
       "    .dataframe tbody tr th {\n",
       "        vertical-align: top;\n",
       "    }\n",
       "\n",
       "    .dataframe thead th {\n",
       "        text-align: right;\n",
       "    }\n",
       "</style>\n",
       "<table border=\"1\" class=\"dataframe\">\n",
       "  <thead>\n",
       "    <tr style=\"text-align: right;\">\n",
       "      <th></th>\n",
       "      <th>case_number</th>\n",
       "      <th>year</th>\n",
       "      <th>mes</th>\n",
       "      <th>country</th>\n",
       "      <th>type</th>\n",
       "      <th>age</th>\n",
       "      <th>sex</th>\n",
       "      <th>species</th>\n",
       "      <th>fatal</th>\n",
       "    </tr>\n",
       "  </thead>\n",
       "  <tbody>\n",
       "    <tr>\n",
       "      <th>0</th>\n",
       "      <td>1791.00.00</td>\n",
       "      <td>1976</td>\n",
       "      <td>Unknown</td>\n",
       "      <td>australia</td>\n",
       "      <td>Unprovoked</td>\n",
       "      <td>27.28</td>\n",
       "      <td>F</td>\n",
       "      <td>UNKNOWN</td>\n",
       "      <td>y</td>\n",
       "    </tr>\n",
       "  </tbody>\n",
       "</table>\n",
       "</div>"
      ],
      "text/plain": [
       "  case_number  year      mes    country        type    age sex  species fatal\n",
       "0  1791.00.00  1976  Unknown  australia  Unprovoked  27.28   F  UNKNOWN     y"
      ]
     },
     "execution_count": 245,
     "metadata": {},
     "output_type": "execute_result"
    }
   ],
   "source": [
    "df_attacks.head(1)"
   ]
  },
  {
   "cell_type": "code",
   "execution_count": 246,
   "metadata": {},
   "outputs": [],
   "source": [
    "# tabla ataques: creamos la query que nos inserta datos en la tabla ataques\n",
    "\n",
    "for indice, fila in df_attacks.iterrows():\n",
    "    \n",
    "\n",
    "    query_ataques = f\"\"\"\n",
    "                INSERT INTO ataques (case_number, year, mes, type, country, age, species,\n",
    "                fatal, sex)\n",
    "                VALUES (\"{fila['case_number']}\", \"{fila[\"year\"]}\", \"{fila[\"mes\"]}\", \"{fila[\"type\"]}\", \"{fila[\"country\"]}\",\n",
    "                \"{fila[\"age\"]}\", \"{fila[\"species\"]}\", \"{fila[\"fatal\"]}\", \"{fila[\"sex\"]}\");\n",
    "                \"\"\"\n",
    "    \n",
    "    cargar_tiburones.crear_insertar_tabla(query_ataques)\n",
    "\n",
    "\n"
   ]
  },
  {
   "cell_type": "markdown",
   "metadata": {},
   "source": [
    "Para insertar los datos en la tabla clima podríamos filtrarlos a partir de nuestra tabla attacks_meteo donde ya tenemos toda la información recopilada. Sin embargo, esto incluiría agregar algunos pasos ya que nos agregaría todos los duplicados que tenemos. Por lo tanto, hemos decido insertar la información a partir de la tabla creada anteriormente llamada meteo_medias, donde tenemos solo las medias para cada país y fecha. "
   ]
  },
  {
   "cell_type": "code",
   "execution_count": 248,
   "metadata": {},
   "outputs": [],
   "source": [
    "df2 = pd.read_csv('../../datos/meteo_medias.csv', index_col=0)"
   ]
  },
  {
   "cell_type": "code",
   "execution_count": 249,
   "metadata": {},
   "outputs": [
    {
     "data": {
      "text/plain": [
       "(5, 49)"
      ]
     },
     "execution_count": 249,
     "metadata": {},
     "output_type": "execute_result"
    }
   ],
   "source": [
    "df2.shape"
   ]
  },
  {
   "cell_type": "code",
   "execution_count": 250,
   "metadata": {},
   "outputs": [
    {
     "data": {
      "text/html": [
       "<div>\n",
       "<style scoped>\n",
       "    .dataframe tbody tr th:only-of-type {\n",
       "        vertical-align: middle;\n",
       "    }\n",
       "\n",
       "    .dataframe tbody tr th {\n",
       "        vertical-align: top;\n",
       "    }\n",
       "\n",
       "    .dataframe thead th {\n",
       "        text-align: right;\n",
       "    }\n",
       "</style>\n",
       "<table border=\"1\" class=\"dataframe\">\n",
       "  <thead>\n",
       "    <tr style=\"text-align: right;\">\n",
       "      <th></th>\n",
       "      <th>pais</th>\n",
       "      <th>rh_950mb</th>\n",
       "      <th>rh_900mb</th>\n",
       "      <th>rh_850mb</th>\n",
       "      <th>rh_800mb</th>\n",
       "      <th>rh_750mb</th>\n",
       "      <th>rh_700mb</th>\n",
       "      <th>rh_650mb</th>\n",
       "      <th>rh_600mb</th>\n",
       "      <th>rh_550mb</th>\n",
       "      <th>...</th>\n",
       "      <th>lifted_index</th>\n",
       "      <th>rh2m</th>\n",
       "      <th>msl_pressure</th>\n",
       "      <th>prec_amount</th>\n",
       "      <th>snow_depth</th>\n",
       "      <th>wind10m.direction</th>\n",
       "      <th>wind10m.speed</th>\n",
       "      <th>latitud</th>\n",
       "      <th>longitud</th>\n",
       "      <th>fecha_descarga</th>\n",
       "    </tr>\n",
       "  </thead>\n",
       "  <tbody>\n",
       "    <tr>\n",
       "      <th>0</th>\n",
       "      <td>australia</td>\n",
       "      <td>12.6875</td>\n",
       "      <td>12.15625</td>\n",
       "      <td>9.625</td>\n",
       "      <td>5.40625</td>\n",
       "      <td>2.65625</td>\n",
       "      <td>1.6875</td>\n",
       "      <td>1.1875</td>\n",
       "      <td>0.6875</td>\n",
       "      <td>0.625</td>\n",
       "      <td>...</td>\n",
       "      <td>2.40625</td>\n",
       "      <td>10.265625</td>\n",
       "      <td>1022.328125</td>\n",
       "      <td>2.59375</td>\n",
       "      <td>0.0</td>\n",
       "      <td>1.642202e+151</td>\n",
       "      <td>3.09375</td>\n",
       "      <td>-24.776109</td>\n",
       "      <td>134.755</td>\n",
       "      <td>2022-09-18</td>\n",
       "    </tr>\n",
       "  </tbody>\n",
       "</table>\n",
       "<p>1 rows × 49 columns</p>\n",
       "</div>"
      ],
      "text/plain": [
       "        pais  rh_950mb  rh_900mb  rh_850mb  rh_800mb  rh_750mb  rh_700mb  \\\n",
       "0  australia   12.6875  12.15625     9.625   5.40625   2.65625    1.6875   \n",
       "\n",
       "   rh_650mb  rh_600mb  rh_550mb  ...  lifted_index       rh2m  msl_pressure  \\\n",
       "0    1.1875    0.6875     0.625  ...       2.40625  10.265625   1022.328125   \n",
       "\n",
       "   prec_amount  snow_depth  wind10m.direction  wind10m.speed    latitud  \\\n",
       "0      2.59375         0.0      1.642202e+151        3.09375 -24.776109   \n",
       "\n",
       "   longitud  fecha_descarga  \n",
       "0   134.755      2022-09-18  \n",
       "\n",
       "[1 rows x 49 columns]"
      ]
     },
     "execution_count": 250,
     "metadata": {},
     "output_type": "execute_result"
    }
   ],
   "source": [
    "df2.head(1)"
   ]
  },
  {
   "cell_type": "code",
   "execution_count": 252,
   "metadata": {},
   "outputs": [],
   "source": [
    "# tabla clima: creamos la query que nos inserte los datos en la tabla clima\n",
    "\n",
    "\n",
    "for indice, fila in df2.iterrows():\n",
    "\n",
    "    query_clima = f\"\"\"\n",
    "                INSERT INTO clima (country, rh_950mb, rh_900mb,\n",
    "                                    rh_850mb,\n",
    "                                    rh_800mb,\n",
    "                                    rh_750mb,\n",
    "                                    rh_700mb,\n",
    "                                    rh_650mb,\n",
    "                                    rh_600mb,\n",
    "                                    rh_550mb,\n",
    "                                    rh_500mb,\n",
    "                                    rh_450mb,\n",
    "                                    rh_400mb,\n",
    "                                    rh_350mb,\n",
    "                                    rh_300mb,\n",
    "                                    rh_250mb,\n",
    "                                    rh_200mb,\n",
    "                                    windspeed_950mb,\n",
    "                                    windspeed_900mb,\n",
    "                                    windspeed_850mb,\n",
    "                                    windspeed_800mb,\n",
    "                                    windspeed_750mb,\n",
    "                                    windspeed_700mb,\n",
    "                                    windspeed_650mb,\n",
    "                                    windspeed_600mb,\n",
    "                                    windspeed_550mb,\n",
    "                                    windspeed_500mb,\n",
    "                                    windspeed_450mb,\n",
    "                                    windspeed_400mb,\n",
    "                                    windspeed_350mb,\n",
    "                                    windspeed_300mb,\n",
    "                                    windspeed_250mb,\n",
    "                                    windspeed_200mb,\n",
    "                                    timepoint,\n",
    "                                    cloudcover,\n",
    "                                    highcloud,\n",
    "                                    midcloud,\n",
    "                                    lowcloud,\n",
    "                                    temp2m,\n",
    "                                    lifted_index,\n",
    "                                    rh2m,\n",
    "                                    msl_pressure,\n",
    "                                    prec_amount,\n",
    "                                    snow_depth,\n",
    "                                    latitud,\n",
    "                                    longitud,\n",
    "                                    fecha_descarga) \n",
    "                VALUES (\"{fila[\"pais\"]}\",\"{fila[\"rh_950mb\"]}\", \"{fila[\"rh_900mb\"]}\",\n",
    "                                    \"{fila[\"rh_850mb\"]}\",\n",
    "                                    \"{fila[\"rh_800mb\"]}\",\n",
    "                                    \"{fila[\"rh_750mb\"]}\",\n",
    "                                    \"{fila[\"rh_700mb\"]}\",\n",
    "                                    \"{fila[\"rh_650mb\"]}\",\n",
    "                                    \"{fila[\"rh_600mb\"]}\",\n",
    "                                    \"{fila[\"rh_550mb\"]}\",\n",
    "                                    \"{fila[\"rh_500mb\"]}\",\n",
    "                                    \"{fila[\"rh_450mb\"]}\",\n",
    "                                    \"{fila[\"rh_400mb\"]}\",\n",
    "                                    \"{fila[\"rh_350mb\"]}\",\n",
    "                                    \"{fila[\"rh_300mb\"]}\",\n",
    "                                    \"{fila[\"rh_250mb\"]}\",\n",
    "                                    \"{fila[\"rh_200mb\"]}\",\n",
    "                                    \"{fila[\"windspeed_950mb\"]}\",\n",
    "                                    \"{fila[\"windspeed_900mb\"]}\",\n",
    "                                    \"{fila[\"windspeed_850mb\"]}\",\n",
    "                                    \"{fila[\"windspeed_800mb\"]}\",\n",
    "                                    \"{fila[\"windspeed_750mb\"]}\",\n",
    "                                    \"{fila[\"windspeed_700mb\"]}\",\n",
    "                                    \"{fila[\"windspeed_650mb\"]}\",\n",
    "                                    \"{fila[\"windspeed_600mb\"]}\",\n",
    "                                    \"{fila[\"windspeed_550mb\"]}\",\n",
    "                                    \"{fila[\"windspeed_500mb\"]}\",\n",
    "                                    \"{fila[\"windspeed_450mb\"]}\",\n",
    "                                    \"{fila[\"windspeed_400mb\"]}\",\n",
    "                                    \"{fila[\"windspeed_350mb\"]}\",\n",
    "                                    \"{fila[\"windspeed_300mb\"]}\",\n",
    "                                    \"{fila[\"windspeed_250mb\"]}\",\n",
    "                                    \"{fila[\"windspeed_200mb\"]}\",\n",
    "                                    \"{fila[\"timepoint\"]}\",\n",
    "                                    \"{fila[\"cloudcover\"]}\",\n",
    "                                    \"{fila[\"highcloud\"]}\",\n",
    "                                    \"{fila[\"midcloud\"]}\",\n",
    "                                    \"{fila[\"lowcloud\"]}\",\n",
    "                                    \"{fila[\"temp2m\"]}\",\n",
    "                                    \"{fila[\"lifted_index\"]}\",\n",
    "                                    \"{fila[\"rh2m\"]}\",\n",
    "                                    \"{fila[\"msl_pressure\"]}\",\n",
    "                                    \"{fila[\"prec_amount\"]}\",\n",
    "                                    \"{fila[\"snow_depth\"]}\",\n",
    "                                    \"{fila[\"latitud\"]}\",\n",
    "                                    \"{fila[\"longitud\"]}\",\n",
    "                                    \"{fila['fecha_descarga']}\"\n",
    "                                    ) ;\n",
    "     \n",
    "               \"\"\"\n",
    "\n",
    "    cargar_tiburones.crear_insertar_tabla(query_clima)    "
   ]
  },
  {
   "cell_type": "markdown",
   "metadata": {},
   "source": [
    "Hemos logrado crear la base de datos, las tablas ataques y clima, y también hemos insertado los datos. A futuro nos gustaría agregar una tabla que sea países, donde incluiríamos los países con su latitud y longitud. De esta manera, podríamos eliminar redundancias en nuestra base de datos, como por ejemplo que la columna 'country' esté repetida tanto en ataques como clima. Haciendo este cambio, id_pais podría funcionar como foreign key en ambas tablas. "
   ]
  }
 ],
 "metadata": {
  "kernelspec": {
   "display_name": "Python 3.9.13 ('base')",
   "language": "python",
   "name": "python3"
  },
  "language_info": {
   "codemirror_mode": {
    "name": "ipython",
    "version": 3
   },
   "file_extension": ".py",
   "mimetype": "text/x-python",
   "name": "python",
   "nbconvert_exporter": "python",
   "pygments_lexer": "ipython3",
   "version": "3.9.13"
  },
  "orig_nbformat": 4,
  "vscode": {
   "interpreter": {
    "hash": "0620710c65b0f5ccc651a2aa8870ae0eb4c70492424a8d7866846658189426a3"
   }
  }
 },
 "nbformat": 4,
 "nbformat_minor": 2
}
