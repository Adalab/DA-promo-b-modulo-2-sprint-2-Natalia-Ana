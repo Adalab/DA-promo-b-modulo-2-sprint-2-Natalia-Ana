{
 "cells": [
  {
   "cell_type": "code",
   "execution_count": 2,
   "metadata": {},
   "outputs": [],
   "source": [
    "import pandas as pd\n",
    "import requests\n",
    "from datetime import datetime, timedelta\n",
    "import _mysql_connector"
   ]
  },
  {
   "cell_type": "code",
   "execution_count": 6,
   "metadata": {},
   "outputs": [
    {
     "data": {
      "text/plain": [
       "Index(['Unnamed: 0.1', 'case_number', 'year', 'type', 'country', 'area',\n",
       "       'location', 'activity', 'name', 'age', 'time', 'species_', 'href',\n",
       "       'injury', 'date', 'mes', 'fatal_', 'sex2', 'species_tipo', 'edad'],\n",
       "      dtype='object')"
      ]
     },
     "execution_count": 6,
     "metadata": {},
     "output_type": "execute_result"
    }
   ],
   "source": [
    "df = pd.read_csv(\"../datos/attack_limpio.csv\", index_col = 0)\n",
    "df.columns"
   ]
  },
  {
   "cell_type": "code",
   "execution_count": null,
   "metadata": {},
   "outputs": [],
   "source": [
    "class Cargar:\n",
    "    \n",
    "    def __init__(self, nombre_bbdd, contraseña):\n",
    "        # nuestra clase va a recibir dos parámetros que son fijos a lo largo de toda la BBDD, el nombre de la BBDD y \n",
    "        # la contraseña con el servidor. \n",
    "        self.nombre_bbdd = nombre_bbdd\n",
    "        self.contraseña = contraseña\n",
    "\n",
    "    # método para crear la BBDD \n",
    "    def crear_bbdd(self):\n",
    "\n",
    "        mydb = mysql.connector.connect(host=\"localhost\",\n",
    "                                       user=\"root\",\n",
    "                                       password=f'{self.contraseña}') \n",
    "        mycursor = mydb.cursor()\n",
    "        print(\"Conexión realizada con éxito\")\n",
    "\n",
    "        try:\n",
    "            mycursor.execute(f\"CREATE DATABASE IF NOT EXISTS {self.nombre_bbdd};\")\n",
    "            \n",
    "        except:\n",
    "            print(\"La BBDD ya existe\")\n",
    "            \n",
    "    # método para crear tablas  e insertar datos en ellas   \n",
    "    def crear_insertar_tabla(self, query):\n",
    "        \n",
    "        mydb = mysql.connector.connect(host=\"localhost\",\n",
    "                                       user=\"root\",\n",
    "                                       password=f'{self.contraseña}', \n",
    "                                       database=f\"{self.nombre_bbdd}\") \n",
    "        mycursor = mydb.cursor()\n",
    "        \n",
    "        try:\n",
    "            mycursor.execute(query)\n",
    "            mydb.commit()\n",
    "          \n",
    "        except mysql.connector.Error as err:\n",
    "            print(err)\n",
    "            print(\"Error Code:\", err.errno)\n",
    "            print(\"SQLSTATE\", err.sqlstate)\n",
    "            print(\"Message\", err.msg)\n",
    "            \n",
    "\n",
    "    # método para comprobar si la ciudad que estamos intentando meter ya existe en la BBDD. \n",
    "    # En caso de que ya exista no será necesario que la insertemos de nuevo\n",
    "    def check_pais (self):\n",
    "    \n",
    "        mydb = mysql.connector.connect(user='root',\n",
    "                                      password=f\"{self.contraseña}\",\n",
    "                                      host='127.0.0.1',\n",
    "                                      database=f\"{self.nombre_bbdd}\")\n",
    "        mycursor = mydb.cursor()\n",
    "\n",
    "        # query para extraer los valores únicos de ciudades de la tabla de localidades \n",
    "        query_existe_pais = f\"\"\"\n",
    "                SELECT DISTINCT pais FROM ataques\n",
    "                \"\"\"\n",
    "        mycursor.execute(query_existe_pais)\n",
    "        pais = mycursor.fetchall()\n",
    "        return pais\n",
    "    "
   ]
  },
  {
   "cell_type": "code",
   "execution_count": null,
   "metadata": {},
   "outputs": [],
   "source": [
    "# tabla ataques\n",
    "\n",
    "for indice, fila in df.iterrows():\n",
    "    \n",
    "    # creamos la query que no inserta datos en la tabla localidades\n",
    "    query_ataques = f\"\"\"\n",
    "                INSERT INTO ataques ('year', 'type', 'country', 'area',\n",
    "       'location', 'activity', 'name', 'age', 'time', 'species_', 'href',\n",
    "       'injury', 'date', 'mes', 'fatal_', 'sex2', 'species_tipo', 'edad') \n",
    "                VALUES (\"{fila[\"year\"]}\", \"{fila[\"type\"]}\", \"{fila[\"country\"]}\",\"{fila[\"area\"]}\", \"{fila[\"location\"]}\", \"{fila[\"activity\"]}\",\n",
    "                \"{fila[\"name\"]}\", \"{fila[\"age\"]}\", \"{fila[\"time\"]}\", \"{fila[\"specie_\"]}, \"{fila[\"href\"]}\", \"{fila[\"injury\"]}\",\n",
    "                \"{fila[\"date\"]}\", \"{fila[\"mes\"]}\", \"{fila[\"fatal\"]}\", \"{fila[\"sex2\"]}\", \"{fila[\"species_tipo\"]}\", \"{fila[\"edad\"]}\");\n",
    "                \"\"\"\n",
    "    # llamamos a la funcion check_ciudades para saber que ciudades tenemos en la BBDD\n",
    "    pais = carga.check_pais()\n",
    "    \n",
    "    # Si la BBDD de datos esta vacía,  podemos insertar la ciudad. \n",
    " \n",
    "    if len(pais) == 0 or fila['pais'] not in pais[0]: \n",
    "        carga.crear_insertar_tabla( query_ataques)\n",
    "\n",
    "    else:\n",
    "        print(f\"{fila['pais']} ya esta en nuestra BBDD\")"
   ]
  },
  {
   "cell_type": "code",
   "execution_count": null,
   "metadata": {},
   "outputs": [],
   "source": [
    "tabla_ataques = ''' CREATE TABLE IF NOT EXISTS `ataques` (\n",
    "    `id_ataques` INT NOT NULL AUTO_INCREMENT, \n",
    "    `year` INT NOT NULL, \n",
    "    `type` VARCHAR(50) DEFAULT NULL, \n",
    "    `country` VARCHAR(50) DEFAULT NULL,  \n",
    "    `age` FLOAT DEFAULT NULL,\n",
    "    `species_` VARCHAR(50) DEFAULT NULL,\n",
    "    `fecha_limpia` VARCHAR (10) DEFAULT NULL,\n",
    "    `fatal` CHAR (1) DEFAULT NULL,\n",
    "    `sex` CHAR (1) DEFAULT NULL,\n",
    "    `activity` VARCHAR (250) DEFAULT NULL,\n",
    "    PRIMARY KEY (`id_ataques`))\n",
    "    \n",
    "    ENGINE = InnoDB;\n",
    "    '''"
   ]
  },
  {
   "cell_type": "code",
   "execution_count": null,
   "metadata": {},
   "outputs": [],
   "source": [
    "# tabla mediciones\n",
    "\n",
    "for indice, fila in df.iterrows():\n",
    "    \n",
    "    id_ciudad = carga.sacar_id_ciudad(fila['ciudad'])\n",
    "    id_fecha = carga.sacar_id_fecha( fila[\"timepoint\"], fila[\"fecha\"])\n",
    "    \n",
    "    query_medidas = f\"\"\"\n",
    "                INSERT INTO mediciones (cloudcover, lifted_index, prec_type, prec_amount, temp2m, rh2m, weather, wind_direction, wind_speed, seeing, transparency, idtiempo, idlocalidad) \n",
    "                VALUES ({fila[\"cloudcover\"]}, {fila['lifted_index']}, \"{fila['prec_type']}\", {fila['prec_amount']},{fila['temp2m']},{fila['rh2m']}, \"{fila['weather']}\",\"{fila['wind10m.direction']}\",{fila['wind10m.speed']}, {fila['seeing']}, {fila['transparency']}, {id_fecha}, {id_ciudad});\n",
    "                \"\"\"\n",
    "    carga.crear_insertar_tabla( query_medidas)\n",
    "    "
   ]
  }
 ],
 "metadata": {
  "kernelspec": {
   "display_name": "Python 3.9.7 ('base')",
   "language": "python",
   "name": "python3"
  },
  "language_info": {
   "codemirror_mode": {
    "name": "ipython",
    "version": 3
   },
   "file_extension": ".py",
   "mimetype": "text/x-python",
   "name": "python",
   "nbconvert_exporter": "python",
   "pygments_lexer": "ipython3",
   "version": "3.9.7"
  },
  "orig_nbformat": 4,
  "vscode": {
   "interpreter": {
    "hash": "ef996a58dd4038b19127a5b342ff558a720418179ddf7c29df6339888c2ae8ac"
   }
  }
 },
 "nbformat": 4,
 "nbformat_minor": 2
}
