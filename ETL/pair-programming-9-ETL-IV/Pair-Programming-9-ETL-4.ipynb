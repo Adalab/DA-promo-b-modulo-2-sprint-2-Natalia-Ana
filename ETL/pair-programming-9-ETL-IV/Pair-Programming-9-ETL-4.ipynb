{
 "cells": [
  {
   "cell_type": "code",
   "execution_count": 28,
   "metadata": {},
   "outputs": [],
   "source": [
    "import pandas as pd\n",
    "import numpy as np\n",
    "import requests\n",
    "import ast \n",
    "import datetime\n",
    "import mysql.connector"
   ]
  },
  {
   "cell_type": "markdown",
   "metadata": {},
   "source": [
    "1. Cread la BBDD con el nombre de tiburones.\n",
    "\n",
    "2. Cread las tablas de la BBDD:\n",
    "\n",
    " - Tabla ataques\n",
    "\n",
    " - Tabla clima"
   ]
  },
  {
   "cell_type": "markdown",
   "metadata": {},
   "source": [
    "1. Cread la BBDD con el nombre de tiburones."
   ]
  },
  {
   "cell_type": "code",
   "execution_count": 29,
   "metadata": {},
   "outputs": [],
   "source": [
    "def crear_bbdd(nombre_bbdd):\n",
    "\n",
    "    mydb = mysql.connector.connect(\n",
    "    host=\"127.0.0.1\",\n",
    "    user=\"root\",\n",
    "    password=\"AlumnaAdalab\" # aquí tendréis que poner vuestra contraseña de MySQL\n",
    "    )\n",
    "    print(\"Conexión realizada con éxito\")\n",
    "\n",
    "    mycursor = mydb.cursor()\n",
    "\n",
    "    try:\n",
    "        mycursor.execute(f\"CREATE DATABASE IF NOT EXISTS {nombre_bbdd};\")\n",
    "        print(mycursor)\n",
    "    except mysql.connector.Error as err:\n",
    "        print(err)\n",
    "        print(\"Error Code:\", err.errno)\n",
    "        print(\"SQLSTATE\", err.sqlstate)\n",
    "        print(\"Message\", err.msg) "
   ]
  },
  {
   "cell_type": "code",
   "execution_count": 30,
   "metadata": {},
   "outputs": [],
   "source": [
    "bbdd = \"tiburones\""
   ]
  },
  {
   "cell_type": "code",
   "execution_count": 31,
   "metadata": {},
   "outputs": [
    {
     "name": "stdout",
     "output_type": "stream",
     "text": [
      "Conexión realizada con éxito\n",
      "CMySQLCursor: CREATE DATABASE IF NOT EXISTS tiburones;\n"
     ]
    }
   ],
   "source": [
    "tiburones = crear_bbdd(bbdd)"
   ]
  },
  {
   "cell_type": "markdown",
   "metadata": {},
   "source": [
    "2. Cread las tablas de la BBDD:\n",
    "\n",
    " - Tabla ataques\n",
    "\n",
    " - Tabla clima"
   ]
  },
  {
   "cell_type": "code",
   "execution_count": 32,
   "metadata": {},
   "outputs": [],
   "source": [
    "def crear_insertar_tabla(nombre_bbdd, contraseña, query):\n",
    "\n",
    "# nos conectamsos con el servidor usando el conector de sql\n",
    "    cnx = mysql.connector.connect(user='root', password=f\"{contraseña}\",\n",
    "    host='127.0.0.1', database=f\"{nombre_bbdd}\")\n",
    "# iniciamos el cursor\n",
    "    mycursor = cnx.cursor()\n",
    "\n",
    "# intentamos hacer la query\n",
    "    try: \n",
    "        mycursor.execute(query)\n",
    "        cnx.commit() \n",
    "# en caso de que podamos ejecutar la query devuelvenos un error para saber en que nos estamos equivocando\n",
    "    except mysql.connector.Error as err:\n",
    "        print(err)\n",
    "        print(\"Error Code:\", err.errno)\n",
    "        print(\"SQLSTATE\", err.sqlstate)\n",
    "        print(\"Message\", err.msg) "
   ]
  },
  {
   "cell_type": "markdown",
   "metadata": {},
   "source": [
    " - Query Tabla ataques"
   ]
  },
  {
   "cell_type": "code",
   "execution_count": 33,
   "metadata": {},
   "outputs": [],
   "source": [
    "tabla_ataques = ''' CREATE TABLE IF NOT EXISTS `ataques` (\n",
    "    `id_ataques` INT NOT NULL AUTO_INCREMENT, \n",
    "    `case_number` VARCHAR(50) NOT NULL,\n",
    "    `year` INT NOT NULL, \n",
    "    `mes` VARCHAR(20) NOT NULL,\n",
    "    `type` VARCHAR(50) NOT NULL, \n",
    "    `country` VARCHAR(50) NOT NULL,  \n",
    "    `age` FLOAT NOT NULL,\n",
    "    `species` VARCHAR(50)  NOT NULL,\n",
    "    `fatal` VARCHAR (20) NOT NULL,\n",
    "    `sex` VARCHAR (20) NOT NULL,\n",
    "    PRIMARY KEY (`id_ataques`))\n",
    "    \n",
    "    ENGINE = InnoDB;\n",
    "    '''"
   ]
  },
  {
   "cell_type": "code",
   "execution_count": 34,
   "metadata": {},
   "outputs": [],
   "source": [
    "tabla_clima = ''' CREATE TABLE IF NOT EXISTS `clima` (\n",
    "    `id_clima` INT NOT NULL AUTO_INCREMENT, \n",
    "    `rh_950mb` INT NOT NULL, \n",
    "    `rh_900mb` INT NOT NULL, \n",
    "    `rh_850mb` INT NOT NULL, \n",
    "    `rh_800mb` INT NOT NULL, \n",
    "    `rh_750mb` INT NOT NULL, \n",
    "    `rh_700mb` INT NOT NULL,\n",
    "    `rh_650mb` INT NOT NULL, \n",
    "    `rh_600mb` INT NOT NULL, \n",
    "    `rh_550mb` INT NOT NULL, \n",
    "    `rh_500mb` INT NOT NULL, \n",
    "    `rh_450mb` INT NOT NULL, \n",
    "    `rh_400mb` INT NOT NULL,\n",
    "    `rh_350mb` INT NOT NULL, \n",
    "    `rh_300mb` INT NOT NULL, \n",
    "    `rh_250mb` INT NOT NULL, \n",
    "    `rh_200mb` INT NOT NULL, \n",
    "    `windspeed_950mb` INT NOT NULL,\n",
    "    `windspeed_900mb` INT NOT NULL, \n",
    "    `windspeed_850mb` INT NOT NULL, \n",
    "    `windspeed_800mb` INT NOT NULL,\n",
    "    `windspeed_750mb` INT NOT NULL, \n",
    "    `windspeed_700mb` INT NOT NULL, \n",
    "    `windspeed_650mb` INT NOT NULL,\n",
    "    `windspeed_600mb` INT NOT NULL, \n",
    "    `windspeed_550mb` INT NOT NULL, \n",
    "    `windspeed_500mb` INT NOT NULL,\n",
    "    `windspeed_450mb` INT NOT NULL, \n",
    "    `windspeed_400mb` INT NOT NULL, \n",
    "    `windspeed_350mb` INT NOT NULL,\n",
    "    `windspeed_300mb` INT NOT NULL, \n",
    "    `windspeed_250mb` INT NOT NULL, \n",
    "    `windspeed_200mb` INT NOT NULL, \n",
    "    `timepoint` INT NOT NULL,\n",
    "    `cloudcover` INT NOT NULL, \n",
    "    `highcloud` INT NOT NULL, \n",
    "    `midcloud` INT NOT NULL, \n",
    "    `lowcloud` INT NOT NULL, \n",
    "    `temp2m` INT NOT NULL, \n",
    "    `lifted_index` INT NOT NULL, \n",
    "    `rh2m` INT NOT NULL, \n",
    "    `msl_pressure` INT NOT NULL,\n",
    "    `prec_type` VARCHAR(50)NOT NULL, \n",
    "    `prec_amount` INT NOT NULL, \n",
    "    `snow_depth` INT NOT NULL, \n",
    "    `wind10m.direction` INT NOT NULL,\n",
    "    `wind10m.speed` INT NOT NULL, \n",
    "    `latitud` FLOAT NOT NULL, \n",
    "    `longitud` FLOAT NOT NULL, \n",
    "    `country` VARCHAR (50) NOT NULL,\n",
    "    `fecha_descarga` VARCHAR (20) NOT NULL,\n",
    "    PRIMARY KEY (`id_clima`))\n",
    "    \n",
    "    ENGINE = InnoDB;\n",
    "    '''"
   ]
  },
  {
   "cell_type": "code",
   "execution_count": 35,
   "metadata": {},
   "outputs": [],
   "source": [
    "crear_insertar_tabla(bbdd, contraseña = 'AlumnaAdalab', query = tabla_ataques)"
   ]
  },
  {
   "cell_type": "code",
   "execution_count": 36,
   "metadata": {},
   "outputs": [],
   "source": [
    "crear_insertar_tabla(bbdd, contraseña = 'AlumnaAdalab', query = tabla_clima)"
   ]
  }
 ],
 "metadata": {
  "kernelspec": {
   "display_name": "Python 3.9.13 ('base')",
   "language": "python",
   "name": "python3"
  },
  "language_info": {
   "codemirror_mode": {
    "name": "ipython",
    "version": 3
   },
   "file_extension": ".py",
   "mimetype": "text/x-python",
   "name": "python",
   "nbconvert_exporter": "python",
   "pygments_lexer": "ipython3",
   "version": "3.9.13"
  },
  "orig_nbformat": 4,
  "vscode": {
   "interpreter": {
    "hash": "0620710c65b0f5ccc651a2aa8870ae0eb4c70492424a8d7866846658189426a3"
   }
  }
 },
 "nbformat": 4,
 "nbformat_minor": 2
}
